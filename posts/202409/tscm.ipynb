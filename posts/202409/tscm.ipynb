{
 "cells": [
  {
   "cell_type": "raw",
   "metadata": {
    "vscode": {
     "languageId": "raw"
    }
   },
   "source": [
    "---\n",
    "title: \"Financial time series: a journey from code to maths, and back\"\n",
    "author: Xiaochuan Yang\n",
    "date: '2024-09-15'\n",
    "draft: true\n",
    "categories: [time series, python]\n",
    "format:\n",
    "  html:\n",
    "    code-line-numbers: false\n",
    "---"
   ]
  },
  {
   "cell_type": "markdown",
   "metadata": {},
   "source": [
    "## ARCH model\n",
    "\n",
    "The ARCH model is widely used to model financial return time series. \n",
    "We always denote a generic time series by $(Y_t)$.\n",
    "ARCH model is a specification of the conditional variance of $Y_t$ given its history $\\mathcal F_{t-1}$\n",
    "by the following equation: \n",
    "$$\\mathrm{Var}[Y_t| \\mathcal F_{t-1}] = \\omega + \\alpha Y_{t-1}^2.$$\n",
    "\n",
    "In code, it is straightforward to define the ARCH model with the `arch` library. "
   ]
  },
  {
   "cell_type": "markdown",
   "metadata": {},
   "source": [
    "## `arch` library"
   ]
  },
  {
   "cell_type": "code",
   "execution_count": 1,
   "metadata": {},
   "outputs": [],
   "source": [
    "import numpy as np\n",
    "from arch import arch_model"
   ]
  },
  {
   "cell_type": "code",
   "execution_count": 9,
   "metadata": {},
   "outputs": [],
   "source": [
    "rng = np.random.default_rng(41)\n",
    "y = rng.normal(0,np.arange(500)*0.2,size=(500,))\n",
    "mod = arch_model(y, mean='zero', q=0)\n",
    "res = mod.fit(disp=\"off\")\n",
    "fcst = res.forecast(horizon=50, method=\"bootstrap\", simulations=3)"
   ]
  },
  {
   "cell_type": "markdown",
   "metadata": {},
   "source": [
    "Above  we exposed the main classes of the library.    \n",
    "- `arch_model` is a convenience model constructor function with which one can specify the the mean process, the volatility (aka conditional standard deviation), the noise distribution (adhere to `scipy.stats`).\n",
    "- `mod.fit()` resturns a result container: one can inspect residuals, standardised residuals, volatilities of the fit model.  \n",
    "- `res.forecast()` resturns a forecast container: one can make forecast of future paths, future conditonal variance etc. "
   ]
  },
  {
   "cell_type": "code",
   "execution_count": 10,
   "metadata": {},
   "outputs": [
    {
     "data": {
      "text/plain": [
       "(arch.univariate.mean.ZeroMean,\n",
       " arch.univariate.base.ARCHModelResult,\n",
       " arch.univariate.base.ARCHModelForecast)"
      ]
     },
     "execution_count": 10,
     "metadata": {},
     "output_type": "execute_result"
    }
   ],
   "source": [
    "type(mod), type(res), type(fcst)"
   ]
  },
  {
   "cell_type": "code",
   "execution_count": 11,
   "metadata": {},
   "outputs": [
    {
     "data": {
      "text/html": [
       "<table class=\"simpletable\">\n",
       "<caption>Zero Mean - ARCH Model Results</caption>\n",
       "<tr>\n",
       "  <th>Dep. Variable:</th>          <td>y</td>         <th>  R-squared:         </th>  <td>   0.000</td> \n",
       "</tr>\n",
       "<tr>\n",
       "  <th>Mean Model:</th>         <td>Zero Mean</td>     <th>  Adj. R-squared:    </th>  <td>   0.002</td> \n",
       "</tr>\n",
       "<tr>\n",
       "  <th>Vol Model:</th>            <td>ARCH</td>        <th>  Log-Likelihood:    </th> <td>  -2719.79</td>\n",
       "</tr>\n",
       "<tr>\n",
       "  <th>Distribution:</th>        <td>Normal</td>       <th>  AIC:               </th> <td>   5443.58</td>\n",
       "</tr>\n",
       "<tr>\n",
       "  <th>Method:</th>        <td>Maximum Likelihood</td> <th>  BIC:               </th> <td>   5452.01</td>\n",
       "</tr>\n",
       "<tr>\n",
       "  <th></th>                        <td></td>          <th>  No. Observations:  </th>     <td>500</td>   \n",
       "</tr>\n",
       "<tr>\n",
       "  <th>Date:</th>           <td>Mon, Sep 16 2024</td>  <th>  Df Residuals:      </th>     <td>500</td>   \n",
       "</tr>\n",
       "<tr>\n",
       "  <th>Time:</th>               <td>22:03:10</td>      <th>  Df Model:          </th>      <td>0</td>    \n",
       "</tr>\n",
       "</table>\n",
       "<table class=\"simpletable\">\n",
       "<caption>Volatility Model</caption>\n",
       "<tr>\n",
       "      <td></td>        <th>coef</th>     <th>std err</th>      <th>t</th>       <th>P>|t|</th>     <th>95.0% Conf. Int.</th>   \n",
       "</tr>\n",
       "<tr>\n",
       "  <th>omega</th>    <td> 2082.8286</td> <td>  396.923</td> <td>    5.247</td> <td>1.542e-07</td> <td>[1.305e+03,2.861e+03]</td>\n",
       "</tr>\n",
       "<tr>\n",
       "  <th>alpha[1]</th> <td>    0.4962</td> <td>    0.174</td> <td>    2.850</td> <td>4.377e-03</td>   <td>[  0.155,  0.838]</td>  \n",
       "</tr>\n",
       "</table><br/><br/>Covariance estimator: robust"
      ],
      "text/latex": [
       "\\begin{center}\n",
       "\\begin{tabular}{lclc}\n",
       "\\toprule\n",
       "\\textbf{Dep. Variable:} &         y          & \\textbf{  R-squared:         } &     0.000   \\\\\n",
       "\\textbf{Mean Model:}    &     Zero Mean      & \\textbf{  Adj. R-squared:    } &     0.002   \\\\\n",
       "\\textbf{Vol Model:}     &        ARCH        & \\textbf{  Log-Likelihood:    } &   -2719.79  \\\\\n",
       "\\textbf{Distribution:}  &       Normal       & \\textbf{  AIC:               } &    5443.58  \\\\\n",
       "\\textbf{Method:}        & Maximum Likelihood & \\textbf{  BIC:               } &    5452.01  \\\\\n",
       "\\textbf{}               &                    & \\textbf{  No. Observations:  } &    500      \\\\\n",
       "\\textbf{Date:}          &  Mon, Sep 16 2024  & \\textbf{  Df Residuals:      } &    500      \\\\\n",
       "\\textbf{Time:}          &      22:03:10      & \\textbf{  Df Model:          } &     0       \\\\\n",
       "\\bottomrule\n",
       "\\end{tabular}\n",
       "\\begin{tabular}{lccccc}\n",
       "                  & \\textbf{coef} & \\textbf{std err} & \\textbf{t} & \\textbf{P$> |$t$|$} & \\textbf{95.0\\% Conf. Int.}  \\\\\n",
       "\\midrule\n",
       "\\textbf{omega}    &    2082.8286  &      396.923     &     5.247  &      1.542e-07       &   [1.305e+03,2.861e+03]     \\\\\n",
       "\\textbf{alpha[1]} &       0.4962  &        0.174     &     2.850  &      4.377e-03       &     [  0.155,  0.838]       \\\\\n",
       "\\bottomrule\n",
       "\\end{tabular}\n",
       "%\\caption{Zero Mean - ARCH Model Results}\n",
       "\\end{center}\n",
       "\n",
       "Covariance estimator: robust"
      ],
      "text/plain": [
       "<class 'statsmodels.iolib.summary.Summary'>\n",
       "\"\"\"\n",
       "                        Zero Mean - ARCH Model Results                        \n",
       "==============================================================================\n",
       "Dep. Variable:                      y   R-squared:                       0.000\n",
       "Mean Model:                 Zero Mean   Adj. R-squared:                  0.002\n",
       "Vol Model:                       ARCH   Log-Likelihood:               -2719.79\n",
       "Distribution:                  Normal   AIC:                           5443.58\n",
       "Method:            Maximum Likelihood   BIC:                           5452.01\n",
       "                                        No. Observations:                  500\n",
       "Date:                Mon, Sep 16 2024   Df Residuals:                      500\n",
       "Time:                        22:03:10   Df Model:                            0\n",
       "                              Volatility Model                              \n",
       "============================================================================\n",
       "                 coef    std err          t      P>|t|      95.0% Conf. Int.\n",
       "----------------------------------------------------------------------------\n",
       "omega       2082.8286    396.923      5.247  1.542e-07 [1.305e+03,2.861e+03]\n",
       "alpha[1]       0.4962      0.174      2.850  4.377e-03     [  0.155,  0.838]\n",
       "============================================================================\n",
       "\n",
       "Covariance estimator: robust\n",
       "\"\"\""
      ]
     },
     "execution_count": 11,
     "metadata": {},
     "output_type": "execute_result"
    }
   ],
   "source": [
    "res.summary()"
   ]
  },
  {
   "cell_type": "code",
   "execution_count": 12,
   "metadata": {},
   "outputs": [
    {
     "data": {
      "application/javascript": "(function(root) {\n  function now() {\n    return new Date();\n  }\n\n  var force = true;\n  var py_version = '3.4.2'.replace('rc', '-rc.').replace('.dev', '-dev.');\n  var reloading = false;\n  var Bokeh = root.Bokeh;\n\n  if (typeof (root._bokeh_timeout) === \"undefined\" || force) {\n    root._bokeh_timeout = Date.now() + 5000;\n    root._bokeh_failed_load = false;\n  }\n\n  function run_callbacks() {\n    try {\n      root._bokeh_onload_callbacks.forEach(function(callback) {\n        if (callback != null)\n          callback();\n      });\n    } finally {\n      delete root._bokeh_onload_callbacks;\n    }\n    console.debug(\"Bokeh: all callbacks have finished\");\n  }\n\n  function load_libs(css_urls, js_urls, js_modules, js_exports, callback) {\n    if (css_urls == null) css_urls = [];\n    if (js_urls == null) js_urls = [];\n    if (js_modules == null) js_modules = [];\n    if (js_exports == null) js_exports = {};\n\n    root._bokeh_onload_callbacks.push(callback);\n\n    if (root._bokeh_is_loading > 0) {\n      console.debug(\"Bokeh: BokehJS is being loaded, scheduling callback at\", now());\n      return null;\n    }\n    if (js_urls.length === 0 && js_modules.length === 0 && Object.keys(js_exports).length === 0) {\n      run_callbacks();\n      return null;\n    }\n    if (!reloading) {\n      console.debug(\"Bokeh: BokehJS not loaded, scheduling load and callback at\", now());\n    }\n\n    function on_load() {\n      root._bokeh_is_loading--;\n      if (root._bokeh_is_loading === 0) {\n        console.debug(\"Bokeh: all BokehJS libraries/stylesheets loaded\");\n        run_callbacks()\n      }\n    }\n    window._bokeh_on_load = on_load\n\n    function on_error() {\n      console.error(\"failed to load \" + url);\n    }\n\n    var skip = [];\n    if (window.requirejs) {\n      window.requirejs.config({'packages': {}, 'paths': {}, 'shim': {}});\n      root._bokeh_is_loading = css_urls.length + 0;\n    } else {\n      root._bokeh_is_loading = css_urls.length + js_urls.length + js_modules.length + Object.keys(js_exports).length;\n    }\n\n    var existing_stylesheets = []\n    var links = document.getElementsByTagName('link')\n    for (var i = 0; i < links.length; i++) {\n      var link = links[i]\n      if (link.href != null) {\n\texisting_stylesheets.push(link.href)\n      }\n    }\n    for (var i = 0; i < css_urls.length; i++) {\n      var url = css_urls[i];\n      if (existing_stylesheets.indexOf(url) !== -1) {\n\ton_load()\n\tcontinue;\n      }\n      const element = document.createElement(\"link\");\n      element.onload = on_load;\n      element.onerror = on_error;\n      element.rel = \"stylesheet\";\n      element.type = \"text/css\";\n      element.href = url;\n      console.debug(\"Bokeh: injecting link tag for BokehJS stylesheet: \", url);\n      document.body.appendChild(element);\n    }    var existing_scripts = []\n    var scripts = document.getElementsByTagName('script')\n    for (var i = 0; i < scripts.length; i++) {\n      var script = scripts[i]\n      if (script.src != null) {\n\texisting_scripts.push(script.src)\n      }\n    }\n    for (var i = 0; i < js_urls.length; i++) {\n      var url = js_urls[i];\n      if (skip.indexOf(url) !== -1 || existing_scripts.indexOf(url) !== -1) {\n\tif (!window.requirejs) {\n\t  on_load();\n\t}\n\tcontinue;\n      }\n      var element = document.createElement('script');\n      element.onload = on_load;\n      element.onerror = on_error;\n      element.async = false;\n      element.src = url;\n      console.debug(\"Bokeh: injecting script tag for BokehJS library: \", url);\n      document.head.appendChild(element);\n    }\n    for (var i = 0; i < js_modules.length; i++) {\n      var url = js_modules[i];\n      if (skip.indexOf(url) !== -1 || existing_scripts.indexOf(url) !== -1) {\n\tif (!window.requirejs) {\n\t  on_load();\n\t}\n\tcontinue;\n      }\n      var element = document.createElement('script');\n      element.onload = on_load;\n      element.onerror = on_error;\n      element.async = false;\n      element.src = url;\n      element.type = \"module\";\n      console.debug(\"Bokeh: injecting script tag for BokehJS library: \", url);\n      document.head.appendChild(element);\n    }\n    for (const name in js_exports) {\n      var url = js_exports[name];\n      if (skip.indexOf(url) >= 0 || root[name] != null) {\n\tif (!window.requirejs) {\n\t  on_load();\n\t}\n\tcontinue;\n      }\n      var element = document.createElement('script');\n      element.onerror = on_error;\n      element.async = false;\n      element.type = \"module\";\n      console.debug(\"Bokeh: injecting script tag for BokehJS library: \", url);\n      element.textContent = `\n      import ${name} from \"${url}\"\n      window.${name} = ${name}\n      window._bokeh_on_load()\n      `\n      document.head.appendChild(element);\n    }\n    if (!js_urls.length && !js_modules.length) {\n      on_load()\n    }\n  };\n\n  function inject_raw_css(css) {\n    const element = document.createElement(\"style\");\n    element.appendChild(document.createTextNode(css));\n    document.body.appendChild(element);\n  }\n\n  var js_urls = [\"https://cdn.bokeh.org/bokeh/release/bokeh-3.4.2.min.js\", \"https://cdn.bokeh.org/bokeh/release/bokeh-gl-3.4.2.min.js\", \"https://cdn.bokeh.org/bokeh/release/bokeh-widgets-3.4.2.min.js\", \"https://cdn.bokeh.org/bokeh/release/bokeh-tables-3.4.2.min.js\", \"https://cdn.holoviz.org/panel/1.4.5/dist/panel.min.js\"];\n  var js_modules = [];\n  var js_exports = {};\n  var css_urls = [];\n  var inline_js = [    function(Bokeh) {\n      Bokeh.set_log_level(\"info\");\n    },\nfunction(Bokeh) {} // ensure no trailing comma for IE\n  ];\n\n  function run_inline_js() {\n    if ((root.Bokeh !== undefined) || (force === true)) {\n      for (var i = 0; i < inline_js.length; i++) {\n\ttry {\n          inline_js[i].call(root, root.Bokeh);\n\t} catch(e) {\n\t  if (!reloading) {\n\t    throw e;\n\t  }\n\t}\n      }\n      // Cache old bokeh versions\n      if (Bokeh != undefined && !reloading) {\n\tvar NewBokeh = root.Bokeh;\n\tif (Bokeh.versions === undefined) {\n\t  Bokeh.versions = new Map();\n\t}\n\tif (NewBokeh.version !== Bokeh.version) {\n\t  Bokeh.versions.set(NewBokeh.version, NewBokeh)\n\t}\n\troot.Bokeh = Bokeh;\n      }} else if (Date.now() < root._bokeh_timeout) {\n      setTimeout(run_inline_js, 100);\n    } else if (!root._bokeh_failed_load) {\n      console.log(\"Bokeh: BokehJS failed to load within specified timeout.\");\n      root._bokeh_failed_load = true;\n    }\n    root._bokeh_is_initializing = false\n  }\n\n  function load_or_wait() {\n    // Implement a backoff loop that tries to ensure we do not load multiple\n    // versions of Bokeh and its dependencies at the same time.\n    // In recent versions we use the root._bokeh_is_initializing flag\n    // to determine whether there is an ongoing attempt to initialize\n    // bokeh, however for backward compatibility we also try to ensure\n    // that we do not start loading a newer (Panel>=1.0 and Bokeh>3) version\n    // before older versions are fully initialized.\n    if (root._bokeh_is_initializing && Date.now() > root._bokeh_timeout) {\n      root._bokeh_is_initializing = false;\n      root._bokeh_onload_callbacks = undefined;\n      console.log(\"Bokeh: BokehJS was loaded multiple times but one version failed to initialize.\");\n      load_or_wait();\n    } else if (root._bokeh_is_initializing || (typeof root._bokeh_is_initializing === \"undefined\" && root._bokeh_onload_callbacks !== undefined)) {\n      setTimeout(load_or_wait, 100);\n    } else {\n      root._bokeh_is_initializing = true\n      root._bokeh_onload_callbacks = []\n      var bokeh_loaded = Bokeh != null && (Bokeh.version === py_version || (Bokeh.versions !== undefined && Bokeh.versions.has(py_version)));\n      if (!reloading && !bokeh_loaded) {\n\troot.Bokeh = undefined;\n      }\n      load_libs(css_urls, js_urls, js_modules, js_exports, function() {\n\tconsole.debug(\"Bokeh: BokehJS plotting callback run at\", now());\n\trun_inline_js();\n      });\n    }\n  }\n  // Give older versions of the autoload script a head-start to ensure\n  // they initialize before we start loading newer version.\n  setTimeout(load_or_wait, 100)\n}(window));",
      "application/vnd.holoviews_load.v0+json": ""
     },
     "metadata": {},
     "output_type": "display_data"
    },
    {
     "data": {
      "application/javascript": "\nif ((window.PyViz === undefined) || (window.PyViz instanceof HTMLElement)) {\n  window.PyViz = {comms: {}, comm_status:{}, kernels:{}, receivers: {}, plot_index: []}\n}\n\n\n    function JupyterCommManager() {\n    }\n\n    JupyterCommManager.prototype.register_target = function(plot_id, comm_id, msg_handler) {\n      if (window.comm_manager || ((window.Jupyter !== undefined) && (Jupyter.notebook.kernel != null))) {\n        var comm_manager = window.comm_manager || Jupyter.notebook.kernel.comm_manager;\n        comm_manager.register_target(comm_id, function(comm) {\n          comm.on_msg(msg_handler);\n        });\n      } else if ((plot_id in window.PyViz.kernels) && (window.PyViz.kernels[plot_id])) {\n        window.PyViz.kernels[plot_id].registerCommTarget(comm_id, function(comm) {\n          comm.onMsg = msg_handler;\n        });\n      } else if (typeof google != 'undefined' && google.colab.kernel != null) {\n        google.colab.kernel.comms.registerTarget(comm_id, (comm) => {\n          var messages = comm.messages[Symbol.asyncIterator]();\n          function processIteratorResult(result) {\n            var message = result.value;\n            console.log(message)\n            var content = {data: message.data, comm_id};\n            var buffers = []\n            for (var buffer of message.buffers || []) {\n              buffers.push(new DataView(buffer))\n            }\n            var metadata = message.metadata || {};\n            var msg = {content, buffers, metadata}\n            msg_handler(msg);\n            return messages.next().then(processIteratorResult);\n          }\n          return messages.next().then(processIteratorResult);\n        })\n      }\n    }\n\n    JupyterCommManager.prototype.get_client_comm = function(plot_id, comm_id, msg_handler) {\n      if (comm_id in window.PyViz.comms) {\n        return window.PyViz.comms[comm_id];\n      } else if (window.comm_manager || ((window.Jupyter !== undefined) && (Jupyter.notebook.kernel != null))) {\n        var comm_manager = window.comm_manager || Jupyter.notebook.kernel.comm_manager;\n        var comm = comm_manager.new_comm(comm_id, {}, {}, {}, comm_id);\n        if (msg_handler) {\n          comm.on_msg(msg_handler);\n        }\n      } else if ((plot_id in window.PyViz.kernels) && (window.PyViz.kernels[plot_id])) {\n        var comm = window.PyViz.kernels[plot_id].connectToComm(comm_id);\n        comm.open();\n        if (msg_handler) {\n          comm.onMsg = msg_handler;\n        }\n      } else if (typeof google != 'undefined' && google.colab.kernel != null) {\n        var comm_promise = google.colab.kernel.comms.open(comm_id)\n        comm_promise.then((comm) => {\n          window.PyViz.comms[comm_id] = comm;\n          if (msg_handler) {\n            var messages = comm.messages[Symbol.asyncIterator]();\n            function processIteratorResult(result) {\n              var message = result.value;\n              var content = {data: message.data};\n              var metadata = message.metadata || {comm_id};\n              var msg = {content, metadata}\n              msg_handler(msg);\n              return messages.next().then(processIteratorResult);\n            }\n            return messages.next().then(processIteratorResult);\n          }\n        }) \n        var sendClosure = (data, metadata, buffers, disposeOnDone) => {\n          return comm_promise.then((comm) => {\n            comm.send(data, metadata, buffers, disposeOnDone);\n          });\n        };\n        var comm = {\n          send: sendClosure\n        };\n      }\n      window.PyViz.comms[comm_id] = comm;\n      return comm;\n    }\n    window.PyViz.comm_manager = new JupyterCommManager();\n    \n\n\nvar JS_MIME_TYPE = 'application/javascript';\nvar HTML_MIME_TYPE = 'text/html';\nvar EXEC_MIME_TYPE = 'application/vnd.holoviews_exec.v0+json';\nvar CLASS_NAME = 'output';\n\n/**\n * Render data to the DOM node\n */\nfunction render(props, node) {\n  var div = document.createElement(\"div\");\n  var script = document.createElement(\"script\");\n  node.appendChild(div);\n  node.appendChild(script);\n}\n\n/**\n * Handle when a new output is added\n */\nfunction handle_add_output(event, handle) {\n  var output_area = handle.output_area;\n  var output = handle.output;\n  if ((output.data == undefined) || (!output.data.hasOwnProperty(EXEC_MIME_TYPE))) {\n    return\n  }\n  var id = output.metadata[EXEC_MIME_TYPE][\"id\"];\n  var toinsert = output_area.element.find(\".\" + CLASS_NAME.split(' ')[0]);\n  if (id !== undefined) {\n    var nchildren = toinsert.length;\n    var html_node = toinsert[nchildren-1].children[0];\n    html_node.innerHTML = output.data[HTML_MIME_TYPE];\n    var scripts = [];\n    var nodelist = html_node.querySelectorAll(\"script\");\n    for (var i in nodelist) {\n      if (nodelist.hasOwnProperty(i)) {\n        scripts.push(nodelist[i])\n      }\n    }\n\n    scripts.forEach( function (oldScript) {\n      var newScript = document.createElement(\"script\");\n      var attrs = [];\n      var nodemap = oldScript.attributes;\n      for (var j in nodemap) {\n        if (nodemap.hasOwnProperty(j)) {\n          attrs.push(nodemap[j])\n        }\n      }\n      attrs.forEach(function(attr) { newScript.setAttribute(attr.name, attr.value) });\n      newScript.appendChild(document.createTextNode(oldScript.innerHTML));\n      oldScript.parentNode.replaceChild(newScript, oldScript);\n    });\n    if (JS_MIME_TYPE in output.data) {\n      toinsert[nchildren-1].children[1].textContent = output.data[JS_MIME_TYPE];\n    }\n    output_area._hv_plot_id = id;\n    if ((window.Bokeh !== undefined) && (id in Bokeh.index)) {\n      window.PyViz.plot_index[id] = Bokeh.index[id];\n    } else {\n      window.PyViz.plot_index[id] = null;\n    }\n  } else if (output.metadata[EXEC_MIME_TYPE][\"server_id\"] !== undefined) {\n    var bk_div = document.createElement(\"div\");\n    bk_div.innerHTML = output.data[HTML_MIME_TYPE];\n    var script_attrs = bk_div.children[0].attributes;\n    for (var i = 0; i < script_attrs.length; i++) {\n      toinsert[toinsert.length - 1].childNodes[1].setAttribute(script_attrs[i].name, script_attrs[i].value);\n    }\n    // store reference to server id on output_area\n    output_area._bokeh_server_id = output.metadata[EXEC_MIME_TYPE][\"server_id\"];\n  }\n}\n\n/**\n * Handle when an output is cleared or removed\n */\nfunction handle_clear_output(event, handle) {\n  var id = handle.cell.output_area._hv_plot_id;\n  var server_id = handle.cell.output_area._bokeh_server_id;\n  if (((id === undefined) || !(id in PyViz.plot_index)) && (server_id !== undefined)) { return; }\n  var comm = window.PyViz.comm_manager.get_client_comm(\"hv-extension-comm\", \"hv-extension-comm\", function () {});\n  if (server_id !== null) {\n    comm.send({event_type: 'server_delete', 'id': server_id});\n    return;\n  } else if (comm !== null) {\n    comm.send({event_type: 'delete', 'id': id});\n  }\n  delete PyViz.plot_index[id];\n  if ((window.Bokeh !== undefined) & (id in window.Bokeh.index)) {\n    var doc = window.Bokeh.index[id].model.document\n    doc.clear();\n    const i = window.Bokeh.documents.indexOf(doc);\n    if (i > -1) {\n      window.Bokeh.documents.splice(i, 1);\n    }\n  }\n}\n\n/**\n * Handle kernel restart event\n */\nfunction handle_kernel_cleanup(event, handle) {\n  delete PyViz.comms[\"hv-extension-comm\"];\n  window.PyViz.plot_index = {}\n}\n\n/**\n * Handle update_display_data messages\n */\nfunction handle_update_output(event, handle) {\n  handle_clear_output(event, {cell: {output_area: handle.output_area}})\n  handle_add_output(event, handle)\n}\n\nfunction register_renderer(events, OutputArea) {\n  function append_mime(data, metadata, element) {\n    // create a DOM node to render to\n    var toinsert = this.create_output_subarea(\n    metadata,\n    CLASS_NAME,\n    EXEC_MIME_TYPE\n    );\n    this.keyboard_manager.register_events(toinsert);\n    // Render to node\n    var props = {data: data, metadata: metadata[EXEC_MIME_TYPE]};\n    render(props, toinsert[0]);\n    element.append(toinsert);\n    return toinsert\n  }\n\n  events.on('output_added.OutputArea', handle_add_output);\n  events.on('output_updated.OutputArea', handle_update_output);\n  events.on('clear_output.CodeCell', handle_clear_output);\n  events.on('delete.Cell', handle_clear_output);\n  events.on('kernel_ready.Kernel', handle_kernel_cleanup);\n\n  OutputArea.prototype.register_mime_type(EXEC_MIME_TYPE, append_mime, {\n    safe: true,\n    index: 0\n  });\n}\n\nif (window.Jupyter !== undefined) {\n  try {\n    var events = require('base/js/events');\n    var OutputArea = require('notebook/js/outputarea').OutputArea;\n    if (OutputArea.prototype.mime_types().indexOf(EXEC_MIME_TYPE) == -1) {\n      register_renderer(events, OutputArea);\n    }\n  } catch(err) {\n  }\n}\n",
      "application/vnd.holoviews_load.v0+json": ""
     },
     "metadata": {},
     "output_type": "display_data"
    },
    {
     "data": {
      "text/html": [
       "<style>*[data-root-id],\n",
       "*[data-root-id] > * {\n",
       "  box-sizing: border-box;\n",
       "  font-family: var(--jp-ui-font-family);\n",
       "  font-size: var(--jp-ui-font-size1);\n",
       "  color: var(--vscode-editor-foreground, var(--jp-ui-font-color1));\n",
       "}\n",
       "\n",
       "/* Override VSCode background color */\n",
       ".cell-output-ipywidget-background:has(\n",
       "    > .cell-output-ipywidget-background > .lm-Widget > *[data-root-id]\n",
       "  ),\n",
       ".cell-output-ipywidget-background:has(> .lm-Widget > *[data-root-id]) {\n",
       "  background-color: transparent !important;\n",
       "}\n",
       "</style>"
      ]
     },
     "metadata": {},
     "output_type": "display_data"
    },
    {
     "data": {
      "application/vnd.holoviews_exec.v0+json": "",
      "text/html": [
       "<div id='p1004'>\n",
       "  <div id=\"ff53e6f3-c2b0-4bc7-a807-1938c8f8a1ad\" data-root-id=\"p1004\" style=\"display: contents;\"></div>\n",
       "</div>\n",
       "<script type=\"application/javascript\">(function(root) {\n",
       "  var docs_json = {\"6154746d-62f5-410e-aea0-e0317806c5df\":{\"version\":\"3.4.2\",\"title\":\"Bokeh Application\",\"roots\":[{\"type\":\"object\",\"name\":\"panel.models.browser.BrowserInfo\",\"id\":\"p1004\"},{\"type\":\"object\",\"name\":\"panel.models.comm_manager.CommManager\",\"id\":\"p1005\",\"attributes\":{\"plot_id\":\"p1004\",\"comm_id\":\"5b365b58d76e4ce592fef3d611046423\",\"client_comm_id\":\"bacccb7a57334b3985483de5d08949d2\"}}],\"defs\":[{\"type\":\"model\",\"name\":\"ReactiveHTML1\"},{\"type\":\"model\",\"name\":\"FlexBox1\",\"properties\":[{\"name\":\"align_content\",\"kind\":\"Any\",\"default\":\"flex-start\"},{\"name\":\"align_items\",\"kind\":\"Any\",\"default\":\"flex-start\"},{\"name\":\"flex_direction\",\"kind\":\"Any\",\"default\":\"row\"},{\"name\":\"flex_wrap\",\"kind\":\"Any\",\"default\":\"wrap\"},{\"name\":\"gap\",\"kind\":\"Any\",\"default\":\"\"},{\"name\":\"justify_content\",\"kind\":\"Any\",\"default\":\"flex-start\"}]},{\"type\":\"model\",\"name\":\"FloatPanel1\",\"properties\":[{\"name\":\"config\",\"kind\":\"Any\",\"default\":{\"type\":\"map\"}},{\"name\":\"contained\",\"kind\":\"Any\",\"default\":true},{\"name\":\"position\",\"kind\":\"Any\",\"default\":\"right-top\"},{\"name\":\"offsetx\",\"kind\":\"Any\",\"default\":null},{\"name\":\"offsety\",\"kind\":\"Any\",\"default\":null},{\"name\":\"theme\",\"kind\":\"Any\",\"default\":\"primary\"},{\"name\":\"status\",\"kind\":\"Any\",\"default\":\"normalized\"}]},{\"type\":\"model\",\"name\":\"GridStack1\",\"properties\":[{\"name\":\"mode\",\"kind\":\"Any\",\"default\":\"warn\"},{\"name\":\"ncols\",\"kind\":\"Any\",\"default\":null},{\"name\":\"nrows\",\"kind\":\"Any\",\"default\":null},{\"name\":\"allow_resize\",\"kind\":\"Any\",\"default\":true},{\"name\":\"allow_drag\",\"kind\":\"Any\",\"default\":true},{\"name\":\"state\",\"kind\":\"Any\",\"default\":[]}]},{\"type\":\"model\",\"name\":\"drag1\",\"properties\":[{\"name\":\"slider_width\",\"kind\":\"Any\",\"default\":5},{\"name\":\"slider_color\",\"kind\":\"Any\",\"default\":\"black\"},{\"name\":\"value\",\"kind\":\"Any\",\"default\":50}]},{\"type\":\"model\",\"name\":\"click1\",\"properties\":[{\"name\":\"terminal_output\",\"kind\":\"Any\",\"default\":\"\"},{\"name\":\"debug_name\",\"kind\":\"Any\",\"default\":\"\"},{\"name\":\"clears\",\"kind\":\"Any\",\"default\":0}]},{\"type\":\"model\",\"name\":\"FastWrapper1\",\"properties\":[{\"name\":\"object\",\"kind\":\"Any\",\"default\":null},{\"name\":\"style\",\"kind\":\"Any\",\"default\":null}]},{\"type\":\"model\",\"name\":\"NotificationAreaBase1\",\"properties\":[{\"name\":\"js_events\",\"kind\":\"Any\",\"default\":{\"type\":\"map\"}},{\"name\":\"position\",\"kind\":\"Any\",\"default\":\"bottom-right\"},{\"name\":\"_clear\",\"kind\":\"Any\",\"default\":0}]},{\"type\":\"model\",\"name\":\"NotificationArea1\",\"properties\":[{\"name\":\"js_events\",\"kind\":\"Any\",\"default\":{\"type\":\"map\"}},{\"name\":\"notifications\",\"kind\":\"Any\",\"default\":[]},{\"name\":\"position\",\"kind\":\"Any\",\"default\":\"bottom-right\"},{\"name\":\"_clear\",\"kind\":\"Any\",\"default\":0},{\"name\":\"types\",\"kind\":\"Any\",\"default\":[{\"type\":\"map\",\"entries\":[[\"type\",\"warning\"],[\"background\",\"#ffc107\"],[\"icon\",{\"type\":\"map\",\"entries\":[[\"className\",\"fas fa-exclamation-triangle\"],[\"tagName\",\"i\"],[\"color\",\"white\"]]}]]},{\"type\":\"map\",\"entries\":[[\"type\",\"info\"],[\"background\",\"#007bff\"],[\"icon\",{\"type\":\"map\",\"entries\":[[\"className\",\"fas fa-info-circle\"],[\"tagName\",\"i\"],[\"color\",\"white\"]]}]]}]}]},{\"type\":\"model\",\"name\":\"Notification\",\"properties\":[{\"name\":\"background\",\"kind\":\"Any\",\"default\":null},{\"name\":\"duration\",\"kind\":\"Any\",\"default\":3000},{\"name\":\"icon\",\"kind\":\"Any\",\"default\":null},{\"name\":\"message\",\"kind\":\"Any\",\"default\":\"\"},{\"name\":\"notification_type\",\"kind\":\"Any\",\"default\":null},{\"name\":\"_destroyed\",\"kind\":\"Any\",\"default\":false}]},{\"type\":\"model\",\"name\":\"TemplateActions1\",\"properties\":[{\"name\":\"open_modal\",\"kind\":\"Any\",\"default\":0},{\"name\":\"close_modal\",\"kind\":\"Any\",\"default\":0}]},{\"type\":\"model\",\"name\":\"BootstrapTemplateActions1\",\"properties\":[{\"name\":\"open_modal\",\"kind\":\"Any\",\"default\":0},{\"name\":\"close_modal\",\"kind\":\"Any\",\"default\":0}]},{\"type\":\"model\",\"name\":\"TemplateEditor1\",\"properties\":[{\"name\":\"layout\",\"kind\":\"Any\",\"default\":[]}]},{\"type\":\"model\",\"name\":\"MaterialTemplateActions1\",\"properties\":[{\"name\":\"open_modal\",\"kind\":\"Any\",\"default\":0},{\"name\":\"close_modal\",\"kind\":\"Any\",\"default\":0}]},{\"type\":\"model\",\"name\":\"copy_to_clipboard1\",\"properties\":[{\"name\":\"fill\",\"kind\":\"Any\",\"default\":\"none\"},{\"name\":\"value\",\"kind\":\"Any\",\"default\":null}]}]}};\n",
       "  var render_items = [{\"docid\":\"6154746d-62f5-410e-aea0-e0317806c5df\",\"roots\":{\"p1004\":\"ff53e6f3-c2b0-4bc7-a807-1938c8f8a1ad\"},\"root_ids\":[\"p1004\"]}];\n",
       "  var docs = Object.values(docs_json)\n",
       "  if (!docs) {\n",
       "    return\n",
       "  }\n",
       "  const py_version = docs[0].version.replace('rc', '-rc.').replace('.dev', '-dev.')\n",
       "  async function embed_document(root) {\n",
       "    var Bokeh = get_bokeh(root)\n",
       "    await Bokeh.embed.embed_items_notebook(docs_json, render_items);\n",
       "    for (const render_item of render_items) {\n",
       "      for (const root_id of render_item.root_ids) {\n",
       "\tconst id_el = document.getElementById(root_id)\n",
       "\tif (id_el.children.length && id_el.children[0].hasAttribute('data-root-id')) {\n",
       "\t  const root_el = id_el.children[0]\n",
       "\t  root_el.id = root_el.id + '-rendered'\n",
       "\t  for (const child of root_el.children) {\n",
       "            // Ensure JupyterLab does not capture keyboard shortcuts\n",
       "            // see: https://jupyterlab.readthedocs.io/en/4.1.x/extension/notebook.html#keyboard-interaction-model\n",
       "\t    child.setAttribute('data-lm-suppress-shortcuts', 'true')\n",
       "\t  }\n",
       "\t}\n",
       "      }\n",
       "    }\n",
       "  }\n",
       "  function get_bokeh(root) {\n",
       "    if (root.Bokeh === undefined) {\n",
       "      return null\n",
       "    } else if (root.Bokeh.version !== py_version) {\n",
       "      if (root.Bokeh.versions === undefined || !root.Bokeh.versions.has(py_version)) {\n",
       "\treturn null\n",
       "      }\n",
       "      return root.Bokeh.versions.get(py_version);\n",
       "    } else if (root.Bokeh.version === py_version) {\n",
       "      return root.Bokeh\n",
       "    }\n",
       "    return null\n",
       "  }\n",
       "  function is_loaded(root) {\n",
       "    var Bokeh = get_bokeh(root)\n",
       "    return (Bokeh != null && Bokeh.Panel !== undefined)\n",
       "  }\n",
       "  if (is_loaded(root)) {\n",
       "    embed_document(root);\n",
       "  } else {\n",
       "    var attempts = 0;\n",
       "    var timer = setInterval(function(root) {\n",
       "      if (is_loaded(root)) {\n",
       "        clearInterval(timer);\n",
       "        embed_document(root);\n",
       "      } else if (document.readyState == \"complete\") {\n",
       "        attempts++;\n",
       "        if (attempts > 200) {\n",
       "          clearInterval(timer);\n",
       "\t  var Bokeh = get_bokeh(root)\n",
       "\t  if (Bokeh == null || Bokeh.Panel == null) {\n",
       "            console.warn(\"Panel: ERROR: Unable to run Panel code because Bokeh or Panel library is missing\");\n",
       "\t  } else {\n",
       "\t    console.warn(\"Panel: WARNING: Attempting to render but not all required libraries could be resolved.\")\n",
       "\t    embed_document(root)\n",
       "\t  }\n",
       "        }\n",
       "      }\n",
       "    }, 25, root)\n",
       "  }\n",
       "})(window);</script>"
      ]
     },
     "metadata": {
      "application/vnd.holoviews_exec.v0+json": {
       "id": "p1004"
      }
     },
     "output_type": "display_data"
    },
    {
     "data": {
      "text/html": [
       "<img src='data:image/png;base64,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' style='max-width:100%; margin: auto; display: block; '/>"
      ],
      "text/plain": [
       ":NdOverlay   [Variable]\n",
       "   :Curve   [index]   (value)"
      ]
     },
     "execution_count": 12,
     "metadata": {
      "application/vnd.holoviews_exec.v0+json": {}
     },
     "output_type": "execute_result"
    }
   ],
   "source": [
    "import polars as pl\n",
    "import hvplot.polars\n",
    "hvplot.extension('matplotlib')\n",
    "\n",
    "pl.DataFrame(fcst.simulations.values.squeeze().T).hvplot() # 3 forecasted paths with horizon 50"
   ]
  },
  {
   "cell_type": "markdown",
   "metadata": {},
   "source": [
    "<!-- ## Zooming in: the result summary\n",
    "\n",
    "There are plenty of information in the summary. Most of them should be self-explanatory if one is familiar with basic terminology of statistical inference. Notice that the model we defind is `GARCH`, where \"G\" stands for \"Generalised\". A typical GARCH process is GARCH(1,1) defined through the specification: \n",
    "$$\\mathrm{Var}[Y_t| \\mathcal F_{t-1}] = \\omega + \\alpha Y_{t-1}^2 + \\beta \\mathrm{Var}[Y_{t-1}| \\mathcal F_{t-2}].$$ -->\n"
   ]
  },
  {
   "cell_type": "markdown",
   "metadata": {},
   "source": [
    "## generalising a bit "
   ]
  },
  {
   "cell_type": "markdown",
   "metadata": {},
   "source": [
    "By default the noise distribution is standard normal. Other popular choice is t distribution where the degree of freedom $\\nu$ is learnable.    \n",
    "One can change the mean to be non-zero, i.e.  \n",
    "$$\n",
    "Y_t =  \\mu  + \\sigma_t W_t \\\\ \n",
    "\\sigma_t^2 = \\omega+ \\alpha (Y_{t-1}-\\mu)^2\n",
    "$$\n",
    "where $W_t$ is iid with t distribution. "
   ]
  },
  {
   "cell_type": "code",
   "execution_count": 30,
   "metadata": {},
   "outputs": [
    {
     "data": {
      "text/plain": [
       "                         Constant Mean - ARCH Model Results                         \n",
       "====================================================================================\n",
       "Dep. Variable:                            y   R-squared:                       0.000\n",
       "Mean Model:                   Constant Mean   Adj. R-squared:                  0.000\n",
       "Vol Model:                             ARCH   Log-Likelihood:               -2679.58\n",
       "Distribution:      Standardized Student's t   AIC:                           5367.17\n",
       "Method:                  Maximum Likelihood   BIC:                           5384.03\n",
       "                                              No. Observations:                  500\n",
       "Date:                      Mon, Sep 16 2024   Df Residuals:                      499\n",
       "Time:                              22:37:45   Df Model:                            1\n",
       "                               Mean Model                               \n",
       "========================================================================\n",
       "                 coef    std err          t      P>|t|  95.0% Conf. Int.\n",
       "------------------------------------------------------------------------\n",
       "mu            27.9488      1.487     18.796  8.138e-79 [ 25.034, 30.863]\n",
       "                              Volatility Model                              \n",
       "============================================================================\n",
       "                 coef    std err          t      P>|t|      95.0% Conf. Int.\n",
       "----------------------------------------------------------------------------\n",
       "omega       1559.0950    402.449      3.874  1.071e-04 [7.703e+02,2.348e+03]\n",
       "alpha[1]       1.0000      0.264      3.795  1.477e-04     [  0.484,  1.516]\n",
       "                              Distribution                              \n",
       "========================================================================\n",
       "                 coef    std err          t      P>|t|  95.0% Conf. Int.\n",
       "------------------------------------------------------------------------\n",
       "nu             3.3886      0.358      9.456  3.203e-21 [  2.686,  4.091]\n",
       "========================================================================\n",
       "\n",
       "Covariance estimator: robust\n",
       "ARCHModelResult, id: 0x7f8cc8d2cd90"
      ]
     },
     "execution_count": 30,
     "metadata": {},
     "output_type": "execute_result"
    }
   ],
   "source": [
    "arch_model(y=y+30, mean=\"constant\", q=0, dist='t').fit(disp=\"off\")"
   ]
  },
  {
   "cell_type": "markdown",
   "metadata": {},
   "source": [
    "Why stop here? We can also allow the conditonal mean of $Y_t$ given history to vary with time as well, one simplest choice would be to \n",
    "assume AR dynamic for the conditional mean\n",
    "$$\n",
    "Y_t = \\mu + \\mu_t + \\sigma_t W_t \\\\\n",
    "\\mu_t = \\phi Y_{t-1} + \\epsilon_t \\\\\n",
    "\\sigma_t^2 = \\omega+ \\alpha Y_{t-1}^2\n",
    "$$\n",
    "where $\\epsilon_t$ is iid with normal distirbuion, say. "
   ]
  },
  {
   "cell_type": "code",
   "execution_count": 56,
   "metadata": {},
   "outputs": [
    {
     "data": {
      "text/plain": [
       "                           AR - ARCH Model Results                            \n",
       "==============================================================================\n",
       "Dep. Variable:                      y   R-squared:                      -0.009\n",
       "Mean Model:                        AR   Adj. R-squared:                 -0.011\n",
       "Vol Model:                       ARCH   Log-Likelihood:               -2713.60\n",
       "Distribution:                  Normal   AIC:                           5435.21\n",
       "Method:            Maximum Likelihood   BIC:                           5452.06\n",
       "                                        No. Observations:                  499\n",
       "Date:                Mon, Sep 16 2024   Df Residuals:                      497\n",
       "Time:                        22:55:30   Df Model:                            2\n",
       "                               Mean Model                               \n",
       "========================================================================\n",
       "                 coef    std err          t      P>|t|  95.0% Conf. Int.\n",
       "------------------------------------------------------------------------\n",
       "Const         27.0729      2.670     10.139  3.727e-24 [ 21.839, 32.307]\n",
       "y[1]          -0.0281  8.163e-02     -0.344      0.731 [ -0.188,  0.132]\n",
       "                              Volatility Model                              \n",
       "============================================================================\n",
       "                 coef    std err          t      P>|t|      95.0% Conf. Int.\n",
       "----------------------------------------------------------------------------\n",
       "omega       1947.8628    445.252      4.375  1.216e-05 [1.075e+03,2.821e+03]\n",
       "alpha[1]       0.5806      0.247      2.351  1.873e-02   [9.654e-02,  1.065]\n",
       "============================================================================\n",
       "\n",
       "Covariance estimator: robust\n",
       "ARCHModelResult, id: 0x7f8cc8d1b610"
      ]
     },
     "execution_count": 56,
     "metadata": {},
     "output_type": "execute_result"
    }
   ],
   "source": [
    "arch_model(y=y+30, mean=\"AR\", q=0, lags=[1]).fit(disp=\"off\")"
   ]
  },
  {
   "cell_type": "markdown",
   "metadata": {},
   "source": [
    "as before, we can inspect the result container and forecast container as follows"
   ]
  },
  {
   "cell_type": "code",
   "execution_count": 72,
   "metadata": {},
   "outputs": [],
   "source": [
    "res = arch_model(y+30, mean=\"AR\", q=0, lags=[1]).fit(disp=\"off\")\n",
    "fcst = res.forecast(horizon=5)"
   ]
  },
  {
   "cell_type": "markdown",
   "metadata": {},
   "source": [
    "notice the difference of `resid` and `std_resid`, as well as the diff between `variance` and `residual_variance`"
   ]
  },
  {
   "cell_type": "code",
   "execution_count": 73,
   "metadata": {},
   "outputs": [
    {
     "data": {
      "text/plain": [
       "(58.660982953510256, 0.9984947367724978)"
      ]
     },
     "execution_count": 73,
     "metadata": {},
     "output_type": "execute_result"
    }
   ],
   "source": [
    "res.resid[1:].std(), res.std_resid[1:].std()"
   ]
  },
  {
   "cell_type": "code",
   "execution_count": 74,
   "metadata": {},
   "outputs": [
    {
     "data": {
      "text/html": [
       "<div>\n",
       "<style scoped>\n",
       "    .dataframe tbody tr th:only-of-type {\n",
       "        vertical-align: middle;\n",
       "    }\n",
       "\n",
       "    .dataframe tbody tr th {\n",
       "        vertical-align: top;\n",
       "    }\n",
       "\n",
       "    .dataframe thead th {\n",
       "        text-align: right;\n",
       "    }\n",
       "</style>\n",
       "<table border=\"1\" class=\"dataframe\">\n",
       "  <thead>\n",
       "    <tr style=\"text-align: right;\">\n",
       "      <th></th>\n",
       "      <th>h.1</th>\n",
       "      <th>h.2</th>\n",
       "      <th>h.3</th>\n",
       "      <th>h.4</th>\n",
       "      <th>h.5</th>\n",
       "    </tr>\n",
       "  </thead>\n",
       "  <tbody>\n",
       "    <tr>\n",
       "      <th>499</th>\n",
       "      <td>23351.435417</td>\n",
       "      <td>15524.642392</td>\n",
       "      <td>10963.391412</td>\n",
       "      <td>8315.005928</td>\n",
       "      <td>6777.289481</td>\n",
       "    </tr>\n",
       "  </tbody>\n",
       "</table>\n",
       "</div>"
      ],
      "text/plain": [
       "              h.1           h.2           h.3          h.4          h.5\n",
       "499  23351.435417  15524.642392  10963.391412  8315.005928  6777.289481"
      ]
     },
     "execution_count": 74,
     "metadata": {},
     "output_type": "execute_result"
    }
   ],
   "source": [
    "fcst.variance"
   ]
  },
  {
   "cell_type": "code",
   "execution_count": 75,
   "metadata": {},
   "outputs": [
    {
     "data": {
      "text/html": [
       "<div>\n",
       "<style scoped>\n",
       "    .dataframe tbody tr th:only-of-type {\n",
       "        vertical-align: middle;\n",
       "    }\n",
       "\n",
       "    .dataframe tbody tr th {\n",
       "        vertical-align: top;\n",
       "    }\n",
       "\n",
       "    .dataframe thead th {\n",
       "        text-align: right;\n",
       "    }\n",
       "</style>\n",
       "<table border=\"1\" class=\"dataframe\">\n",
       "  <thead>\n",
       "    <tr style=\"text-align: right;\">\n",
       "      <th></th>\n",
       "      <th>h.1</th>\n",
       "      <th>h.2</th>\n",
       "      <th>h.3</th>\n",
       "      <th>h.4</th>\n",
       "      <th>h.5</th>\n",
       "    </tr>\n",
       "  </thead>\n",
       "  <tbody>\n",
       "    <tr>\n",
       "      <th>499</th>\n",
       "      <td>23351.435417</td>\n",
       "      <td>15506.268989</td>\n",
       "      <td>10951.176295</td>\n",
       "      <td>8306.3797</td>\n",
       "      <td>6770.747058</td>\n",
       "    </tr>\n",
       "  </tbody>\n",
       "</table>\n",
       "</div>"
      ],
      "text/plain": [
       "              h.1           h.2           h.3        h.4          h.5\n",
       "499  23351.435417  15506.268989  10951.176295  8306.3797  6770.747058"
      ]
     },
     "execution_count": 75,
     "metadata": {},
     "output_type": "execute_result"
    }
   ],
   "source": [
    "fcst.residual_variance"
   ]
  },
  {
   "cell_type": "code",
   "execution_count": null,
   "metadata": {},
   "outputs": [],
   "source": []
  }
 ],
 "metadata": {
  "kernelspec": {
   "display_name": "ve",
   "language": "python",
   "name": "python3"
  },
  "language_info": {
   "codemirror_mode": {
    "name": "ipython",
    "version": 3
   },
   "file_extension": ".py",
   "mimetype": "text/x-python",
   "name": "python",
   "nbconvert_exporter": "python",
   "pygments_lexer": "ipython3",
   "version": "3.11.9"
  }
 },
 "nbformat": 4,
 "nbformat_minor": 2
}
