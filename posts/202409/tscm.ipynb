{
 "cells": [
  {
   "cell_type": "raw",
   "metadata": {
    "vscode": {
     "languageId": "raw"
    }
   },
   "source": [
    "---\n",
    "title: \"Financial time series: a journey from code to maths, and back\"\n",
    "author: Xiaochuan Yang\n",
    "date: '2024-09-15'\n",
    "draft: true\n",
    "categories: [time series, python]\n",
    "format:\n",
    "  html:\n",
    "    code-line-numbers: false\n",
    "---"
   ]
  },
  {
   "cell_type": "markdown",
   "metadata": {},
   "source": [
    "## ARCH model\n",
    "\n",
    "The ARCH model is widely used to model financial return time series. \n",
    "We always denote a generic time series by $(Y_t)$.\n",
    "ARCH model is a specification of the conditional variance of $Y_t$ given its history $\\mathcal F_{t-1}$\n",
    "by the following equation: \n",
    "$$\\mathrm{Var}[Y_t| \\mathcal F_{t-1}] = \\omega + \\alpha Y_{t-1}^2.$$\n",
    "\n",
    "In code, it is straightforward to define the ARCH model with the `arch` library. "
   ]
  },
  {
   "cell_type": "markdown",
   "metadata": {},
   "source": [
    "## `arch` library"
   ]
  },
  {
   "cell_type": "code",
   "execution_count": 1,
   "metadata": {},
   "outputs": [],
   "source": [
    "import numpy as np\n",
    "from arch import arch_model"
   ]
  },
  {
   "cell_type": "code",
   "execution_count": 2,
   "metadata": {},
   "outputs": [],
   "source": [
    "rng = np.random.default_rng(41)\n",
    "y = rng.normal(0,np.arange(500)*0.2,size=(500,))\n",
    "mod = arch_model(y, mean='zero', q=0)\n",
    "res = mod.fit(disp=\"off\")\n",
    "fcst = res.forecast(horizon=50, method=\"bootstrap\", simulations=3)"
   ]
  },
  {
   "cell_type": "markdown",
   "metadata": {},
   "source": [
    "Above  we exposed the main classes of the library.      \n",
    "- `arch_model` is a convenience model constructor function with which one can specify the the mean process, the volatility (aka conditional standard deviation), the noise distribution (adhere to `scipy.stats`).  \n",
    "- `mod.fit()` returns a result container: one can inspect residuals, standardised residuals, volatilities of the fit model.    \n",
    "- `res.forecast()` returns a forecast container: one can make forecast of future paths, future conditonal variance etc.   "
   ]
  },
  {
   "cell_type": "code",
   "execution_count": 3,
   "metadata": {},
   "outputs": [
    {
     "data": {
      "text/plain": [
       "(arch.univariate.mean.ZeroMean,\n",
       " arch.univariate.base.ARCHModelResult,\n",
       " arch.univariate.base.ARCHModelForecast)"
      ]
     },
     "execution_count": 3,
     "metadata": {},
     "output_type": "execute_result"
    }
   ],
   "source": [
    "type(mod), type(res), type(fcst)"
   ]
  },
  {
   "cell_type": "code",
   "execution_count": 4,
   "metadata": {},
   "outputs": [
    {
     "data": {
      "text/html": [
       "<table class=\"simpletable\">\n",
       "<caption>Zero Mean - ARCH Model Results</caption>\n",
       "<tr>\n",
       "  <th>Dep. Variable:</th>          <td>y</td>         <th>  R-squared:         </th>  <td>   0.000</td> \n",
       "</tr>\n",
       "<tr>\n",
       "  <th>Mean Model:</th>         <td>Zero Mean</td>     <th>  Adj. R-squared:    </th>  <td>   0.002</td> \n",
       "</tr>\n",
       "<tr>\n",
       "  <th>Vol Model:</th>            <td>ARCH</td>        <th>  Log-Likelihood:    </th> <td>  -2719.79</td>\n",
       "</tr>\n",
       "<tr>\n",
       "  <th>Distribution:</th>        <td>Normal</td>       <th>  AIC:               </th> <td>   5443.58</td>\n",
       "</tr>\n",
       "<tr>\n",
       "  <th>Method:</th>        <td>Maximum Likelihood</td> <th>  BIC:               </th> <td>   5452.01</td>\n",
       "</tr>\n",
       "<tr>\n",
       "  <th></th>                        <td></td>          <th>  No. Observations:  </th>     <td>500</td>   \n",
       "</tr>\n",
       "<tr>\n",
       "  <th>Date:</th>           <td>Tue, Sep 24 2024</td>  <th>  Df Residuals:      </th>     <td>500</td>   \n",
       "</tr>\n",
       "<tr>\n",
       "  <th>Time:</th>               <td>22:26:36</td>      <th>  Df Model:          </th>      <td>0</td>    \n",
       "</tr>\n",
       "</table>\n",
       "<table class=\"simpletable\">\n",
       "<caption>Volatility Model</caption>\n",
       "<tr>\n",
       "      <td></td>        <th>coef</th>     <th>std err</th>      <th>t</th>       <th>P>|t|</th>     <th>95.0% Conf. Int.</th>   \n",
       "</tr>\n",
       "<tr>\n",
       "  <th>omega</th>    <td> 2082.8286</td> <td>  396.923</td> <td>    5.247</td> <td>1.542e-07</td> <td>[1.305e+03,2.861e+03]</td>\n",
       "</tr>\n",
       "<tr>\n",
       "  <th>alpha[1]</th> <td>    0.4962</td> <td>    0.174</td> <td>    2.850</td> <td>4.377e-03</td>   <td>[  0.155,  0.838]</td>  \n",
       "</tr>\n",
       "</table><br/><br/>Covariance estimator: robust"
      ],
      "text/latex": [
       "\\begin{center}\n",
       "\\begin{tabular}{lclc}\n",
       "\\toprule\n",
       "\\textbf{Dep. Variable:} &         y          & \\textbf{  R-squared:         } &     0.000   \\\\\n",
       "\\textbf{Mean Model:}    &     Zero Mean      & \\textbf{  Adj. R-squared:    } &     0.002   \\\\\n",
       "\\textbf{Vol Model:}     &        ARCH        & \\textbf{  Log-Likelihood:    } &   -2719.79  \\\\\n",
       "\\textbf{Distribution:}  &       Normal       & \\textbf{  AIC:               } &    5443.58  \\\\\n",
       "\\textbf{Method:}        & Maximum Likelihood & \\textbf{  BIC:               } &    5452.01  \\\\\n",
       "\\textbf{}               &                    & \\textbf{  No. Observations:  } &    500      \\\\\n",
       "\\textbf{Date:}          &  Tue, Sep 24 2024  & \\textbf{  Df Residuals:      } &    500      \\\\\n",
       "\\textbf{Time:}          &      22:26:36      & \\textbf{  Df Model:          } &     0       \\\\\n",
       "\\bottomrule\n",
       "\\end{tabular}\n",
       "\\begin{tabular}{lccccc}\n",
       "                  & \\textbf{coef} & \\textbf{std err} & \\textbf{t} & \\textbf{P$> |$t$|$} & \\textbf{95.0\\% Conf. Int.}  \\\\\n",
       "\\midrule\n",
       "\\textbf{omega}    &    2082.8286  &      396.923     &     5.247  &      1.542e-07       &   [1.305e+03,2.861e+03]     \\\\\n",
       "\\textbf{alpha[1]} &       0.4962  &        0.174     &     2.850  &      4.377e-03       &     [  0.155,  0.838]       \\\\\n",
       "\\bottomrule\n",
       "\\end{tabular}\n",
       "%\\caption{Zero Mean - ARCH Model Results}\n",
       "\\end{center}\n",
       "\n",
       "Covariance estimator: robust"
      ],
      "text/plain": [
       "<class 'statsmodels.iolib.summary.Summary'>\n",
       "\"\"\"\n",
       "                        Zero Mean - ARCH Model Results                        \n",
       "==============================================================================\n",
       "Dep. Variable:                      y   R-squared:                       0.000\n",
       "Mean Model:                 Zero Mean   Adj. R-squared:                  0.002\n",
       "Vol Model:                       ARCH   Log-Likelihood:               -2719.79\n",
       "Distribution:                  Normal   AIC:                           5443.58\n",
       "Method:            Maximum Likelihood   BIC:                           5452.01\n",
       "                                        No. Observations:                  500\n",
       "Date:                Tue, Sep 24 2024   Df Residuals:                      500\n",
       "Time:                        22:26:36   Df Model:                            0\n",
       "                              Volatility Model                              \n",
       "============================================================================\n",
       "                 coef    std err          t      P>|t|      95.0% Conf. Int.\n",
       "----------------------------------------------------------------------------\n",
       "omega       2082.8286    396.923      5.247  1.542e-07 [1.305e+03,2.861e+03]\n",
       "alpha[1]       0.4962      0.174      2.850  4.377e-03     [  0.155,  0.838]\n",
       "============================================================================\n",
       "\n",
       "Covariance estimator: robust\n",
       "\"\"\""
      ]
     },
     "execution_count": 4,
     "metadata": {},
     "output_type": "execute_result"
    }
   ],
   "source": [
    "res.summary()"
   ]
  },
  {
   "cell_type": "code",
   "execution_count": 5,
   "metadata": {},
   "outputs": [
    {
     "data": {
      "application/javascript": "(function(root) {\n  function now() {\n    return new Date();\n  }\n\n  var force = true;\n  var py_version = '3.4.2'.replace('rc', '-rc.').replace('.dev', '-dev.');\n  var reloading = false;\n  var Bokeh = root.Bokeh;\n\n  if (typeof (root._bokeh_timeout) === \"undefined\" || force) {\n    root._bokeh_timeout = Date.now() + 5000;\n    root._bokeh_failed_load = false;\n  }\n\n  function run_callbacks() {\n    try {\n      root._bokeh_onload_callbacks.forEach(function(callback) {\n        if (callback != null)\n          callback();\n      });\n    } finally {\n      delete root._bokeh_onload_callbacks;\n    }\n    console.debug(\"Bokeh: all callbacks have finished\");\n  }\n\n  function load_libs(css_urls, js_urls, js_modules, js_exports, callback) {\n    if (css_urls == null) css_urls = [];\n    if (js_urls == null) js_urls = [];\n    if (js_modules == null) js_modules = [];\n    if (js_exports == null) js_exports = {};\n\n    root._bokeh_onload_callbacks.push(callback);\n\n    if (root._bokeh_is_loading > 0) {\n      console.debug(\"Bokeh: BokehJS is being loaded, scheduling callback at\", now());\n      return null;\n    }\n    if (js_urls.length === 0 && js_modules.length === 0 && Object.keys(js_exports).length === 0) {\n      run_callbacks();\n      return null;\n    }\n    if (!reloading) {\n      console.debug(\"Bokeh: BokehJS not loaded, scheduling load and callback at\", now());\n    }\n\n    function on_load() {\n      root._bokeh_is_loading--;\n      if (root._bokeh_is_loading === 0) {\n        console.debug(\"Bokeh: all BokehJS libraries/stylesheets loaded\");\n        run_callbacks()\n      }\n    }\n    window._bokeh_on_load = on_load\n\n    function on_error() {\n      console.error(\"failed to load \" + url);\n    }\n\n    var skip = [];\n    if (window.requirejs) {\n      window.requirejs.config({'packages': {}, 'paths': {}, 'shim': {}});\n      root._bokeh_is_loading = css_urls.length + 0;\n    } else {\n      root._bokeh_is_loading = css_urls.length + js_urls.length + js_modules.length + Object.keys(js_exports).length;\n    }\n\n    var existing_stylesheets = []\n    var links = document.getElementsByTagName('link')\n    for (var i = 0; i < links.length; i++) {\n      var link = links[i]\n      if (link.href != null) {\n\texisting_stylesheets.push(link.href)\n      }\n    }\n    for (var i = 0; i < css_urls.length; i++) {\n      var url = css_urls[i];\n      if (existing_stylesheets.indexOf(url) !== -1) {\n\ton_load()\n\tcontinue;\n      }\n      const element = document.createElement(\"link\");\n      element.onload = on_load;\n      element.onerror = on_error;\n      element.rel = \"stylesheet\";\n      element.type = \"text/css\";\n      element.href = url;\n      console.debug(\"Bokeh: injecting link tag for BokehJS stylesheet: \", url);\n      document.body.appendChild(element);\n    }    var existing_scripts = []\n    var scripts = document.getElementsByTagName('script')\n    for (var i = 0; i < scripts.length; i++) {\n      var script = scripts[i]\n      if (script.src != null) {\n\texisting_scripts.push(script.src)\n      }\n    }\n    for (var i = 0; i < js_urls.length; i++) {\n      var url = js_urls[i];\n      if (skip.indexOf(url) !== -1 || existing_scripts.indexOf(url) !== -1) {\n\tif (!window.requirejs) {\n\t  on_load();\n\t}\n\tcontinue;\n      }\n      var element = document.createElement('script');\n      element.onload = on_load;\n      element.onerror = on_error;\n      element.async = false;\n      element.src = url;\n      console.debug(\"Bokeh: injecting script tag for BokehJS library: \", url);\n      document.head.appendChild(element);\n    }\n    for (var i = 0; i < js_modules.length; i++) {\n      var url = js_modules[i];\n      if (skip.indexOf(url) !== -1 || existing_scripts.indexOf(url) !== -1) {\n\tif (!window.requirejs) {\n\t  on_load();\n\t}\n\tcontinue;\n      }\n      var element = document.createElement('script');\n      element.onload = on_load;\n      element.onerror = on_error;\n      element.async = false;\n      element.src = url;\n      element.type = \"module\";\n      console.debug(\"Bokeh: injecting script tag for BokehJS library: \", url);\n      document.head.appendChild(element);\n    }\n    for (const name in js_exports) {\n      var url = js_exports[name];\n      if (skip.indexOf(url) >= 0 || root[name] != null) {\n\tif (!window.requirejs) {\n\t  on_load();\n\t}\n\tcontinue;\n      }\n      var element = document.createElement('script');\n      element.onerror = on_error;\n      element.async = false;\n      element.type = \"module\";\n      console.debug(\"Bokeh: injecting script tag for BokehJS library: \", url);\n      element.textContent = `\n      import ${name} from \"${url}\"\n      window.${name} = ${name}\n      window._bokeh_on_load()\n      `\n      document.head.appendChild(element);\n    }\n    if (!js_urls.length && !js_modules.length) {\n      on_load()\n    }\n  };\n\n  function inject_raw_css(css) {\n    const element = document.createElement(\"style\");\n    element.appendChild(document.createTextNode(css));\n    document.body.appendChild(element);\n  }\n\n  var js_urls = [\"https://cdn.bokeh.org/bokeh/release/bokeh-3.4.2.min.js\", \"https://cdn.bokeh.org/bokeh/release/bokeh-gl-3.4.2.min.js\", \"https://cdn.bokeh.org/bokeh/release/bokeh-widgets-3.4.2.min.js\", \"https://cdn.bokeh.org/bokeh/release/bokeh-tables-3.4.2.min.js\", \"https://cdn.holoviz.org/panel/1.4.5/dist/panel.min.js\"];\n  var js_modules = [];\n  var js_exports = {};\n  var css_urls = [];\n  var inline_js = [    function(Bokeh) {\n      Bokeh.set_log_level(\"info\");\n    },\nfunction(Bokeh) {} // ensure no trailing comma for IE\n  ];\n\n  function run_inline_js() {\n    if ((root.Bokeh !== undefined) || (force === true)) {\n      for (var i = 0; i < inline_js.length; i++) {\n\ttry {\n          inline_js[i].call(root, root.Bokeh);\n\t} catch(e) {\n\t  if (!reloading) {\n\t    throw e;\n\t  }\n\t}\n      }\n      // Cache old bokeh versions\n      if (Bokeh != undefined && !reloading) {\n\tvar NewBokeh = root.Bokeh;\n\tif (Bokeh.versions === undefined) {\n\t  Bokeh.versions = new Map();\n\t}\n\tif (NewBokeh.version !== Bokeh.version) {\n\t  Bokeh.versions.set(NewBokeh.version, NewBokeh)\n\t}\n\troot.Bokeh = Bokeh;\n      }} else if (Date.now() < root._bokeh_timeout) {\n      setTimeout(run_inline_js, 100);\n    } else if (!root._bokeh_failed_load) {\n      console.log(\"Bokeh: BokehJS failed to load within specified timeout.\");\n      root._bokeh_failed_load = true;\n    }\n    root._bokeh_is_initializing = false\n  }\n\n  function load_or_wait() {\n    // Implement a backoff loop that tries to ensure we do not load multiple\n    // versions of Bokeh and its dependencies at the same time.\n    // In recent versions we use the root._bokeh_is_initializing flag\n    // to determine whether there is an ongoing attempt to initialize\n    // bokeh, however for backward compatibility we also try to ensure\n    // that we do not start loading a newer (Panel>=1.0 and Bokeh>3) version\n    // before older versions are fully initialized.\n    if (root._bokeh_is_initializing && Date.now() > root._bokeh_timeout) {\n      root._bokeh_is_initializing = false;\n      root._bokeh_onload_callbacks = undefined;\n      console.log(\"Bokeh: BokehJS was loaded multiple times but one version failed to initialize.\");\n      load_or_wait();\n    } else if (root._bokeh_is_initializing || (typeof root._bokeh_is_initializing === \"undefined\" && root._bokeh_onload_callbacks !== undefined)) {\n      setTimeout(load_or_wait, 100);\n    } else {\n      root._bokeh_is_initializing = true\n      root._bokeh_onload_callbacks = []\n      var bokeh_loaded = Bokeh != null && (Bokeh.version === py_version || (Bokeh.versions !== undefined && Bokeh.versions.has(py_version)));\n      if (!reloading && !bokeh_loaded) {\n\troot.Bokeh = undefined;\n      }\n      load_libs(css_urls, js_urls, js_modules, js_exports, function() {\n\tconsole.debug(\"Bokeh: BokehJS plotting callback run at\", now());\n\trun_inline_js();\n      });\n    }\n  }\n  // Give older versions of the autoload script a head-start to ensure\n  // they initialize before we start loading newer version.\n  setTimeout(load_or_wait, 100)\n}(window));",
      "application/vnd.holoviews_load.v0+json": ""
     },
     "metadata": {},
     "output_type": "display_data"
    },
    {
     "data": {
      "application/javascript": "\nif ((window.PyViz === undefined) || (window.PyViz instanceof HTMLElement)) {\n  window.PyViz = {comms: {}, comm_status:{}, kernels:{}, receivers: {}, plot_index: []}\n}\n\n\n    function JupyterCommManager() {\n    }\n\n    JupyterCommManager.prototype.register_target = function(plot_id, comm_id, msg_handler) {\n      if (window.comm_manager || ((window.Jupyter !== undefined) && (Jupyter.notebook.kernel != null))) {\n        var comm_manager = window.comm_manager || Jupyter.notebook.kernel.comm_manager;\n        comm_manager.register_target(comm_id, function(comm) {\n          comm.on_msg(msg_handler);\n        });\n      } else if ((plot_id in window.PyViz.kernels) && (window.PyViz.kernels[plot_id])) {\n        window.PyViz.kernels[plot_id].registerCommTarget(comm_id, function(comm) {\n          comm.onMsg = msg_handler;\n        });\n      } else if (typeof google != 'undefined' && google.colab.kernel != null) {\n        google.colab.kernel.comms.registerTarget(comm_id, (comm) => {\n          var messages = comm.messages[Symbol.asyncIterator]();\n          function processIteratorResult(result) {\n            var message = result.value;\n            console.log(message)\n            var content = {data: message.data, comm_id};\n            var buffers = []\n            for (var buffer of message.buffers || []) {\n              buffers.push(new DataView(buffer))\n            }\n            var metadata = message.metadata || {};\n            var msg = {content, buffers, metadata}\n            msg_handler(msg);\n            return messages.next().then(processIteratorResult);\n          }\n          return messages.next().then(processIteratorResult);\n        })\n      }\n    }\n\n    JupyterCommManager.prototype.get_client_comm = function(plot_id, comm_id, msg_handler) {\n      if (comm_id in window.PyViz.comms) {\n        return window.PyViz.comms[comm_id];\n      } else if (window.comm_manager || ((window.Jupyter !== undefined) && (Jupyter.notebook.kernel != null))) {\n        var comm_manager = window.comm_manager || Jupyter.notebook.kernel.comm_manager;\n        var comm = comm_manager.new_comm(comm_id, {}, {}, {}, comm_id);\n        if (msg_handler) {\n          comm.on_msg(msg_handler);\n        }\n      } else if ((plot_id in window.PyViz.kernels) && (window.PyViz.kernels[plot_id])) {\n        var comm = window.PyViz.kernels[plot_id].connectToComm(comm_id);\n        comm.open();\n        if (msg_handler) {\n          comm.onMsg = msg_handler;\n        }\n      } else if (typeof google != 'undefined' && google.colab.kernel != null) {\n        var comm_promise = google.colab.kernel.comms.open(comm_id)\n        comm_promise.then((comm) => {\n          window.PyViz.comms[comm_id] = comm;\n          if (msg_handler) {\n            var messages = comm.messages[Symbol.asyncIterator]();\n            function processIteratorResult(result) {\n              var message = result.value;\n              var content = {data: message.data};\n              var metadata = message.metadata || {comm_id};\n              var msg = {content, metadata}\n              msg_handler(msg);\n              return messages.next().then(processIteratorResult);\n            }\n            return messages.next().then(processIteratorResult);\n          }\n        }) \n        var sendClosure = (data, metadata, buffers, disposeOnDone) => {\n          return comm_promise.then((comm) => {\n            comm.send(data, metadata, buffers, disposeOnDone);\n          });\n        };\n        var comm = {\n          send: sendClosure\n        };\n      }\n      window.PyViz.comms[comm_id] = comm;\n      return comm;\n    }\n    window.PyViz.comm_manager = new JupyterCommManager();\n    \n\n\nvar JS_MIME_TYPE = 'application/javascript';\nvar HTML_MIME_TYPE = 'text/html';\nvar EXEC_MIME_TYPE = 'application/vnd.holoviews_exec.v0+json';\nvar CLASS_NAME = 'output';\n\n/**\n * Render data to the DOM node\n */\nfunction render(props, node) {\n  var div = document.createElement(\"div\");\n  var script = document.createElement(\"script\");\n  node.appendChild(div);\n  node.appendChild(script);\n}\n\n/**\n * Handle when a new output is added\n */\nfunction handle_add_output(event, handle) {\n  var output_area = handle.output_area;\n  var output = handle.output;\n  if ((output.data == undefined) || (!output.data.hasOwnProperty(EXEC_MIME_TYPE))) {\n    return\n  }\n  var id = output.metadata[EXEC_MIME_TYPE][\"id\"];\n  var toinsert = output_area.element.find(\".\" + CLASS_NAME.split(' ')[0]);\n  if (id !== undefined) {\n    var nchildren = toinsert.length;\n    var html_node = toinsert[nchildren-1].children[0];\n    html_node.innerHTML = output.data[HTML_MIME_TYPE];\n    var scripts = [];\n    var nodelist = html_node.querySelectorAll(\"script\");\n    for (var i in nodelist) {\n      if (nodelist.hasOwnProperty(i)) {\n        scripts.push(nodelist[i])\n      }\n    }\n\n    scripts.forEach( function (oldScript) {\n      var newScript = document.createElement(\"script\");\n      var attrs = [];\n      var nodemap = oldScript.attributes;\n      for (var j in nodemap) {\n        if (nodemap.hasOwnProperty(j)) {\n          attrs.push(nodemap[j])\n        }\n      }\n      attrs.forEach(function(attr) { newScript.setAttribute(attr.name, attr.value) });\n      newScript.appendChild(document.createTextNode(oldScript.innerHTML));\n      oldScript.parentNode.replaceChild(newScript, oldScript);\n    });\n    if (JS_MIME_TYPE in output.data) {\n      toinsert[nchildren-1].children[1].textContent = output.data[JS_MIME_TYPE];\n    }\n    output_area._hv_plot_id = id;\n    if ((window.Bokeh !== undefined) && (id in Bokeh.index)) {\n      window.PyViz.plot_index[id] = Bokeh.index[id];\n    } else {\n      window.PyViz.plot_index[id] = null;\n    }\n  } else if (output.metadata[EXEC_MIME_TYPE][\"server_id\"] !== undefined) {\n    var bk_div = document.createElement(\"div\");\n    bk_div.innerHTML = output.data[HTML_MIME_TYPE];\n    var script_attrs = bk_div.children[0].attributes;\n    for (var i = 0; i < script_attrs.length; i++) {\n      toinsert[toinsert.length - 1].childNodes[1].setAttribute(script_attrs[i].name, script_attrs[i].value);\n    }\n    // store reference to server id on output_area\n    output_area._bokeh_server_id = output.metadata[EXEC_MIME_TYPE][\"server_id\"];\n  }\n}\n\n/**\n * Handle when an output is cleared or removed\n */\nfunction handle_clear_output(event, handle) {\n  var id = handle.cell.output_area._hv_plot_id;\n  var server_id = handle.cell.output_area._bokeh_server_id;\n  if (((id === undefined) || !(id in PyViz.plot_index)) && (server_id !== undefined)) { return; }\n  var comm = window.PyViz.comm_manager.get_client_comm(\"hv-extension-comm\", \"hv-extension-comm\", function () {});\n  if (server_id !== null) {\n    comm.send({event_type: 'server_delete', 'id': server_id});\n    return;\n  } else if (comm !== null) {\n    comm.send({event_type: 'delete', 'id': id});\n  }\n  delete PyViz.plot_index[id];\n  if ((window.Bokeh !== undefined) & (id in window.Bokeh.index)) {\n    var doc = window.Bokeh.index[id].model.document\n    doc.clear();\n    const i = window.Bokeh.documents.indexOf(doc);\n    if (i > -1) {\n      window.Bokeh.documents.splice(i, 1);\n    }\n  }\n}\n\n/**\n * Handle kernel restart event\n */\nfunction handle_kernel_cleanup(event, handle) {\n  delete PyViz.comms[\"hv-extension-comm\"];\n  window.PyViz.plot_index = {}\n}\n\n/**\n * Handle update_display_data messages\n */\nfunction handle_update_output(event, handle) {\n  handle_clear_output(event, {cell: {output_area: handle.output_area}})\n  handle_add_output(event, handle)\n}\n\nfunction register_renderer(events, OutputArea) {\n  function append_mime(data, metadata, element) {\n    // create a DOM node to render to\n    var toinsert = this.create_output_subarea(\n    metadata,\n    CLASS_NAME,\n    EXEC_MIME_TYPE\n    );\n    this.keyboard_manager.register_events(toinsert);\n    // Render to node\n    var props = {data: data, metadata: metadata[EXEC_MIME_TYPE]};\n    render(props, toinsert[0]);\n    element.append(toinsert);\n    return toinsert\n  }\n\n  events.on('output_added.OutputArea', handle_add_output);\n  events.on('output_updated.OutputArea', handle_update_output);\n  events.on('clear_output.CodeCell', handle_clear_output);\n  events.on('delete.Cell', handle_clear_output);\n  events.on('kernel_ready.Kernel', handle_kernel_cleanup);\n\n  OutputArea.prototype.register_mime_type(EXEC_MIME_TYPE, append_mime, {\n    safe: true,\n    index: 0\n  });\n}\n\nif (window.Jupyter !== undefined) {\n  try {\n    var events = require('base/js/events');\n    var OutputArea = require('notebook/js/outputarea').OutputArea;\n    if (OutputArea.prototype.mime_types().indexOf(EXEC_MIME_TYPE) == -1) {\n      register_renderer(events, OutputArea);\n    }\n  } catch(err) {\n  }\n}\n",
      "application/vnd.holoviews_load.v0+json": ""
     },
     "metadata": {},
     "output_type": "display_data"
    },
    {
     "data": {
      "text/html": [
       "<style>*[data-root-id],\n",
       "*[data-root-id] > * {\n",
       "  box-sizing: border-box;\n",
       "  font-family: var(--jp-ui-font-family);\n",
       "  font-size: var(--jp-ui-font-size1);\n",
       "  color: var(--vscode-editor-foreground, var(--jp-ui-font-color1));\n",
       "}\n",
       "\n",
       "/* Override VSCode background color */\n",
       ".cell-output-ipywidget-background:has(\n",
       "    > .cell-output-ipywidget-background > .lm-Widget > *[data-root-id]\n",
       "  ),\n",
       ".cell-output-ipywidget-background:has(> .lm-Widget > *[data-root-id]) {\n",
       "  background-color: transparent !important;\n",
       "}\n",
       "</style>"
      ]
     },
     "metadata": {},
     "output_type": "display_data"
    },
    {
     "data": {
      "application/vnd.holoviews_exec.v0+json": "",
      "text/html": [
       "<div id='p1002'>\n",
       "  <div id=\"b081246a-e6ad-407d-95a3-bfa918eaca72\" data-root-id=\"p1002\" style=\"display: contents;\"></div>\n",
       "</div>\n",
       "<script type=\"application/javascript\">(function(root) {\n",
       "  var docs_json = {\"0c6c5c87-3e37-40b2-9924-57a1be74eeda\":{\"version\":\"3.4.2\",\"title\":\"Bokeh Application\",\"roots\":[{\"type\":\"object\",\"name\":\"panel.models.browser.BrowserInfo\",\"id\":\"p1002\"},{\"type\":\"object\",\"name\":\"panel.models.comm_manager.CommManager\",\"id\":\"p1003\",\"attributes\":{\"plot_id\":\"p1002\",\"comm_id\":\"7a26bde1a5e54b438e2d3d4a77bbe11b\",\"client_comm_id\":\"4408126178ec462e845bb498bec01dc4\"}}],\"defs\":[{\"type\":\"model\",\"name\":\"ReactiveHTML1\"},{\"type\":\"model\",\"name\":\"FlexBox1\",\"properties\":[{\"name\":\"align_content\",\"kind\":\"Any\",\"default\":\"flex-start\"},{\"name\":\"align_items\",\"kind\":\"Any\",\"default\":\"flex-start\"},{\"name\":\"flex_direction\",\"kind\":\"Any\",\"default\":\"row\"},{\"name\":\"flex_wrap\",\"kind\":\"Any\",\"default\":\"wrap\"},{\"name\":\"gap\",\"kind\":\"Any\",\"default\":\"\"},{\"name\":\"justify_content\",\"kind\":\"Any\",\"default\":\"flex-start\"}]},{\"type\":\"model\",\"name\":\"FloatPanel1\",\"properties\":[{\"name\":\"config\",\"kind\":\"Any\",\"default\":{\"type\":\"map\"}},{\"name\":\"contained\",\"kind\":\"Any\",\"default\":true},{\"name\":\"position\",\"kind\":\"Any\",\"default\":\"right-top\"},{\"name\":\"offsetx\",\"kind\":\"Any\",\"default\":null},{\"name\":\"offsety\",\"kind\":\"Any\",\"default\":null},{\"name\":\"theme\",\"kind\":\"Any\",\"default\":\"primary\"},{\"name\":\"status\",\"kind\":\"Any\",\"default\":\"normalized\"}]},{\"type\":\"model\",\"name\":\"GridStack1\",\"properties\":[{\"name\":\"mode\",\"kind\":\"Any\",\"default\":\"warn\"},{\"name\":\"ncols\",\"kind\":\"Any\",\"default\":null},{\"name\":\"nrows\",\"kind\":\"Any\",\"default\":null},{\"name\":\"allow_resize\",\"kind\":\"Any\",\"default\":true},{\"name\":\"allow_drag\",\"kind\":\"Any\",\"default\":true},{\"name\":\"state\",\"kind\":\"Any\",\"default\":[]}]},{\"type\":\"model\",\"name\":\"drag1\",\"properties\":[{\"name\":\"slider_width\",\"kind\":\"Any\",\"default\":5},{\"name\":\"slider_color\",\"kind\":\"Any\",\"default\":\"black\"},{\"name\":\"value\",\"kind\":\"Any\",\"default\":50}]},{\"type\":\"model\",\"name\":\"click1\",\"properties\":[{\"name\":\"terminal_output\",\"kind\":\"Any\",\"default\":\"\"},{\"name\":\"debug_name\",\"kind\":\"Any\",\"default\":\"\"},{\"name\":\"clears\",\"kind\":\"Any\",\"default\":0}]},{\"type\":\"model\",\"name\":\"FastWrapper1\",\"properties\":[{\"name\":\"object\",\"kind\":\"Any\",\"default\":null},{\"name\":\"style\",\"kind\":\"Any\",\"default\":null}]},{\"type\":\"model\",\"name\":\"NotificationAreaBase1\",\"properties\":[{\"name\":\"js_events\",\"kind\":\"Any\",\"default\":{\"type\":\"map\"}},{\"name\":\"position\",\"kind\":\"Any\",\"default\":\"bottom-right\"},{\"name\":\"_clear\",\"kind\":\"Any\",\"default\":0}]},{\"type\":\"model\",\"name\":\"NotificationArea1\",\"properties\":[{\"name\":\"js_events\",\"kind\":\"Any\",\"default\":{\"type\":\"map\"}},{\"name\":\"notifications\",\"kind\":\"Any\",\"default\":[]},{\"name\":\"position\",\"kind\":\"Any\",\"default\":\"bottom-right\"},{\"name\":\"_clear\",\"kind\":\"Any\",\"default\":0},{\"name\":\"types\",\"kind\":\"Any\",\"default\":[{\"type\":\"map\",\"entries\":[[\"type\",\"warning\"],[\"background\",\"#ffc107\"],[\"icon\",{\"type\":\"map\",\"entries\":[[\"className\",\"fas fa-exclamation-triangle\"],[\"tagName\",\"i\"],[\"color\",\"white\"]]}]]},{\"type\":\"map\",\"entries\":[[\"type\",\"info\"],[\"background\",\"#007bff\"],[\"icon\",{\"type\":\"map\",\"entries\":[[\"className\",\"fas fa-info-circle\"],[\"tagName\",\"i\"],[\"color\",\"white\"]]}]]}]}]},{\"type\":\"model\",\"name\":\"Notification\",\"properties\":[{\"name\":\"background\",\"kind\":\"Any\",\"default\":null},{\"name\":\"duration\",\"kind\":\"Any\",\"default\":3000},{\"name\":\"icon\",\"kind\":\"Any\",\"default\":null},{\"name\":\"message\",\"kind\":\"Any\",\"default\":\"\"},{\"name\":\"notification_type\",\"kind\":\"Any\",\"default\":null},{\"name\":\"_destroyed\",\"kind\":\"Any\",\"default\":false}]},{\"type\":\"model\",\"name\":\"TemplateActions1\",\"properties\":[{\"name\":\"open_modal\",\"kind\":\"Any\",\"default\":0},{\"name\":\"close_modal\",\"kind\":\"Any\",\"default\":0}]},{\"type\":\"model\",\"name\":\"BootstrapTemplateActions1\",\"properties\":[{\"name\":\"open_modal\",\"kind\":\"Any\",\"default\":0},{\"name\":\"close_modal\",\"kind\":\"Any\",\"default\":0}]},{\"type\":\"model\",\"name\":\"TemplateEditor1\",\"properties\":[{\"name\":\"layout\",\"kind\":\"Any\",\"default\":[]}]},{\"type\":\"model\",\"name\":\"MaterialTemplateActions1\",\"properties\":[{\"name\":\"open_modal\",\"kind\":\"Any\",\"default\":0},{\"name\":\"close_modal\",\"kind\":\"Any\",\"default\":0}]},{\"type\":\"model\",\"name\":\"copy_to_clipboard1\",\"properties\":[{\"name\":\"fill\",\"kind\":\"Any\",\"default\":\"none\"},{\"name\":\"value\",\"kind\":\"Any\",\"default\":null}]}]}};\n",
       "  var render_items = [{\"docid\":\"0c6c5c87-3e37-40b2-9924-57a1be74eeda\",\"roots\":{\"p1002\":\"b081246a-e6ad-407d-95a3-bfa918eaca72\"},\"root_ids\":[\"p1002\"]}];\n",
       "  var docs = Object.values(docs_json)\n",
       "  if (!docs) {\n",
       "    return\n",
       "  }\n",
       "  const py_version = docs[0].version.replace('rc', '-rc.').replace('.dev', '-dev.')\n",
       "  async function embed_document(root) {\n",
       "    var Bokeh = get_bokeh(root)\n",
       "    await Bokeh.embed.embed_items_notebook(docs_json, render_items);\n",
       "    for (const render_item of render_items) {\n",
       "      for (const root_id of render_item.root_ids) {\n",
       "\tconst id_el = document.getElementById(root_id)\n",
       "\tif (id_el.children.length && id_el.children[0].hasAttribute('data-root-id')) {\n",
       "\t  const root_el = id_el.children[0]\n",
       "\t  root_el.id = root_el.id + '-rendered'\n",
       "\t  for (const child of root_el.children) {\n",
       "            // Ensure JupyterLab does not capture keyboard shortcuts\n",
       "            // see: https://jupyterlab.readthedocs.io/en/4.1.x/extension/notebook.html#keyboard-interaction-model\n",
       "\t    child.setAttribute('data-lm-suppress-shortcuts', 'true')\n",
       "\t  }\n",
       "\t}\n",
       "      }\n",
       "    }\n",
       "  }\n",
       "  function get_bokeh(root) {\n",
       "    if (root.Bokeh === undefined) {\n",
       "      return null\n",
       "    } else if (root.Bokeh.version !== py_version) {\n",
       "      if (root.Bokeh.versions === undefined || !root.Bokeh.versions.has(py_version)) {\n",
       "\treturn null\n",
       "      }\n",
       "      return root.Bokeh.versions.get(py_version);\n",
       "    } else if (root.Bokeh.version === py_version) {\n",
       "      return root.Bokeh\n",
       "    }\n",
       "    return null\n",
       "  }\n",
       "  function is_loaded(root) {\n",
       "    var Bokeh = get_bokeh(root)\n",
       "    return (Bokeh != null && Bokeh.Panel !== undefined)\n",
       "  }\n",
       "  if (is_loaded(root)) {\n",
       "    embed_document(root);\n",
       "  } else {\n",
       "    var attempts = 0;\n",
       "    var timer = setInterval(function(root) {\n",
       "      if (is_loaded(root)) {\n",
       "        clearInterval(timer);\n",
       "        embed_document(root);\n",
       "      } else if (document.readyState == \"complete\") {\n",
       "        attempts++;\n",
       "        if (attempts > 200) {\n",
       "          clearInterval(timer);\n",
       "\t  var Bokeh = get_bokeh(root)\n",
       "\t  if (Bokeh == null || Bokeh.Panel == null) {\n",
       "            console.warn(\"Panel: ERROR: Unable to run Panel code because Bokeh or Panel library is missing\");\n",
       "\t  } else {\n",
       "\t    console.warn(\"Panel: WARNING: Attempting to render but not all required libraries could be resolved.\")\n",
       "\t    embed_document(root)\n",
       "\t  }\n",
       "        }\n",
       "      }\n",
       "    }, 25, root)\n",
       "  }\n",
       "})(window);</script>"
      ]
     },
     "metadata": {
      "application/vnd.holoviews_exec.v0+json": {
       "id": "p1002"
      }
     },
     "output_type": "display_data"
    },
    {
     "data": {
      "application/javascript": "(function(root) {\n  function now() {\n    return new Date();\n  }\n\n  var force = true;\n  var py_version = '3.4.2'.replace('rc', '-rc.').replace('.dev', '-dev.');\n  var reloading = true;\n  var Bokeh = root.Bokeh;\n\n  if (typeof (root._bokeh_timeout) === \"undefined\" || force) {\n    root._bokeh_timeout = Date.now() + 5000;\n    root._bokeh_failed_load = false;\n  }\n\n  function run_callbacks() {\n    try {\n      root._bokeh_onload_callbacks.forEach(function(callback) {\n        if (callback != null)\n          callback();\n      });\n    } finally {\n      delete root._bokeh_onload_callbacks;\n    }\n    console.debug(\"Bokeh: all callbacks have finished\");\n  }\n\n  function load_libs(css_urls, js_urls, js_modules, js_exports, callback) {\n    if (css_urls == null) css_urls = [];\n    if (js_urls == null) js_urls = [];\n    if (js_modules == null) js_modules = [];\n    if (js_exports == null) js_exports = {};\n\n    root._bokeh_onload_callbacks.push(callback);\n\n    if (root._bokeh_is_loading > 0) {\n      console.debug(\"Bokeh: BokehJS is being loaded, scheduling callback at\", now());\n      return null;\n    }\n    if (js_urls.length === 0 && js_modules.length === 0 && Object.keys(js_exports).length === 0) {\n      run_callbacks();\n      return null;\n    }\n    if (!reloading) {\n      console.debug(\"Bokeh: BokehJS not loaded, scheduling load and callback at\", now());\n    }\n\n    function on_load() {\n      root._bokeh_is_loading--;\n      if (root._bokeh_is_loading === 0) {\n        console.debug(\"Bokeh: all BokehJS libraries/stylesheets loaded\");\n        run_callbacks()\n      }\n    }\n    window._bokeh_on_load = on_load\n\n    function on_error() {\n      console.error(\"failed to load \" + url);\n    }\n\n    var skip = [];\n    if (window.requirejs) {\n      window.requirejs.config({'packages': {}, 'paths': {}, 'shim': {}});\n      root._bokeh_is_loading = css_urls.length + 0;\n    } else {\n      root._bokeh_is_loading = css_urls.length + js_urls.length + js_modules.length + Object.keys(js_exports).length;\n    }\n\n    var existing_stylesheets = []\n    var links = document.getElementsByTagName('link')\n    for (var i = 0; i < links.length; i++) {\n      var link = links[i]\n      if (link.href != null) {\n\texisting_stylesheets.push(link.href)\n      }\n    }\n    for (var i = 0; i < css_urls.length; i++) {\n      var url = css_urls[i];\n      if (existing_stylesheets.indexOf(url) !== -1) {\n\ton_load()\n\tcontinue;\n      }\n      const element = document.createElement(\"link\");\n      element.onload = on_load;\n      element.onerror = on_error;\n      element.rel = \"stylesheet\";\n      element.type = \"text/css\";\n      element.href = url;\n      console.debug(\"Bokeh: injecting link tag for BokehJS stylesheet: \", url);\n      document.body.appendChild(element);\n    }    var existing_scripts = []\n    var scripts = document.getElementsByTagName('script')\n    for (var i = 0; i < scripts.length; i++) {\n      var script = scripts[i]\n      if (script.src != null) {\n\texisting_scripts.push(script.src)\n      }\n    }\n    for (var i = 0; i < js_urls.length; i++) {\n      var url = js_urls[i];\n      if (skip.indexOf(url) !== -1 || existing_scripts.indexOf(url) !== -1) {\n\tif (!window.requirejs) {\n\t  on_load();\n\t}\n\tcontinue;\n      }\n      var element = document.createElement('script');\n      element.onload = on_load;\n      element.onerror = on_error;\n      element.async = false;\n      element.src = url;\n      console.debug(\"Bokeh: injecting script tag for BokehJS library: \", url);\n      document.head.appendChild(element);\n    }\n    for (var i = 0; i < js_modules.length; i++) {\n      var url = js_modules[i];\n      if (skip.indexOf(url) !== -1 || existing_scripts.indexOf(url) !== -1) {\n\tif (!window.requirejs) {\n\t  on_load();\n\t}\n\tcontinue;\n      }\n      var element = document.createElement('script');\n      element.onload = on_load;\n      element.onerror = on_error;\n      element.async = false;\n      element.src = url;\n      element.type = \"module\";\n      console.debug(\"Bokeh: injecting script tag for BokehJS library: \", url);\n      document.head.appendChild(element);\n    }\n    for (const name in js_exports) {\n      var url = js_exports[name];\n      if (skip.indexOf(url) >= 0 || root[name] != null) {\n\tif (!window.requirejs) {\n\t  on_load();\n\t}\n\tcontinue;\n      }\n      var element = document.createElement('script');\n      element.onerror = on_error;\n      element.async = false;\n      element.type = \"module\";\n      console.debug(\"Bokeh: injecting script tag for BokehJS library: \", url);\n      element.textContent = `\n      import ${name} from \"${url}\"\n      window.${name} = ${name}\n      window._bokeh_on_load()\n      `\n      document.head.appendChild(element);\n    }\n    if (!js_urls.length && !js_modules.length) {\n      on_load()\n    }\n  };\n\n  function inject_raw_css(css) {\n    const element = document.createElement(\"style\");\n    element.appendChild(document.createTextNode(css));\n    document.body.appendChild(element);\n  }\n\n  var js_urls = [];\n  var js_modules = [];\n  var js_exports = {};\n  var css_urls = [];\n  var inline_js = [    function(Bokeh) {\n      Bokeh.set_log_level(\"info\");\n    },\nfunction(Bokeh) {} // ensure no trailing comma for IE\n  ];\n\n  function run_inline_js() {\n    if ((root.Bokeh !== undefined) || (force === true)) {\n      for (var i = 0; i < inline_js.length; i++) {\n\ttry {\n          inline_js[i].call(root, root.Bokeh);\n\t} catch(e) {\n\t  if (!reloading) {\n\t    throw e;\n\t  }\n\t}\n      }\n      // Cache old bokeh versions\n      if (Bokeh != undefined && !reloading) {\n\tvar NewBokeh = root.Bokeh;\n\tif (Bokeh.versions === undefined) {\n\t  Bokeh.versions = new Map();\n\t}\n\tif (NewBokeh.version !== Bokeh.version) {\n\t  Bokeh.versions.set(NewBokeh.version, NewBokeh)\n\t}\n\troot.Bokeh = Bokeh;\n      }} else if (Date.now() < root._bokeh_timeout) {\n      setTimeout(run_inline_js, 100);\n    } else if (!root._bokeh_failed_load) {\n      console.log(\"Bokeh: BokehJS failed to load within specified timeout.\");\n      root._bokeh_failed_load = true;\n    }\n    root._bokeh_is_initializing = false\n  }\n\n  function load_or_wait() {\n    // Implement a backoff loop that tries to ensure we do not load multiple\n    // versions of Bokeh and its dependencies at the same time.\n    // In recent versions we use the root._bokeh_is_initializing flag\n    // to determine whether there is an ongoing attempt to initialize\n    // bokeh, however for backward compatibility we also try to ensure\n    // that we do not start loading a newer (Panel>=1.0 and Bokeh>3) version\n    // before older versions are fully initialized.\n    if (root._bokeh_is_initializing && Date.now() > root._bokeh_timeout) {\n      root._bokeh_is_initializing = false;\n      root._bokeh_onload_callbacks = undefined;\n      console.log(\"Bokeh: BokehJS was loaded multiple times but one version failed to initialize.\");\n      load_or_wait();\n    } else if (root._bokeh_is_initializing || (typeof root._bokeh_is_initializing === \"undefined\" && root._bokeh_onload_callbacks !== undefined)) {\n      setTimeout(load_or_wait, 100);\n    } else {\n      root._bokeh_is_initializing = true\n      root._bokeh_onload_callbacks = []\n      var bokeh_loaded = Bokeh != null && (Bokeh.version === py_version || (Bokeh.versions !== undefined && Bokeh.versions.has(py_version)));\n      if (!reloading && !bokeh_loaded) {\n\troot.Bokeh = undefined;\n      }\n      load_libs(css_urls, js_urls, js_modules, js_exports, function() {\n\tconsole.debug(\"Bokeh: BokehJS plotting callback run at\", now());\n\trun_inline_js();\n      });\n    }\n  }\n  // Give older versions of the autoload script a head-start to ensure\n  // they initialize before we start loading newer version.\n  setTimeout(load_or_wait, 100)\n}(window));",
      "application/vnd.holoviews_load.v0+json": ""
     },
     "metadata": {},
     "output_type": "display_data"
    },
    {
     "data": {
      "application/javascript": "\nif ((window.PyViz === undefined) || (window.PyViz instanceof HTMLElement)) {\n  window.PyViz = {comms: {}, comm_status:{}, kernels:{}, receivers: {}, plot_index: []}\n}\n\n\n    function JupyterCommManager() {\n    }\n\n    JupyterCommManager.prototype.register_target = function(plot_id, comm_id, msg_handler) {\n      if (window.comm_manager || ((window.Jupyter !== undefined) && (Jupyter.notebook.kernel != null))) {\n        var comm_manager = window.comm_manager || Jupyter.notebook.kernel.comm_manager;\n        comm_manager.register_target(comm_id, function(comm) {\n          comm.on_msg(msg_handler);\n        });\n      } else if ((plot_id in window.PyViz.kernels) && (window.PyViz.kernels[plot_id])) {\n        window.PyViz.kernels[plot_id].registerCommTarget(comm_id, function(comm) {\n          comm.onMsg = msg_handler;\n        });\n      } else if (typeof google != 'undefined' && google.colab.kernel != null) {\n        google.colab.kernel.comms.registerTarget(comm_id, (comm) => {\n          var messages = comm.messages[Symbol.asyncIterator]();\n          function processIteratorResult(result) {\n            var message = result.value;\n            console.log(message)\n            var content = {data: message.data, comm_id};\n            var buffers = []\n            for (var buffer of message.buffers || []) {\n              buffers.push(new DataView(buffer))\n            }\n            var metadata = message.metadata || {};\n            var msg = {content, buffers, metadata}\n            msg_handler(msg);\n            return messages.next().then(processIteratorResult);\n          }\n          return messages.next().then(processIteratorResult);\n        })\n      }\n    }\n\n    JupyterCommManager.prototype.get_client_comm = function(plot_id, comm_id, msg_handler) {\n      if (comm_id in window.PyViz.comms) {\n        return window.PyViz.comms[comm_id];\n      } else if (window.comm_manager || ((window.Jupyter !== undefined) && (Jupyter.notebook.kernel != null))) {\n        var comm_manager = window.comm_manager || Jupyter.notebook.kernel.comm_manager;\n        var comm = comm_manager.new_comm(comm_id, {}, {}, {}, comm_id);\n        if (msg_handler) {\n          comm.on_msg(msg_handler);\n        }\n      } else if ((plot_id in window.PyViz.kernels) && (window.PyViz.kernels[plot_id])) {\n        var comm = window.PyViz.kernels[plot_id].connectToComm(comm_id);\n        comm.open();\n        if (msg_handler) {\n          comm.onMsg = msg_handler;\n        }\n      } else if (typeof google != 'undefined' && google.colab.kernel != null) {\n        var comm_promise = google.colab.kernel.comms.open(comm_id)\n        comm_promise.then((comm) => {\n          window.PyViz.comms[comm_id] = comm;\n          if (msg_handler) {\n            var messages = comm.messages[Symbol.asyncIterator]();\n            function processIteratorResult(result) {\n              var message = result.value;\n              var content = {data: message.data};\n              var metadata = message.metadata || {comm_id};\n              var msg = {content, metadata}\n              msg_handler(msg);\n              return messages.next().then(processIteratorResult);\n            }\n            return messages.next().then(processIteratorResult);\n          }\n        }) \n        var sendClosure = (data, metadata, buffers, disposeOnDone) => {\n          return comm_promise.then((comm) => {\n            comm.send(data, metadata, buffers, disposeOnDone);\n          });\n        };\n        var comm = {\n          send: sendClosure\n        };\n      }\n      window.PyViz.comms[comm_id] = comm;\n      return comm;\n    }\n    window.PyViz.comm_manager = new JupyterCommManager();\n    \n\n\nvar JS_MIME_TYPE = 'application/javascript';\nvar HTML_MIME_TYPE = 'text/html';\nvar EXEC_MIME_TYPE = 'application/vnd.holoviews_exec.v0+json';\nvar CLASS_NAME = 'output';\n\n/**\n * Render data to the DOM node\n */\nfunction render(props, node) {\n  var div = document.createElement(\"div\");\n  var script = document.createElement(\"script\");\n  node.appendChild(div);\n  node.appendChild(script);\n}\n\n/**\n * Handle when a new output is added\n */\nfunction handle_add_output(event, handle) {\n  var output_area = handle.output_area;\n  var output = handle.output;\n  if ((output.data == undefined) || (!output.data.hasOwnProperty(EXEC_MIME_TYPE))) {\n    return\n  }\n  var id = output.metadata[EXEC_MIME_TYPE][\"id\"];\n  var toinsert = output_area.element.find(\".\" + CLASS_NAME.split(' ')[0]);\n  if (id !== undefined) {\n    var nchildren = toinsert.length;\n    var html_node = toinsert[nchildren-1].children[0];\n    html_node.innerHTML = output.data[HTML_MIME_TYPE];\n    var scripts = [];\n    var nodelist = html_node.querySelectorAll(\"script\");\n    for (var i in nodelist) {\n      if (nodelist.hasOwnProperty(i)) {\n        scripts.push(nodelist[i])\n      }\n    }\n\n    scripts.forEach( function (oldScript) {\n      var newScript = document.createElement(\"script\");\n      var attrs = [];\n      var nodemap = oldScript.attributes;\n      for (var j in nodemap) {\n        if (nodemap.hasOwnProperty(j)) {\n          attrs.push(nodemap[j])\n        }\n      }\n      attrs.forEach(function(attr) { newScript.setAttribute(attr.name, attr.value) });\n      newScript.appendChild(document.createTextNode(oldScript.innerHTML));\n      oldScript.parentNode.replaceChild(newScript, oldScript);\n    });\n    if (JS_MIME_TYPE in output.data) {\n      toinsert[nchildren-1].children[1].textContent = output.data[JS_MIME_TYPE];\n    }\n    output_area._hv_plot_id = id;\n    if ((window.Bokeh !== undefined) && (id in Bokeh.index)) {\n      window.PyViz.plot_index[id] = Bokeh.index[id];\n    } else {\n      window.PyViz.plot_index[id] = null;\n    }\n  } else if (output.metadata[EXEC_MIME_TYPE][\"server_id\"] !== undefined) {\n    var bk_div = document.createElement(\"div\");\n    bk_div.innerHTML = output.data[HTML_MIME_TYPE];\n    var script_attrs = bk_div.children[0].attributes;\n    for (var i = 0; i < script_attrs.length; i++) {\n      toinsert[toinsert.length - 1].childNodes[1].setAttribute(script_attrs[i].name, script_attrs[i].value);\n    }\n    // store reference to server id on output_area\n    output_area._bokeh_server_id = output.metadata[EXEC_MIME_TYPE][\"server_id\"];\n  }\n}\n\n/**\n * Handle when an output is cleared or removed\n */\nfunction handle_clear_output(event, handle) {\n  var id = handle.cell.output_area._hv_plot_id;\n  var server_id = handle.cell.output_area._bokeh_server_id;\n  if (((id === undefined) || !(id in PyViz.plot_index)) && (server_id !== undefined)) { return; }\n  var comm = window.PyViz.comm_manager.get_client_comm(\"hv-extension-comm\", \"hv-extension-comm\", function () {});\n  if (server_id !== null) {\n    comm.send({event_type: 'server_delete', 'id': server_id});\n    return;\n  } else if (comm !== null) {\n    comm.send({event_type: 'delete', 'id': id});\n  }\n  delete PyViz.plot_index[id];\n  if ((window.Bokeh !== undefined) & (id in window.Bokeh.index)) {\n    var doc = window.Bokeh.index[id].model.document\n    doc.clear();\n    const i = window.Bokeh.documents.indexOf(doc);\n    if (i > -1) {\n      window.Bokeh.documents.splice(i, 1);\n    }\n  }\n}\n\n/**\n * Handle kernel restart event\n */\nfunction handle_kernel_cleanup(event, handle) {\n  delete PyViz.comms[\"hv-extension-comm\"];\n  window.PyViz.plot_index = {}\n}\n\n/**\n * Handle update_display_data messages\n */\nfunction handle_update_output(event, handle) {\n  handle_clear_output(event, {cell: {output_area: handle.output_area}})\n  handle_add_output(event, handle)\n}\n\nfunction register_renderer(events, OutputArea) {\n  function append_mime(data, metadata, element) {\n    // create a DOM node to render to\n    var toinsert = this.create_output_subarea(\n    metadata,\n    CLASS_NAME,\n    EXEC_MIME_TYPE\n    );\n    this.keyboard_manager.register_events(toinsert);\n    // Render to node\n    var props = {data: data, metadata: metadata[EXEC_MIME_TYPE]};\n    render(props, toinsert[0]);\n    element.append(toinsert);\n    return toinsert\n  }\n\n  events.on('output_added.OutputArea', handle_add_output);\n  events.on('output_updated.OutputArea', handle_update_output);\n  events.on('clear_output.CodeCell', handle_clear_output);\n  events.on('delete.Cell', handle_clear_output);\n  events.on('kernel_ready.Kernel', handle_kernel_cleanup);\n\n  OutputArea.prototype.register_mime_type(EXEC_MIME_TYPE, append_mime, {\n    safe: true,\n    index: 0\n  });\n}\n\nif (window.Jupyter !== undefined) {\n  try {\n    var events = require('base/js/events');\n    var OutputArea = require('notebook/js/outputarea').OutputArea;\n    if (OutputArea.prototype.mime_types().indexOf(EXEC_MIME_TYPE) == -1) {\n      register_renderer(events, OutputArea);\n    }\n  } catch(err) {\n  }\n}\n",
      "application/vnd.holoviews_load.v0+json": ""
     },
     "metadata": {},
     "output_type": "display_data"
    },
    {
     "data": {
      "text/html": [
       "<style>*[data-root-id],\n",
       "*[data-root-id] > * {\n",
       "  box-sizing: border-box;\n",
       "  font-family: var(--jp-ui-font-family);\n",
       "  font-size: var(--jp-ui-font-size1);\n",
       "  color: var(--vscode-editor-foreground, var(--jp-ui-font-color1));\n",
       "}\n",
       "\n",
       "/* Override VSCode background color */\n",
       ".cell-output-ipywidget-background:has(\n",
       "    > .cell-output-ipywidget-background > .lm-Widget > *[data-root-id]\n",
       "  ),\n",
       ".cell-output-ipywidget-background:has(> .lm-Widget > *[data-root-id]) {\n",
       "  background-color: transparent !important;\n",
       "}\n",
       "</style>"
      ]
     },
     "metadata": {},
     "output_type": "display_data"
    },
    {
     "data": {
      "text/html": [
       "<img src='data:image/png;base64,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' style='max-width:100%; margin: auto; display: block; '/>"
      ],
      "text/plain": [
       ":NdOverlay   [Variable]\n",
       "   :Curve   [index]   (value)"
      ]
     },
     "execution_count": 5,
     "metadata": {
      "application/vnd.holoviews_exec.v0+json": {}
     },
     "output_type": "execute_result"
    }
   ],
   "source": [
    "import polars as pl\n",
    "import hvplot.polars\n",
    "hvplot.extension('matplotlib')\n",
    "\n",
    "pl.DataFrame(fcst.simulations.values.squeeze().T).hvplot() # 3 forecasted paths with horizon 50"
   ]
  },
  {
   "cell_type": "markdown",
   "metadata": {},
   "source": [
    "<!-- ## Zooming in: the result summary\n",
    "\n",
    "There are plenty of information in the summary. Most of them should be self-explanatory if one is familiar with basic terminology of statistical inference. Notice that the model we defind is `GARCH`, where \"G\" stands for \"Generalised\". A typical GARCH process is GARCH(1,1) defined through the specification: \n",
    "$$\\mathrm{Var}[Y_t| \\mathcal F_{t-1}] = \\omega + \\alpha Y_{t-1}^2 + \\beta \\mathrm{Var}[Y_{t-1}| \\mathcal F_{t-2}].$$ -->\n"
   ]
  },
  {
   "cell_type": "markdown",
   "metadata": {},
   "source": [
    "## Generalising a bit "
   ]
  },
  {
   "cell_type": "markdown",
   "metadata": {},
   "source": [
    "By default the noise distribution is standard normal. \n",
    "Another popular choice is t distribution where the degree of freedom $\\nu$ is a model parameter.    \n",
    "One can change the mean to be non-zero, i.e.  \n",
    "$$\n",
    "\\begin{align*}\n",
    "Y_t &= \\mu + \\sigma_t W_t \\\\  \n",
    "\\sigma_t^2 &= \\omega+ \\alpha (Y_{t-1}-\\mu)^2\n",
    "\\end{align*}\n",
    "$$\n",
    "where $W_t$ is iid with t distribution. \n",
    "\n",
    "In code, it suffices to set `mean=\"constant\"` and `dist=\"t\"` in the constructor.  "
   ]
  },
  {
   "cell_type": "code",
   "execution_count": 18,
   "metadata": {},
   "outputs": [
    {
     "data": {
      "text/plain": [
       "                         Constant Mean - ARCH Model Results                         \n",
       "====================================================================================\n",
       "Dep. Variable:                            y   R-squared:                       0.000\n",
       "Mean Model:                   Constant Mean   Adj. R-squared:                  0.000\n",
       "Vol Model:                             ARCH   Log-Likelihood:               -2679.58\n",
       "Distribution:      Standardized Student's t   AIC:                           5367.17\n",
       "Method:                  Maximum Likelihood   BIC:                           5384.03\n",
       "                                              No. Observations:                  500\n",
       "Date:                      Tue, Sep 24 2024   Df Residuals:                      499\n",
       "Time:                              22:35:11   Df Model:                            1\n",
       "                               Mean Model                               \n",
       "========================================================================\n",
       "                 coef    std err          t      P>|t|  95.0% Conf. Int.\n",
       "------------------------------------------------------------------------\n",
       "mu            27.9488      1.487     18.796  8.138e-79 [ 25.034, 30.863]\n",
       "                              Volatility Model                              \n",
       "============================================================================\n",
       "                 coef    std err          t      P>|t|      95.0% Conf. Int.\n",
       "----------------------------------------------------------------------------\n",
       "omega       1559.0950    402.449      3.874  1.071e-04 [7.703e+02,2.348e+03]\n",
       "alpha[1]       1.0000      0.264      3.795  1.477e-04     [  0.484,  1.516]\n",
       "                              Distribution                              \n",
       "========================================================================\n",
       "                 coef    std err          t      P>|t|  95.0% Conf. Int.\n",
       "------------------------------------------------------------------------\n",
       "nu             3.3886      0.358      9.456  3.203e-21 [  2.686,  4.091]\n",
       "========================================================================\n",
       "\n",
       "Covariance estimator: robust\n",
       "ARCHModelResult, id: 0x7f69f86f8450"
      ]
     },
     "execution_count": 18,
     "metadata": {},
     "output_type": "execute_result"
    }
   ],
   "source": [
    "arch_model(y=y+30, mean=\"constant\", q=0, dist='t').fit(disp=\"off\")"
   ]
  },
  {
   "cell_type": "markdown",
   "metadata": {},
   "source": [
    "Why stop here? We can also allow the conditonal mean of $Y_t$ given history to vary with time as well, one simplest choice would be to \n",
    "assume AR dynamic for the conditional mean\n",
    "$$\n",
    "\\begin{align*}\n",
    "Y_t &= \\mu + \\phi (Y_{t-1} - \\mu) + \\sigma_t W_t \\\\  \n",
    "\\sigma_t^2 &= \\omega+ \\alpha (Y_{t-1}-\\mu)^2\n",
    "\\end{align*}\n",
    "$$\n",
    "where as before $W_t$ is iid normal by default. \n",
    "\n",
    "In code, just set `mean=\"AR\"` and `lags=[1]` where 1 is as in AR(1) for the conditional mean.  "
   ]
  },
  {
   "cell_type": "code",
   "execution_count": 15,
   "metadata": {},
   "outputs": [
    {
     "data": {
      "text/plain": [
       "                           AR - ARCH Model Results                            \n",
       "==============================================================================\n",
       "Dep. Variable:                      y   R-squared:                      -0.009\n",
       "Mean Model:                        AR   Adj. R-squared:                 -0.011\n",
       "Vol Model:                       ARCH   Log-Likelihood:               -2713.60\n",
       "Distribution:                  Normal   AIC:                           5435.21\n",
       "Method:            Maximum Likelihood   BIC:                           5452.06\n",
       "                                        No. Observations:                  499\n",
       "Date:                Tue, Sep 24 2024   Df Residuals:                      497\n",
       "Time:                        22:33:39   Df Model:                            2\n",
       "                               Mean Model                               \n",
       "========================================================================\n",
       "                 coef    std err          t      P>|t|  95.0% Conf. Int.\n",
       "------------------------------------------------------------------------\n",
       "Const         27.0729      2.670     10.139  3.727e-24 [ 21.839, 32.307]\n",
       "y[1]          -0.0281  8.163e-02     -0.344      0.731 [ -0.188,  0.132]\n",
       "                              Volatility Model                              \n",
       "============================================================================\n",
       "                 coef    std err          t      P>|t|      95.0% Conf. Int.\n",
       "----------------------------------------------------------------------------\n",
       "omega       1947.8628    445.252      4.375  1.216e-05 [1.075e+03,2.821e+03]\n",
       "alpha[1]       0.5806      0.247      2.351  1.873e-02   [9.654e-02,  1.065]\n",
       "============================================================================\n",
       "\n",
       "Covariance estimator: robust\n",
       "ARCHModelResult, id: 0x7f69f86f9790"
      ]
     },
     "execution_count": 15,
     "metadata": {},
     "output_type": "execute_result"
    }
   ],
   "source": [
    "arch_model(y=y+30, mean=\"AR\", q=0, lags=[1]).fit(disp=\"off\")"
   ]
  },
  {
   "cell_type": "markdown",
   "metadata": {},
   "source": [
    "as before, we can inspect the result container and forecast container as follows"
   ]
  },
  {
   "cell_type": "code",
   "execution_count": 19,
   "metadata": {},
   "outputs": [],
   "source": [
    "res = arch_model(y+30, mean=\"AR\", q=0, lags=[1]).fit(disp=\"off\")\n",
    "fcst = res.forecast(horizon=5)"
   ]
  },
  {
   "cell_type": "markdown",
   "metadata": {},
   "source": [
    "notice the difference of `resid` and `std_resid`, as well as the diff between `variance` and `residual_variance`"
   ]
  },
  {
   "cell_type": "code",
   "execution_count": 9,
   "metadata": {},
   "outputs": [
    {
     "data": {
      "text/plain": [
       "(58.660982953510256, 0.9984947367724978)"
      ]
     },
     "execution_count": 9,
     "metadata": {},
     "output_type": "execute_result"
    }
   ],
   "source": [
    "res.resid[1:].std(), res.std_resid[1:].std()"
   ]
  },
  {
   "cell_type": "code",
   "execution_count": 10,
   "metadata": {},
   "outputs": [
    {
     "data": {
      "text/html": [
       "<div>\n",
       "<style scoped>\n",
       "    .dataframe tbody tr th:only-of-type {\n",
       "        vertical-align: middle;\n",
       "    }\n",
       "\n",
       "    .dataframe tbody tr th {\n",
       "        vertical-align: top;\n",
       "    }\n",
       "\n",
       "    .dataframe thead th {\n",
       "        text-align: right;\n",
       "    }\n",
       "</style>\n",
       "<table border=\"1\" class=\"dataframe\">\n",
       "  <thead>\n",
       "    <tr style=\"text-align: right;\">\n",
       "      <th></th>\n",
       "      <th>h.1</th>\n",
       "      <th>h.2</th>\n",
       "      <th>h.3</th>\n",
       "      <th>h.4</th>\n",
       "      <th>h.5</th>\n",
       "    </tr>\n",
       "  </thead>\n",
       "  <tbody>\n",
       "    <tr>\n",
       "      <th>499</th>\n",
       "      <td>23351.435417</td>\n",
       "      <td>15524.642392</td>\n",
       "      <td>10963.391412</td>\n",
       "      <td>8315.005928</td>\n",
       "      <td>6777.289481</td>\n",
       "    </tr>\n",
       "  </tbody>\n",
       "</table>\n",
       "</div>"
      ],
      "text/plain": [
       "              h.1           h.2           h.3          h.4          h.5\n",
       "499  23351.435417  15524.642392  10963.391412  8315.005928  6777.289481"
      ]
     },
     "execution_count": 10,
     "metadata": {},
     "output_type": "execute_result"
    }
   ],
   "source": [
    "fcst.variance"
   ]
  },
  {
   "cell_type": "code",
   "execution_count": 11,
   "metadata": {},
   "outputs": [
    {
     "data": {
      "text/html": [
       "<div>\n",
       "<style scoped>\n",
       "    .dataframe tbody tr th:only-of-type {\n",
       "        vertical-align: middle;\n",
       "    }\n",
       "\n",
       "    .dataframe tbody tr th {\n",
       "        vertical-align: top;\n",
       "    }\n",
       "\n",
       "    .dataframe thead th {\n",
       "        text-align: right;\n",
       "    }\n",
       "</style>\n",
       "<table border=\"1\" class=\"dataframe\">\n",
       "  <thead>\n",
       "    <tr style=\"text-align: right;\">\n",
       "      <th></th>\n",
       "      <th>h.1</th>\n",
       "      <th>h.2</th>\n",
       "      <th>h.3</th>\n",
       "      <th>h.4</th>\n",
       "      <th>h.5</th>\n",
       "    </tr>\n",
       "  </thead>\n",
       "  <tbody>\n",
       "    <tr>\n",
       "      <th>499</th>\n",
       "      <td>23351.435417</td>\n",
       "      <td>15506.268989</td>\n",
       "      <td>10951.176295</td>\n",
       "      <td>8306.3797</td>\n",
       "      <td>6770.747058</td>\n",
       "    </tr>\n",
       "  </tbody>\n",
       "</table>\n",
       "</div>"
      ],
      "text/plain": [
       "              h.1           h.2           h.3        h.4          h.5\n",
       "499  23351.435417  15506.268989  10951.176295  8306.3797  6770.747058"
      ]
     },
     "execution_count": 11,
     "metadata": {},
     "output_type": "execute_result"
    }
   ],
   "source": [
    "fcst.residual_variance"
   ]
  },
  {
   "cell_type": "markdown",
   "metadata": {},
   "source": [
    "<!-- ## Parameter estimation -->"
   ]
  },
  {
   "cell_type": "markdown",
   "metadata": {},
   "source": []
  }
 ],
 "metadata": {
  "kernelspec": {
   "display_name": "ve",
   "language": "python",
   "name": "python3"
  },
  "language_info": {
   "codemirror_mode": {
    "name": "ipython",
    "version": 3
   },
   "file_extension": ".py",
   "mimetype": "text/x-python",
   "name": "python",
   "nbconvert_exporter": "python",
   "pygments_lexer": "ipython3",
   "version": "3.11.9"
  }
 },
 "nbformat": 4,
 "nbformat_minor": 2
}
