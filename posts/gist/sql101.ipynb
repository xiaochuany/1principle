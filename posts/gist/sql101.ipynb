{
 "cells": [
  {
   "cell_type": "raw",
   "id": "5211294d-c48f-4f8a-a52f-647bea6feb2a",
   "metadata": {},
   "source": [
    "---\n",
    "title: SQL 101\n",
    "author: Xiaochuan Yang\n",
    "date: '2024-01-27'\n",
    "categories: [data engineering]\n",
    "---"
   ]
  },
  {
   "cell_type": "markdown",
   "id": "656f665a-70ce-470b-801e-84aac9a1fa0d",
   "metadata": {},
   "source": [
    "Every professional interacting with data will come across SQL sooner or later. In this post, we cover a core set of vocabulary, grammer, expression for efficient use of this language.   \n",
    "\n",
    "## vocabulary\n",
    "\n",
    "`from`\n",
    "`where`\n",
    "`group by`\n",
    "`having`\n",
    "`select`\n",
    "`distinct`\n",
    "`union`\n",
    "`order by`\n",
    "`limit/fetch first rows only`\n",
    "\n",
    "these vocabularies are fundamental in the day to day usage of SQL. They are listed in the execution order as well, meaning that the `from` clause first gets executed (which table do we want), then `where` (which row) and so on. We don't have to include all the clauses in one query, but if we do, then knowing the order in which they are executed matters, especially for debugging errors. \n",
    "\n",
    "In this post, we use a jupyter kernel called `xsqlite` with `sqlite3` backend (the most commonly used in-memory database) to demonstrate the SQL language. To install the kernel, plesae visit [here](https://xeus-sqlite.readthedocs.io/en/latest/getting_started.html). \n",
    "\n",
    "Here are simple queries with some of the vocabs."
   ]
  },
  {
   "cell_type": "code",
   "execution_count": null,
   "id": "450341c6",
   "metadata": {},
   "outputs": [],
   "source": [
    "%load ../assets/tutorial.db"
   ]
  },
  {
   "cell_type": "code",
   "execution_count": null,
   "id": "85e3ee60-b575-4024-bdf4-50fc87cb686a",
   "metadata": {},
   "outputs": [
    {
     "data": {
      "text/html": [
       "<table>\n",
       "<tr>\n",
       "<th>customer_id</th>\n",
       "<th>name</th>\n",
       "<th>visited_on</th>\n",
       "<th>amount</th>\n",
       "</tr>\n",
       "<tr>\n",
       "<td>1</td>\n",
       "<td>Jhon</td>\n",
       "<td>2019-01-01</td>\n",
       "<td>100</td>\n",
       "</tr>\n",
       "<tr>\n",
       "<td>2</td>\n",
       "<td>Daniel</td>\n",
       "<td>2019-01-02</td>\n",
       "<td>110</td>\n",
       "</tr>\n",
       "<tr>\n",
       "<td>3</td>\n",
       "<td>Jade</td>\n",
       "<td>2019-01-03</td>\n",
       "<td>120</td>\n",
       "</tr>\n",
       "<tr>\n",
       "<td>4</td>\n",
       "<td>Khaled</td>\n",
       "<td>2019-01-04</td>\n",
       "<td>130</td>\n",
       "</tr>\n",
       "<tr>\n",
       "<td>5</td>\n",
       "<td>Winston</td>\n",
       "<td>2019-01-05</td>\n",
       "<td>110</td>\n",
       "</tr>\n",
       "</table>"
      ],
      "text/plain": [
       "+-------------+---------+------------+--------+\n",
       "| customer_id | name    | visited_on | amount |\n",
       "+-------------+---------+------------+--------+\n",
       "| 1           | Jhon    | 2019-01-01 | 100    |\n",
       "+-------------+---------+------------+--------+\n",
       "| 2           | Daniel  | 2019-01-02 | 110    |\n",
       "+-------------+---------+------------+--------+\n",
       "| 3           | Jade    | 2019-01-03 | 120    |\n",
       "+-------------+---------+------------+--------+\n",
       "| 4           | Khaled  | 2019-01-04 | 130    |\n",
       "+-------------+---------+------------+--------+\n",
       "| 5           | Winston | 2019-01-05 | 110    |\n",
       "+-------------+---------+------------+--------+"
      ]
     },
     "execution_count": null,
     "metadata": {},
     "output_type": "execute_result"
    }
   ],
   "source": [
    "select * from customers limit 5"
   ]
  },
  {
   "cell_type": "code",
   "execution_count": null,
   "id": "1cacf302-49ec-4533-a52a-858890c06aa4",
   "metadata": {},
   "outputs": [
    {
     "data": {
      "text/html": [
       "<table>\n",
       "<tr>\n",
       "<th>customer_id</th>\n",
       "<th>name</th>\n",
       "<th>visited_on</th>\n",
       "<th>amount</th>\n",
       "</tr>\n",
       "<tr>\n",
       "<td>1</td>\n",
       "<td>Jhon</td>\n",
       "<td>2019-01-01</td>\n",
       "<td>100</td>\n",
       "</tr>\n",
       "<tr>\n",
       "<td>2</td>\n",
       "<td>Daniel</td>\n",
       "<td>2019-01-02</td>\n",
       "<td>110</td>\n",
       "</tr>\n",
       "<tr>\n",
       "<td>1</td>\n",
       "<td>Jhon</td>\n",
       "<td>2019-01-10</td>\n",
       "<td>130</td>\n",
       "</tr>\n",
       "</table>"
      ],
      "text/plain": [
       "+-------------+--------+------------+--------+\n",
       "| customer_id | name   | visited_on | amount |\n",
       "+-------------+--------+------------+--------+\n",
       "| 1           | Jhon   | 2019-01-01 | 100    |\n",
       "+-------------+--------+------------+--------+\n",
       "| 2           | Daniel | 2019-01-02 | 110    |\n",
       "+-------------+--------+------------+--------+\n",
       "| 1           | Jhon   | 2019-01-10 | 130    |\n",
       "+-------------+--------+------------+--------+"
      ]
     },
     "execution_count": null,
     "metadata": {},
     "output_type": "execute_result"
    }
   ],
   "source": [
    "select * from customers where customer_id<3"
   ]
  },
  {
   "cell_type": "code",
   "execution_count": null,
   "id": "2929fc9b-a230-4e28-9f3b-11008e8b20c5",
   "metadata": {},
   "outputs": [
    {
     "data": {
      "text/html": [
       "<table>\n",
       "<tr>\n",
       "<th>customer_id</th>\n",
       "<th>name</th>\n",
       "<th>visited_on</th>\n",
       "<th>amount</th>\n",
       "</tr>\n",
       "<tr>\n",
       "<td>2</td>\n",
       "<td>Daniel</td>\n",
       "<td>2019-01-02</td>\n",
       "<td>110</td>\n",
       "</tr>\n",
       "</table>"
      ],
      "text/plain": [
       "+-------------+--------+------------+--------+\n",
       "| customer_id | name   | visited_on | amount |\n",
       "+-------------+--------+------------+--------+\n",
       "| 2           | Daniel | 2019-01-02 | 110    |\n",
       "+-------------+--------+------------+--------+"
      ]
     },
     "execution_count": null,
     "metadata": {},
     "output_type": "execute_result"
    }
   ],
   "source": [
    "select * from customers where customer_id=2\n",
    "union\n",
    "select * from customers where customer_id=2"
   ]
  },
  {
   "cell_type": "code",
   "execution_count": null,
   "id": "fae34340-27a5-43af-92a8-bfa17f5aaad9",
   "metadata": {},
   "outputs": [
    {
     "data": {
      "text/html": [
       "<table>\n",
       "<tr>\n",
       "<th>customer_id</th>\n",
       "<th>name</th>\n",
       "<th>visited_on</th>\n",
       "<th>amount</th>\n",
       "</tr>\n",
       "<tr>\n",
       "<td>2</td>\n",
       "<td>Daniel</td>\n",
       "<td>2019-01-02</td>\n",
       "<td>110</td>\n",
       "</tr>\n",
       "<tr>\n",
       "<td>2</td>\n",
       "<td>Daniel</td>\n",
       "<td>2019-01-02</td>\n",
       "<td>110</td>\n",
       "</tr>\n",
       "</table>"
      ],
      "text/plain": [
       "+-------------+--------+------------+--------+\n",
       "| customer_id | name   | visited_on | amount |\n",
       "+-------------+--------+------------+--------+\n",
       "| 2           | Daniel | 2019-01-02 | 110    |\n",
       "+-------------+--------+------------+--------+\n",
       "| 2           | Daniel | 2019-01-02 | 110    |\n",
       "+-------------+--------+------------+--------+"
      ]
     },
     "execution_count": null,
     "metadata": {},
     "output_type": "execute_result"
    }
   ],
   "source": [
    "select * from customers where customer_id=2\n",
    "union all\n",
    "select * from customers where customer_id=2"
   ]
  },
  {
   "cell_type": "code",
   "execution_count": null,
   "id": "0106e814-6b6c-4db0-8c56-64f06b8d79e2",
   "metadata": {},
   "outputs": [
    {
     "data": {
      "text/html": [
       "<table>\n",
       "<tr>\n",
       "<th>customer_id</th>\n",
       "<th>visited_on</th>\n",
       "</tr>\n",
       "<tr>\n",
       "<td>1</td>\n",
       "<td>2019-01-01</td>\n",
       "</tr>\n",
       "<tr>\n",
       "<td>2</td>\n",
       "<td>2019-01-02</td>\n",
       "</tr>\n",
       "<tr>\n",
       "<td>3</td>\n",
       "<td>2019-01-03</td>\n",
       "</tr>\n",
       "<tr>\n",
       "<td>4</td>\n",
       "<td>2019-01-04</td>\n",
       "</tr>\n",
       "<tr>\n",
       "<td>5</td>\n",
       "<td>2019-01-05</td>\n",
       "</tr>\n",
       "<tr>\n",
       "<td>6</td>\n",
       "<td>2019-01-06</td>\n",
       "</tr>\n",
       "<tr>\n",
       "<td>7</td>\n",
       "<td>2019-01-07</td>\n",
       "</tr>\n",
       "<tr>\n",
       "<td>8</td>\n",
       "<td>2019-01-08</td>\n",
       "</tr>\n",
       "<tr>\n",
       "<td>9</td>\n",
       "<td>2019-01-09</td>\n",
       "</tr>\n",
       "<tr>\n",
       "<td>1</td>\n",
       "<td>2019-01-10</td>\n",
       "</tr>\n",
       "<tr>\n",
       "<td>3</td>\n",
       "<td>2019-01-10</td>\n",
       "</tr>\n",
       "</table>"
      ],
      "text/plain": [
       "+-------------+------------+\n",
       "| customer_id | visited_on |\n",
       "+-------------+------------+\n",
       "| 1           | 2019-01-01 |\n",
       "+-------------+------------+\n",
       "| 2           | 2019-01-02 |\n",
       "+-------------+------------+\n",
       "| 3           | 2019-01-03 |\n",
       "+-------------+------------+\n",
       "| 4           | 2019-01-04 |\n",
       "+-------------+------------+\n",
       "| 5           | 2019-01-05 |\n",
       "+-------------+------------+\n",
       "| 6           | 2019-01-06 |\n",
       "+-------------+------------+\n",
       "| 7           | 2019-01-07 |\n",
       "+-------------+------------+\n",
       "| 8           | 2019-01-08 |\n",
       "+-------------+------------+\n",
       "| 9           | 2019-01-09 |\n",
       "+-------------+------------+\n",
       "| 1           | 2019-01-10 |\n",
       "+-------------+------------+\n",
       "| 3           | 2019-01-10 |\n",
       "+-------------+------------+"
      ]
     },
     "execution_count": null,
     "metadata": {},
     "output_type": "execute_result"
    }
   ],
   "source": [
    "select distinct customer_id, visited_on \n",
    "from customers \n",
    "order by visited_on, customer_id"
   ]
  },
  {
   "cell_type": "markdown",
   "id": "bd1b6707-96f3-4689-9363-6c18af9ae48d",
   "metadata": {},
   "source": [
    "## aggregate function\n",
    "\n",
    "It is very common that one wants summary statistics of different group of people/items/products. In SQL, this is done with the `group by` clause together with aggregate function(s)."
   ]
  },
  {
   "cell_type": "code",
   "execution_count": null,
   "id": "067a8c3d-8211-4878-8e4d-4ac407cd203c",
   "metadata": {},
   "outputs": [
    {
     "data": {
      "text/html": [
       "<table>\n",
       "<tr>\n",
       "<th>customer_id</th>\n",
       "<th>min(visited_on)</th>\n",
       "<th>count(*)</th>\n",
       "</tr>\n",
       "<tr>\n",
       "<td>1</td>\n",
       "<td>2019-01-01</td>\n",
       "<td>2</td>\n",
       "</tr>\n",
       "<tr>\n",
       "<td>2</td>\n",
       "<td>2019-01-02</td>\n",
       "<td>1</td>\n",
       "</tr>\n",
       "</table>"
      ],
      "text/plain": [
       "+-------------+-----------------+----------+\n",
       "| customer_id | min(visited_on) | count(*) |\n",
       "+-------------+-----------------+----------+\n",
       "| 1           | 2019-01-01      | 2        |\n",
       "+-------------+-----------------+----------+\n",
       "| 2           | 2019-01-02      | 1        |\n",
       "+-------------+-----------------+----------+"
      ]
     },
     "execution_count": null,
     "metadata": {},
     "output_type": "execute_result"
    }
   ],
   "source": [
    "select customer_id, min(visited_on), count(*) \n",
    "from customers \n",
    "where customer_id<3 \n",
    "group by customer_id"
   ]
  },
  {
   "cell_type": "code",
   "execution_count": null,
   "id": "387ea267-880b-4291-bbe0-0e38b5f1f1c5",
   "metadata": {},
   "outputs": [
    {
     "data": {
      "text/html": [
       "<table>\n",
       "<tr>\n",
       "<th>customer_id</th>\n",
       "<th>min(visited_on)</th>\n",
       "<th>cnt</th>\n",
       "</tr>\n",
       "<tr>\n",
       "<td>2</td>\n",
       "<td>2019-01-02</td>\n",
       "<td>1</td>\n",
       "</tr>\n",
       "</table>"
      ],
      "text/plain": [
       "+-------------+-----------------+-----+\n",
       "| customer_id | min(visited_on) | cnt |\n",
       "+-------------+-----------------+-----+\n",
       "| 2           | 2019-01-02      | 1   |\n",
       "+-------------+-----------------+-----+"
      ]
     },
     "execution_count": null,
     "metadata": {},
     "output_type": "execute_result"
    }
   ],
   "source": [
    "select customer_id, min(visited_on), count(*) as cnt \n",
    "from customers \n",
    "where customer_id<3\n",
    "group by customer_id \n",
    "having cnt=1"
   ]
  },
  {
   "cell_type": "markdown",
   "id": "273c52ab-8c69-4c5a-8f9e-22e9e8e38cd9",
   "metadata": {},
   "source": [
    "notice that `having` and `where` play a similar role which is to select relevant rows, but one gets executed before `group by`, the other after. "
   ]
  },
  {
   "cell_type": "markdown",
   "id": "1af1e9c7-5e1f-4301-9a96-aa85063c8dd9",
   "metadata": {},
   "source": [
    "## windows function\n",
    "\n",
    "windows function and aggregate function are similar-ish in that they both act on groups (with different synatx though). The difference is that an aggregate function collapses rows within the same group into one, whereas a windows function keeps all the rows within the same group/window, and add a new value to each row. "
   ]
  },
  {
   "cell_type": "code",
   "execution_count": null,
   "id": "2b4bda8c-a112-4942-8757-99f3db2f8d53",
   "metadata": {},
   "outputs": [
    {
     "data": {
      "text/html": [
       "<table>\n",
       "<tr>\n",
       "<th>row_number() over(partition by visited_on)</th>\n",
       "<th>visited_on</th>\n",
       "</tr>\n",
       "<tr>\n",
       "<td>1</td>\n",
       "<td>2019-01-01</td>\n",
       "</tr>\n",
       "<tr>\n",
       "<td>1</td>\n",
       "<td>2019-01-02</td>\n",
       "</tr>\n",
       "<tr>\n",
       "<td>1</td>\n",
       "<td>2019-01-03</td>\n",
       "</tr>\n",
       "<tr>\n",
       "<td>1</td>\n",
       "<td>2019-01-04</td>\n",
       "</tr>\n",
       "<tr>\n",
       "<td>1</td>\n",
       "<td>2019-01-05</td>\n",
       "</tr>\n",
       "<tr>\n",
       "<td>1</td>\n",
       "<td>2019-01-06</td>\n",
       "</tr>\n",
       "<tr>\n",
       "<td>1</td>\n",
       "<td>2019-01-07</td>\n",
       "</tr>\n",
       "<tr>\n",
       "<td>1</td>\n",
       "<td>2019-01-08</td>\n",
       "</tr>\n",
       "<tr>\n",
       "<td>1</td>\n",
       "<td>2019-01-09</td>\n",
       "</tr>\n",
       "<tr>\n",
       "<td>1</td>\n",
       "<td>2019-01-10</td>\n",
       "</tr>\n",
       "<tr>\n",
       "<td>2</td>\n",
       "<td>2019-01-10</td>\n",
       "</tr>\n",
       "</table>"
      ],
      "text/plain": [
       "+--------------------------------------------+------------+\n",
       "| row_number() over(partition by visited_on) | visited_on |\n",
       "+--------------------------------------------+------------+\n",
       "| 1                                          | 2019-01-01 |\n",
       "+--------------------------------------------+------------+\n",
       "| 1                                          | 2019-01-02 |\n",
       "+--------------------------------------------+------------+\n",
       "| 1                                          | 2019-01-03 |\n",
       "+--------------------------------------------+------------+\n",
       "| 1                                          | 2019-01-04 |\n",
       "+--------------------------------------------+------------+\n",
       "| 1                                          | 2019-01-05 |\n",
       "+--------------------------------------------+------------+\n",
       "| 1                                          | 2019-01-06 |\n",
       "+--------------------------------------------+------------+\n",
       "| 1                                          | 2019-01-07 |\n",
       "+--------------------------------------------+------------+\n",
       "| 1                                          | 2019-01-08 |\n",
       "+--------------------------------------------+------------+\n",
       "| 1                                          | 2019-01-09 |\n",
       "+--------------------------------------------+------------+\n",
       "| 1                                          | 2019-01-10 |\n",
       "+--------------------------------------------+------------+\n",
       "| 2                                          | 2019-01-10 |\n",
       "+--------------------------------------------+------------+"
      ]
     },
     "execution_count": null,
     "metadata": {},
     "output_type": "execute_result"
    }
   ],
   "source": [
    "select row_number() over(partition by visited_on), visited_on from customers"
   ]
  },
  {
   "cell_type": "markdown",
   "id": "075849fe-ea27-4d72-818f-febdd968670d",
   "metadata": {},
   "source": [
    "here `row_number()` is the windows function acting on the groups obtained from `partition by visited_on`. \n",
    "\n",
    "We can use `order by` instead of `partition by`, in which case there is a single group, and the  function is executed in the requested order.   "
   ]
  },
  {
   "cell_type": "code",
   "execution_count": null,
   "id": "93c6f630-0c5c-4492-a69c-38cf2ca4a155",
   "metadata": {},
   "outputs": [
    {
     "data": {
      "text/html": [
       "<table>\n",
       "<tr>\n",
       "<th>row_number() over(order by visited_on)</th>\n",
       "<th>visited_on</th>\n",
       "</tr>\n",
       "<tr>\n",
       "<td>1</td>\n",
       "<td>2019-01-01</td>\n",
       "</tr>\n",
       "<tr>\n",
       "<td>2</td>\n",
       "<td>2019-01-02</td>\n",
       "</tr>\n",
       "<tr>\n",
       "<td>3</td>\n",
       "<td>2019-01-03</td>\n",
       "</tr>\n",
       "<tr>\n",
       "<td>4</td>\n",
       "<td>2019-01-04</td>\n",
       "</tr>\n",
       "<tr>\n",
       "<td>5</td>\n",
       "<td>2019-01-05</td>\n",
       "</tr>\n",
       "<tr>\n",
       "<td>6</td>\n",
       "<td>2019-01-06</td>\n",
       "</tr>\n",
       "<tr>\n",
       "<td>7</td>\n",
       "<td>2019-01-07</td>\n",
       "</tr>\n",
       "<tr>\n",
       "<td>8</td>\n",
       "<td>2019-01-08</td>\n",
       "</tr>\n",
       "<tr>\n",
       "<td>9</td>\n",
       "<td>2019-01-09</td>\n",
       "</tr>\n",
       "<tr>\n",
       "<td>10</td>\n",
       "<td>2019-01-10</td>\n",
       "</tr>\n",
       "<tr>\n",
       "<td>11</td>\n",
       "<td>2019-01-10</td>\n",
       "</tr>\n",
       "</table>"
      ],
      "text/plain": [
       "+----------------------------------------+------------+\n",
       "| row_number() over(order by visited_on) | visited_on |\n",
       "+----------------------------------------+------------+\n",
       "| 1                                      | 2019-01-01 |\n",
       "+----------------------------------------+------------+\n",
       "| 2                                      | 2019-01-02 |\n",
       "+----------------------------------------+------------+\n",
       "| 3                                      | 2019-01-03 |\n",
       "+----------------------------------------+------------+\n",
       "| 4                                      | 2019-01-04 |\n",
       "+----------------------------------------+------------+\n",
       "| 5                                      | 2019-01-05 |\n",
       "+----------------------------------------+------------+\n",
       "| 6                                      | 2019-01-06 |\n",
       "+----------------------------------------+------------+\n",
       "| 7                                      | 2019-01-07 |\n",
       "+----------------------------------------+------------+\n",
       "| 8                                      | 2019-01-08 |\n",
       "+----------------------------------------+------------+\n",
       "| 9                                      | 2019-01-09 |\n",
       "+----------------------------------------+------------+\n",
       "| 10                                     | 2019-01-10 |\n",
       "+----------------------------------------+------------+\n",
       "| 11                                     | 2019-01-10 |\n",
       "+----------------------------------------+------------+"
      ]
     },
     "execution_count": null,
     "metadata": {},
     "output_type": "execute_result"
    }
   ],
   "source": [
    "select row_number() over(order by visited_on), visited_on from customers"
   ]
  },
  {
   "cell_type": "markdown",
   "id": "99b235d0-c893-4387-af6f-8878d6c47c07",
   "metadata": {},
   "source": [
    "it is possible to use both `partition by` and `order by` in `over()`. "
   ]
  },
  {
   "cell_type": "markdown",
   "id": "397421ce-ba68-4906-9fd8-862a24998363",
   "metadata": {},
   "source": [
    "## subquery and common table expression\n",
    "\n",
    "One can nest one query in another, called subquery. They are very useful in practice. Indeed, one complicated query needs to be decomposed into a few tasks. After figuring out the intermediate steps, one can put things together by either chaining them sequentially, or union, or a combination of both. \n",
    "\n",
    "nested subqueries can be hard to read as the level of nested queries increases. this is where CTE comes into rescue. CTE is like defining intermediate variables in a general-purpose language such as python. \n",
    "\n",
    "To illuastrate this, we consider three tables which are relational through ids. "
   ]
  },
  {
   "cell_type": "code",
   "execution_count": null,
   "id": "40f5cb6d-e8cb-45e9-bbe1-fd633f63257d",
   "metadata": {},
   "outputs": [
    {
     "data": {
      "text/html": [
       "<table>\n",
       "<tr>\n",
       "<th>movie_id</th>\n",
       "<th>title</th>\n",
       "</tr>\n",
       "<tr>\n",
       "<td>1</td>\n",
       "<td>Avengers</td>\n",
       "</tr>\n",
       "<tr>\n",
       "<td>2</td>\n",
       "<td>Frozen 2</td>\n",
       "</tr>\n",
       "<tr>\n",
       "<td>3</td>\n",
       "<td>Joker</td>\n",
       "</tr>\n",
       "</table>"
      ],
      "text/plain": [
       "+----------+----------+\n",
       "| movie_id | title    |\n",
       "+----------+----------+\n",
       "| 1        | Avengers |\n",
       "+----------+----------+\n",
       "| 2        | Frozen 2 |\n",
       "+----------+----------+\n",
       "| 3        | Joker    |\n",
       "+----------+----------+"
      ]
     },
     "execution_count": null,
     "metadata": {},
     "output_type": "execute_result"
    }
   ],
   "source": [
    "select * from movies"
   ]
  },
  {
   "cell_type": "code",
   "execution_count": null,
   "id": "57cd8cf3-113c-420b-a927-2733653ede1b",
   "metadata": {},
   "outputs": [
    {
     "data": {
      "text/html": [
       "<table>\n",
       "<tr>\n",
       "<th>user_id</th>\n",
       "<th>name</th>\n",
       "</tr>\n",
       "<tr>\n",
       "<td>1</td>\n",
       "<td>Daniel</td>\n",
       "</tr>\n",
       "<tr>\n",
       "<td>2</td>\n",
       "<td>Monica</td>\n",
       "</tr>\n",
       "<tr>\n",
       "<td>3</td>\n",
       "<td>Maria</td>\n",
       "</tr>\n",
       "<tr>\n",
       "<td>4</td>\n",
       "<td>James</td>\n",
       "</tr>\n",
       "</table>"
      ],
      "text/plain": [
       "+---------+--------+\n",
       "| user_id | name   |\n",
       "+---------+--------+\n",
       "| 1       | Daniel |\n",
       "+---------+--------+\n",
       "| 2       | Monica |\n",
       "+---------+--------+\n",
       "| 3       | Maria  |\n",
       "+---------+--------+\n",
       "| 4       | James  |\n",
       "+---------+--------+"
      ]
     },
     "execution_count": null,
     "metadata": {},
     "output_type": "execute_result"
    }
   ],
   "source": [
    "select * from userss"
   ]
  },
  {
   "cell_type": "code",
   "execution_count": null,
   "id": "ff52f3f0-00c2-474b-9374-247d0b225d51",
   "metadata": {},
   "outputs": [
    {
     "data": {
      "text/html": [
       "<table>\n",
       "<tr>\n",
       "<th>movie_id</th>\n",
       "<th>user_id</th>\n",
       "<th>rating</th>\n",
       "<th>created_at</th>\n",
       "</tr>\n",
       "<tr>\n",
       "<td>1</td>\n",
       "<td>1</td>\n",
       "<td>3</td>\n",
       "<td>2020-01-12</td>\n",
       "</tr>\n",
       "<tr>\n",
       "<td>1</td>\n",
       "<td>2</td>\n",
       "<td>4</td>\n",
       "<td>2020-02-11</td>\n",
       "</tr>\n",
       "<tr>\n",
       "<td>1</td>\n",
       "<td>3</td>\n",
       "<td>2</td>\n",
       "<td>2020-02-12</td>\n",
       "</tr>\n",
       "<tr>\n",
       "<td>1</td>\n",
       "<td>4</td>\n",
       "<td>1</td>\n",
       "<td>2020-01-01</td>\n",
       "</tr>\n",
       "<tr>\n",
       "<td>2</td>\n",
       "<td>1</td>\n",
       "<td>5</td>\n",
       "<td>2020-02-17</td>\n",
       "</tr>\n",
       "<tr>\n",
       "<td>2</td>\n",
       "<td>2</td>\n",
       "<td>2</td>\n",
       "<td>2020-02-01</td>\n",
       "</tr>\n",
       "<tr>\n",
       "<td>2</td>\n",
       "<td>3</td>\n",
       "<td>2</td>\n",
       "<td>2020-03-01</td>\n",
       "</tr>\n",
       "<tr>\n",
       "<td>3</td>\n",
       "<td>1</td>\n",
       "<td>3</td>\n",
       "<td>2020-02-22</td>\n",
       "</tr>\n",
       "<tr>\n",
       "<td>3</td>\n",
       "<td>2</td>\n",
       "<td>4</td>\n",
       "<td>2020-02-25</td>\n",
       "</tr>\n",
       "</table>"
      ],
      "text/plain": [
       "+----------+---------+--------+------------+\n",
       "| movie_id | user_id | rating | created_at |\n",
       "+----------+---------+--------+------------+\n",
       "| 1        | 1       | 3      | 2020-01-12 |\n",
       "+----------+---------+--------+------------+\n",
       "| 1        | 2       | 4      | 2020-02-11 |\n",
       "+----------+---------+--------+------------+\n",
       "| 1        | 3       | 2      | 2020-02-12 |\n",
       "+----------+---------+--------+------------+\n",
       "| 1        | 4       | 1      | 2020-01-01 |\n",
       "+----------+---------+--------+------------+\n",
       "| 2        | 1       | 5      | 2020-02-17 |\n",
       "+----------+---------+--------+------------+\n",
       "| 2        | 2       | 2      | 2020-02-01 |\n",
       "+----------+---------+--------+------------+\n",
       "| 2        | 3       | 2      | 2020-03-01 |\n",
       "+----------+---------+--------+------------+\n",
       "| 3        | 1       | 3      | 2020-02-22 |\n",
       "+----------+---------+--------+------------+\n",
       "| 3        | 2       | 4      | 2020-02-25 |\n",
       "+----------+---------+--------+------------+"
      ]
     },
     "execution_count": null,
     "metadata": {},
     "output_type": "execute_result"
    }
   ],
   "source": [
    "select * from movierating"
   ]
  },
  {
   "cell_type": "markdown",
   "id": "0537f3df-ef87-430f-8060-4dbb1f4cf1a8",
   "metadata": {},
   "source": [
    "first we `join` three tables (search online for all kinds of `join` methods!)"
   ]
  },
  {
   "cell_type": "code",
   "execution_count": null,
   "id": "ee68190b-7a10-4d0d-9e08-f5b3b14e1029",
   "metadata": {},
   "outputs": [
    {
     "data": {
      "text/html": [
       "<table>\n",
       "<tr>\n",
       "<th>movie_id</th>\n",
       "<th>user_id</th>\n",
       "<th>rating</th>\n",
       "<th>created_at</th>\n",
       "<th>name</th>\n",
       "<th>title</th>\n",
       "</tr>\n",
       "<tr>\n",
       "<td>1</td>\n",
       "<td>1</td>\n",
       "<td>3</td>\n",
       "<td>2020-01-12</td>\n",
       "<td>Daniel</td>\n",
       "<td>Avengers</td>\n",
       "</tr>\n",
       "<tr>\n",
       "<td>1</td>\n",
       "<td>2</td>\n",
       "<td>4</td>\n",
       "<td>2020-02-11</td>\n",
       "<td>Monica</td>\n",
       "<td>Avengers</td>\n",
       "</tr>\n",
       "<tr>\n",
       "<td>1</td>\n",
       "<td>3</td>\n",
       "<td>2</td>\n",
       "<td>2020-02-12</td>\n",
       "<td>Maria</td>\n",
       "<td>Avengers</td>\n",
       "</tr>\n",
       "<tr>\n",
       "<td>1</td>\n",
       "<td>4</td>\n",
       "<td>1</td>\n",
       "<td>2020-01-01</td>\n",
       "<td>James</td>\n",
       "<td>Avengers</td>\n",
       "</tr>\n",
       "<tr>\n",
       "<td>2</td>\n",
       "<td>1</td>\n",
       "<td>5</td>\n",
       "<td>2020-02-17</td>\n",
       "<td>Daniel</td>\n",
       "<td>Frozen 2</td>\n",
       "</tr>\n",
       "<tr>\n",
       "<td>2</td>\n",
       "<td>2</td>\n",
       "<td>2</td>\n",
       "<td>2020-02-01</td>\n",
       "<td>Monica</td>\n",
       "<td>Frozen 2</td>\n",
       "</tr>\n",
       "<tr>\n",
       "<td>2</td>\n",
       "<td>3</td>\n",
       "<td>2</td>\n",
       "<td>2020-03-01</td>\n",
       "<td>Maria</td>\n",
       "<td>Frozen 2</td>\n",
       "</tr>\n",
       "<tr>\n",
       "<td>3</td>\n",
       "<td>1</td>\n",
       "<td>3</td>\n",
       "<td>2020-02-22</td>\n",
       "<td>Daniel</td>\n",
       "<td>Joker</td>\n",
       "</tr>\n",
       "<tr>\n",
       "<td>3</td>\n",
       "<td>2</td>\n",
       "<td>4</td>\n",
       "<td>2020-02-25</td>\n",
       "<td>Monica</td>\n",
       "<td>Joker</td>\n",
       "</tr>\n",
       "</table>"
      ],
      "text/plain": [
       "+----------+---------+--------+------------+--------+----------+\n",
       "| movie_id | user_id | rating | created_at | name   | title    |\n",
       "+----------+---------+--------+------------+--------+----------+\n",
       "| 1        | 1       | 3      | 2020-01-12 | Daniel | Avengers |\n",
       "+----------+---------+--------+------------+--------+----------+\n",
       "| 1        | 2       | 4      | 2020-02-11 | Monica | Avengers |\n",
       "+----------+---------+--------+------------+--------+----------+\n",
       "| 1        | 3       | 2      | 2020-02-12 | Maria  | Avengers |\n",
       "+----------+---------+--------+------------+--------+----------+\n",
       "| 1        | 4       | 1      | 2020-01-01 | James  | Avengers |\n",
       "+----------+---------+--------+------------+--------+----------+\n",
       "| 2        | 1       | 5      | 2020-02-17 | Daniel | Frozen 2 |\n",
       "+----------+---------+--------+------------+--------+----------+\n",
       "| 2        | 2       | 2      | 2020-02-01 | Monica | Frozen 2 |\n",
       "+----------+---------+--------+------------+--------+----------+\n",
       "| 2        | 3       | 2      | 2020-03-01 | Maria  | Frozen 2 |\n",
       "+----------+---------+--------+------------+--------+----------+\n",
       "| 3        | 1       | 3      | 2020-02-22 | Daniel | Joker    |\n",
       "+----------+---------+--------+------------+--------+----------+\n",
       "| 3        | 2       | 4      | 2020-02-25 | Monica | Joker    |\n",
       "+----------+---------+--------+------------+--------+----------+"
      ]
     },
     "execution_count": null,
     "metadata": {},
     "output_type": "execute_result"
    }
   ],
   "source": [
    "select * from movierating left join userss using (user_id) left join movies using (movie_id)"
   ]
  },
  {
   "cell_type": "markdown",
   "id": "805077b7-1767-4080-8752-95d7dfcfdf5f",
   "metadata": {},
   "source": [
    "now we define `t` as the result of joining with CTE, then find the person's name who watched the largest number of movies, in case of a tie, choose the name that is lexicographical smaller (i.e. appears first in English dictionary). We would need the counts in order to find the name, this is where a subquery is required."
   ]
  },
  {
   "cell_type": "code",
   "execution_count": null,
   "id": "8cd60b51-ee72-4281-8597-f26a09e8fbef",
   "metadata": {},
   "outputs": [
    {
     "data": {
      "text/html": [
       "<table>\n",
       "<tr>\n",
       "<th>results</th>\n",
       "</tr>\n",
       "<tr>\n",
       "<td>Daniel</td>\n",
       "</tr>\n",
       "</table>"
      ],
      "text/plain": [
       "+---------+\n",
       "| results |\n",
       "+---------+\n",
       "| Daniel  |\n",
       "+---------+"
      ]
     },
     "execution_count": null,
     "metadata": {},
     "output_type": "execute_result"
    }
   ],
   "source": [
    "-- CTE\n",
    "with t as (\n",
    "    select * from movierating left join userss using (user_id) left join movies using (movie_id)\n",
    ")\n",
    "\n",
    "select name as results from (\n",
    "    -- subquery\n",
    "    select name, count(*) cnt from t group by user_id, name order by cnt desc, name \n",
    ") \n",
    "limit 1"
   ]
  },
  {
   "cell_type": "markdown",
   "id": "c4184ca8-c7ab-4b47-8e32-304d6421246b",
   "metadata": {},
   "source": [
    "## next steps\n",
    "\n",
    "writing efficient SQL is a matter of practice. In the `sql` directory of this [repo](https://github.com/xiaochuany/algorithms), you can find the solution to 50 exercises collected from leetcode. They cover a wide range of problems, including what we've covered in this post and date operations, regular expressions... have fun learning SQL! "
   ]
  },
  {
   "cell_type": "markdown",
   "id": "97b9f11c",
   "metadata": {},
   "source": []
  },
  {
   "cell_type": "markdown",
   "id": "96b27c55",
   "metadata": {},
   "source": []
  }
 ],
 "metadata": {
  "kernelspec": {
   "display_name": "xsqlite",
   "language": "sqlite",
   "name": "xsqlite"
  }
 },
 "nbformat": 4,
 "nbformat_minor": 5
}
