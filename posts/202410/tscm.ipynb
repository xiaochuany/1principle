{
 "cells": [
  {
   "cell_type": "raw",
   "metadata": {
    "vscode": {
     "languageId": "raw"
    }
   },
   "source": [
    "---\n",
    "title: \"Financial time series: a journey from code to maths, and back\"\n",
    "author: Xiaochuan Yang\n",
    "date: '2024-10-15'\n",
    "draft: false\n",
    "categories: [time series, python]\n",
    "format:\n",
    "  html:\n",
    "    code-line-numbers: false\n",
    "---"
   ]
  },
  {
   "cell_type": "markdown",
   "metadata": {},
   "source": [
    "In this post we discuss a fundamental model in financial time series modelling - the ARCH model. \n",
    "\n",
    "The model was introduced by Engle in the 80's and brought him a Nobel prize in Economy. \n",
    "Nowadays ARCH is still the go-to model, or at least a starting point for time series with varying volatility, a characteristic \n",
    "shared by many financial return series.  \n",
    "\n",
    "## ARCH model\n",
    "\n",
    "Throughout we always denote a time series by $(Y_t)$.\n",
    "ARCH model is a specification of the conditional variance of $Y_t$ given its history $\\mathcal F_{t-1}$\n",
    "by the following equation: \n",
    "$$\\mathrm{Var}[Y_t| \\mathcal F_{t-1}] = \\omega + \\alpha Y_{t-1}^2.$$\n",
    "\n",
    "In python, it is straightforward to define the ARCH model with the `arch` library. "
   ]
  },
  {
   "cell_type": "markdown",
   "metadata": {},
   "source": [
    "## `arch` library"
   ]
  },
  {
   "cell_type": "code",
   "execution_count": 1,
   "metadata": {},
   "outputs": [],
   "source": [
    "import numpy as np\n",
    "from arch import arch_model"
   ]
  },
  {
   "cell_type": "code",
   "execution_count": 2,
   "metadata": {},
   "outputs": [],
   "source": [
    "rng = np.random.default_rng(41)\n",
    "y = rng.standard_normal(size=(500,)) * np.arange(500) * 0.2\n",
    "mod = arch_model(y, mean='zero', q=0)\n",
    "res = mod.fit(disp=\"off\")\n",
    "fcst = res.forecast(horizon=50, method=\"bootstrap\", simulations=3)"
   ]
  },
  {
   "cell_type": "markdown",
   "metadata": {},
   "source": [
    "Above  we exposed the main classes of the library.      \n",
    "- `arch_model` is a convenience model constructor function with which one can specify the the mean process, the volatility (aka conditional standard deviation), the noise distribution (adhering to `scipy.stats`).  \n",
    "- `mod.fit()` returns a result container: one that contains residuals, standardised residuals, conditional volatility of the fit model.    \n",
    "- `res.forecast()` returns a forecast container: one that contains conditonal variance given the present value, simulations given the current value  etc.   "
   ]
  },
  {
   "cell_type": "code",
   "execution_count": 3,
   "metadata": {},
   "outputs": [
    {
     "data": {
      "text/plain": [
       "(arch.univariate.mean.ZeroMean,\n",
       " arch.univariate.base.ARCHModelResult,\n",
       " arch.univariate.base.ARCHModelForecast)"
      ]
     },
     "execution_count": 3,
     "metadata": {},
     "output_type": "execute_result"
    }
   ],
   "source": [
    "type(mod), type(res), type(fcst)"
   ]
  },
  {
   "cell_type": "code",
   "execution_count": 4,
   "metadata": {},
   "outputs": [
    {
     "data": {
      "text/html": [
       "<table class=\"simpletable\">\n",
       "<caption>Zero Mean - ARCH Model Results</caption>\n",
       "<tr>\n",
       "  <th>Dep. Variable:</th>          <td>y</td>         <th>  R-squared:         </th>  <td>   0.000</td> \n",
       "</tr>\n",
       "<tr>\n",
       "  <th>Mean Model:</th>         <td>Zero Mean</td>     <th>  Adj. R-squared:    </th>  <td>   0.002</td> \n",
       "</tr>\n",
       "<tr>\n",
       "  <th>Vol Model:</th>            <td>ARCH</td>        <th>  Log-Likelihood:    </th> <td>  -2719.79</td>\n",
       "</tr>\n",
       "<tr>\n",
       "  <th>Distribution:</th>        <td>Normal</td>       <th>  AIC:               </th> <td>   5443.58</td>\n",
       "</tr>\n",
       "<tr>\n",
       "  <th>Method:</th>        <td>Maximum Likelihood</td> <th>  BIC:               </th> <td>   5452.01</td>\n",
       "</tr>\n",
       "<tr>\n",
       "  <th></th>                        <td></td>          <th>  No. Observations:  </th>     <td>500</td>   \n",
       "</tr>\n",
       "<tr>\n",
       "  <th>Date:</th>           <td>Sat, Oct 19 2024</td>  <th>  Df Residuals:      </th>     <td>500</td>   \n",
       "</tr>\n",
       "<tr>\n",
       "  <th>Time:</th>               <td>18:28:40</td>      <th>  Df Model:          </th>      <td>0</td>    \n",
       "</tr>\n",
       "</table>\n",
       "<table class=\"simpletable\">\n",
       "<caption>Volatility Model</caption>\n",
       "<tr>\n",
       "      <td></td>        <th>coef</th>     <th>std err</th>      <th>t</th>       <th>P>|t|</th>     <th>95.0% Conf. Int.</th>   \n",
       "</tr>\n",
       "<tr>\n",
       "  <th>omega</th>    <td> 2082.8286</td> <td>  396.923</td> <td>    5.247</td> <td>1.542e-07</td> <td>[1.305e+03,2.861e+03]</td>\n",
       "</tr>\n",
       "<tr>\n",
       "  <th>alpha[1]</th> <td>    0.4962</td> <td>    0.174</td> <td>    2.850</td> <td>4.377e-03</td>   <td>[  0.155,  0.838]</td>  \n",
       "</tr>\n",
       "</table><br/><br/>Covariance estimator: robust"
      ],
      "text/latex": [
       "\\begin{center}\n",
       "\\begin{tabular}{lclc}\n",
       "\\toprule\n",
       "\\textbf{Dep. Variable:} &         y          & \\textbf{  R-squared:         } &     0.000   \\\\\n",
       "\\textbf{Mean Model:}    &     Zero Mean      & \\textbf{  Adj. R-squared:    } &     0.002   \\\\\n",
       "\\textbf{Vol Model:}     &        ARCH        & \\textbf{  Log-Likelihood:    } &   -2719.79  \\\\\n",
       "\\textbf{Distribution:}  &       Normal       & \\textbf{  AIC:               } &    5443.58  \\\\\n",
       "\\textbf{Method:}        & Maximum Likelihood & \\textbf{  BIC:               } &    5452.01  \\\\\n",
       "\\textbf{}               &                    & \\textbf{  No. Observations:  } &    500      \\\\\n",
       "\\textbf{Date:}          &  Sat, Oct 19 2024  & \\textbf{  Df Residuals:      } &    500      \\\\\n",
       "\\textbf{Time:}          &      18:28:40      & \\textbf{  Df Model:          } &     0       \\\\\n",
       "\\bottomrule\n",
       "\\end{tabular}\n",
       "\\begin{tabular}{lccccc}\n",
       "                  & \\textbf{coef} & \\textbf{std err} & \\textbf{t} & \\textbf{P$> |$t$|$} & \\textbf{95.0\\% Conf. Int.}  \\\\\n",
       "\\midrule\n",
       "\\textbf{omega}    &    2082.8286  &      396.923     &     5.247  &      1.542e-07       &   [1.305e+03,2.861e+03]     \\\\\n",
       "\\textbf{alpha[1]} &       0.4962  &        0.174     &     2.850  &      4.377e-03       &     [  0.155,  0.838]       \\\\\n",
       "\\bottomrule\n",
       "\\end{tabular}\n",
       "%\\caption{Zero Mean - ARCH Model Results}\n",
       "\\end{center}\n",
       "\n",
       "Covariance estimator: robust"
      ],
      "text/plain": [
       "<class 'statsmodels.iolib.summary.Summary'>\n",
       "\"\"\"\n",
       "                        Zero Mean - ARCH Model Results                        \n",
       "==============================================================================\n",
       "Dep. Variable:                      y   R-squared:                       0.000\n",
       "Mean Model:                 Zero Mean   Adj. R-squared:                  0.002\n",
       "Vol Model:                       ARCH   Log-Likelihood:               -2719.79\n",
       "Distribution:                  Normal   AIC:                           5443.58\n",
       "Method:            Maximum Likelihood   BIC:                           5452.01\n",
       "                                        No. Observations:                  500\n",
       "Date:                Sat, Oct 19 2024   Df Residuals:                      500\n",
       "Time:                        18:28:40   Df Model:                            0\n",
       "                              Volatility Model                              \n",
       "============================================================================\n",
       "                 coef    std err          t      P>|t|      95.0% Conf. Int.\n",
       "----------------------------------------------------------------------------\n",
       "omega       2082.8286    396.923      5.247  1.542e-07 [1.305e+03,2.861e+03]\n",
       "alpha[1]       0.4962      0.174      2.850  4.377e-03     [  0.155,  0.838]\n",
       "============================================================================\n",
       "\n",
       "Covariance estimator: robust\n",
       "\"\"\""
      ]
     },
     "execution_count": 4,
     "metadata": {},
     "output_type": "execute_result"
    }
   ],
   "source": [
    "res.summary()"
   ]
  },
  {
   "cell_type": "code",
   "execution_count": 5,
   "metadata": {},
   "outputs": [
    {
     "data": {
      "text/html": [
       "<script type=\"esms-options\">{\"shimMode\": true}</script><style>*[data-root-id],\n",
       "*[data-root-id] > * {\n",
       "  box-sizing: border-box;\n",
       "  font-family: var(--jp-ui-font-family);\n",
       "  font-size: var(--jp-ui-font-size1);\n",
       "  color: var(--vscode-editor-foreground, var(--jp-ui-font-color1));\n",
       "}\n",
       "\n",
       "/* Override VSCode background color */\n",
       ".cell-output-ipywidget-background:has(\n",
       "    > .cell-output-ipywidget-background > .lm-Widget > *[data-root-id]\n",
       "  ),\n",
       ".cell-output-ipywidget-background:has(> .lm-Widget > *[data-root-id]) {\n",
       "  background-color: transparent !important;\n",
       "}\n",
       "</style>"
      ]
     },
     "metadata": {},
     "output_type": "display_data"
    },
    {
     "data": {
      "application/javascript": "(function(root) {\n  function now() {\n    return new Date();\n  }\n\n  const force = true;\n  const py_version = '3.6.0'.replace('rc', '-rc.').replace('.dev', '-dev.');\n  const reloading = false;\n  const Bokeh = root.Bokeh;\n\n  // Set a timeout for this load but only if we are not already initializing\n  if (typeof (root._bokeh_timeout) === \"undefined\" || (force || !root._bokeh_is_initializing)) {\n    root._bokeh_timeout = Date.now() + 5000;\n    root._bokeh_failed_load = false;\n  }\n\n  function run_callbacks() {\n    try {\n      root._bokeh_onload_callbacks.forEach(function(callback) {\n        if (callback != null)\n          callback();\n      });\n    } finally {\n      delete root._bokeh_onload_callbacks;\n    }\n    console.debug(\"Bokeh: all callbacks have finished\");\n  }\n\n  function load_libs(css_urls, js_urls, js_modules, js_exports, callback) {\n    if (css_urls == null) css_urls = [];\n    if (js_urls == null) js_urls = [];\n    if (js_modules == null) js_modules = [];\n    if (js_exports == null) js_exports = {};\n\n    root._bokeh_onload_callbacks.push(callback);\n\n    if (root._bokeh_is_loading > 0) {\n      // Don't load bokeh if it is still initializing\n      console.debug(\"Bokeh: BokehJS is being loaded, scheduling callback at\", now());\n      return null;\n    } else if (js_urls.length === 0 && js_modules.length === 0 && Object.keys(js_exports).length === 0) {\n      // There is nothing to load\n      run_callbacks();\n      return null;\n    }\n\n    function on_load() {\n      root._bokeh_is_loading--;\n      if (root._bokeh_is_loading === 0) {\n        console.debug(\"Bokeh: all BokehJS libraries/stylesheets loaded\");\n        run_callbacks()\n      }\n    }\n    window._bokeh_on_load = on_load\n\n    function on_error(e) {\n      const src_el = e.srcElement\n      console.error(\"failed to load \" + (src_el.href || src_el.src));\n    }\n\n    const skip = [];\n    if (window.requirejs) {\n      window.requirejs.config({'packages': {}, 'paths': {}, 'shim': {}});\n      root._bokeh_is_loading = css_urls.length + 0;\n    } else {\n      root._bokeh_is_loading = css_urls.length + js_urls.length + js_modules.length + Object.keys(js_exports).length;\n    }\n\n    const existing_stylesheets = []\n    const links = document.getElementsByTagName('link')\n    for (let i = 0; i < links.length; i++) {\n      const link = links[i]\n      if (link.href != null) {\n        existing_stylesheets.push(link.href)\n      }\n    }\n    for (let i = 0; i < css_urls.length; i++) {\n      const url = css_urls[i];\n      const escaped = encodeURI(url)\n      if (existing_stylesheets.indexOf(escaped) !== -1) {\n        on_load()\n        continue;\n      }\n      const element = document.createElement(\"link\");\n      element.onload = on_load;\n      element.onerror = on_error;\n      element.rel = \"stylesheet\";\n      element.type = \"text/css\";\n      element.href = url;\n      console.debug(\"Bokeh: injecting link tag for BokehJS stylesheet: \", url);\n      document.body.appendChild(element);\n    }    var existing_scripts = []\n    const scripts = document.getElementsByTagName('script')\n    for (let i = 0; i < scripts.length; i++) {\n      var script = scripts[i]\n      if (script.src != null) {\n        existing_scripts.push(script.src)\n      }\n    }\n    for (let i = 0; i < js_urls.length; i++) {\n      const url = js_urls[i];\n      const escaped = encodeURI(url)\n      if (skip.indexOf(escaped) !== -1 || existing_scripts.indexOf(escaped) !== -1) {\n        if (!window.requirejs) {\n          on_load();\n        }\n        continue;\n      }\n      const element = document.createElement('script');\n      element.onload = on_load;\n      element.onerror = on_error;\n      element.async = false;\n      element.src = url;\n      console.debug(\"Bokeh: injecting script tag for BokehJS library: \", url);\n      document.head.appendChild(element);\n    }\n    for (let i = 0; i < js_modules.length; i++) {\n      const url = js_modules[i];\n      const escaped = encodeURI(url)\n      if (skip.indexOf(escaped) !== -1 || existing_scripts.indexOf(escaped) !== -1) {\n        if (!window.requirejs) {\n          on_load();\n        }\n        continue;\n      }\n      var element = document.createElement('script');\n      element.onload = on_load;\n      element.onerror = on_error;\n      element.async = false;\n      element.src = url;\n      element.type = \"module\";\n      console.debug(\"Bokeh: injecting script tag for BokehJS library: \", url);\n      document.head.appendChild(element);\n    }\n    for (const name in js_exports) {\n      const url = js_exports[name];\n      const escaped = encodeURI(url)\n      if (skip.indexOf(escaped) >= 0 || root[name] != null) {\n        if (!window.requirejs) {\n          on_load();\n        }\n        continue;\n      }\n      var element = document.createElement('script');\n      element.onerror = on_error;\n      element.async = false;\n      element.type = \"module\";\n      console.debug(\"Bokeh: injecting script tag for BokehJS library: \", url);\n      element.textContent = `\n      import ${name} from \"${url}\"\n      window.${name} = ${name}\n      window._bokeh_on_load()\n      `\n      document.head.appendChild(element);\n    }\n    if (!js_urls.length && !js_modules.length) {\n      on_load()\n    }\n  };\n\n  function inject_raw_css(css) {\n    const element = document.createElement(\"style\");\n    element.appendChild(document.createTextNode(css));\n    document.body.appendChild(element);\n  }\n\n  const js_urls = [\"https://cdn.holoviz.org/panel/1.5.2/dist/bundled/reactiveesm/es-module-shims@^1.10.0/dist/es-module-shims.min.js\", \"https://cdn.bokeh.org/bokeh/release/bokeh-3.6.0.min.js\", \"https://cdn.bokeh.org/bokeh/release/bokeh-gl-3.6.0.min.js\", \"https://cdn.bokeh.org/bokeh/release/bokeh-widgets-3.6.0.min.js\", \"https://cdn.bokeh.org/bokeh/release/bokeh-tables-3.6.0.min.js\", \"https://cdn.holoviz.org/panel/1.5.2/dist/panel.min.js\"];\n  const js_modules = [];\n  const js_exports = {};\n  const css_urls = [];\n  const inline_js = [    function(Bokeh) {\n      Bokeh.set_log_level(\"info\");\n    },\nfunction(Bokeh) {} // ensure no trailing comma for IE\n  ];\n\n  function run_inline_js() {\n    if ((root.Bokeh !== undefined) || (force === true)) {\n      for (let i = 0; i < inline_js.length; i++) {\n        try {\n          inline_js[i].call(root, root.Bokeh);\n        } catch(e) {\n          if (!reloading) {\n            throw e;\n          }\n        }\n      }\n      // Cache old bokeh versions\n      if (Bokeh != undefined && !reloading) {\n        var NewBokeh = root.Bokeh;\n        if (Bokeh.versions === undefined) {\n          Bokeh.versions = new Map();\n        }\n        if (NewBokeh.version !== Bokeh.version) {\n          Bokeh.versions.set(NewBokeh.version, NewBokeh)\n        }\n        root.Bokeh = Bokeh;\n      }\n    } else if (Date.now() < root._bokeh_timeout) {\n      setTimeout(run_inline_js, 100);\n    } else if (!root._bokeh_failed_load) {\n      console.log(\"Bokeh: BokehJS failed to load within specified timeout.\");\n      root._bokeh_failed_load = true;\n    }\n    root._bokeh_is_initializing = false\n  }\n\n  function load_or_wait() {\n    // Implement a backoff loop that tries to ensure we do not load multiple\n    // versions of Bokeh and its dependencies at the same time.\n    // In recent versions we use the root._bokeh_is_initializing flag\n    // to determine whether there is an ongoing attempt to initialize\n    // bokeh, however for backward compatibility we also try to ensure\n    // that we do not start loading a newer (Panel>=1.0 and Bokeh>3) version\n    // before older versions are fully initialized.\n    if (root._bokeh_is_initializing && Date.now() > root._bokeh_timeout) {\n      // If the timeout and bokeh was not successfully loaded we reset\n      // everything and try loading again\n      root._bokeh_timeout = Date.now() + 5000;\n      root._bokeh_is_initializing = false;\n      root._bokeh_onload_callbacks = undefined;\n      root._bokeh_is_loading = 0\n      console.log(\"Bokeh: BokehJS was loaded multiple times but one version failed to initialize.\");\n      load_or_wait();\n    } else if (root._bokeh_is_initializing || (typeof root._bokeh_is_initializing === \"undefined\" && root._bokeh_onload_callbacks !== undefined)) {\n      setTimeout(load_or_wait, 100);\n    } else {\n      root._bokeh_is_initializing = true\n      root._bokeh_onload_callbacks = []\n      const bokeh_loaded = root.Bokeh != null && (root.Bokeh.version === py_version || (root.Bokeh.versions !== undefined && root.Bokeh.versions.has(py_version)));\n      if (!reloading && !bokeh_loaded) {\n        if (root.Bokeh) {\n          root.Bokeh = undefined;\n        }\n        console.debug(\"Bokeh: BokehJS not loaded, scheduling load and callback at\", now());\n      }\n      load_libs(css_urls, js_urls, js_modules, js_exports, function() {\n        console.debug(\"Bokeh: BokehJS plotting callback run at\", now());\n        run_inline_js();\n      });\n    }\n  }\n  // Give older versions of the autoload script a head-start to ensure\n  // they initialize before we start loading newer version.\n  setTimeout(load_or_wait, 100)\n}(window));",
      "application/vnd.holoviews_load.v0+json": ""
     },
     "metadata": {},
     "output_type": "display_data"
    },
    {
     "data": {
      "application/javascript": "\nif ((window.PyViz === undefined) || (window.PyViz instanceof HTMLElement)) {\n  window.PyViz = {comms: {}, comm_status:{}, kernels:{}, receivers: {}, plot_index: []}\n}\n\n\n    function JupyterCommManager() {\n    }\n\n    JupyterCommManager.prototype.register_target = function(plot_id, comm_id, msg_handler) {\n      if (window.comm_manager || ((window.Jupyter !== undefined) && (Jupyter.notebook.kernel != null))) {\n        var comm_manager = window.comm_manager || Jupyter.notebook.kernel.comm_manager;\n        comm_manager.register_target(comm_id, function(comm) {\n          comm.on_msg(msg_handler);\n        });\n      } else if ((plot_id in window.PyViz.kernels) && (window.PyViz.kernels[plot_id])) {\n        window.PyViz.kernels[plot_id].registerCommTarget(comm_id, function(comm) {\n          comm.onMsg = msg_handler;\n        });\n      } else if (typeof google != 'undefined' && google.colab.kernel != null) {\n        google.colab.kernel.comms.registerTarget(comm_id, (comm) => {\n          var messages = comm.messages[Symbol.asyncIterator]();\n          function processIteratorResult(result) {\n            var message = result.value;\n            console.log(message)\n            var content = {data: message.data, comm_id};\n            var buffers = []\n            for (var buffer of message.buffers || []) {\n              buffers.push(new DataView(buffer))\n            }\n            var metadata = message.metadata || {};\n            var msg = {content, buffers, metadata}\n            msg_handler(msg);\n            return messages.next().then(processIteratorResult);\n          }\n          return messages.next().then(processIteratorResult);\n        })\n      }\n    }\n\n    JupyterCommManager.prototype.get_client_comm = function(plot_id, comm_id, msg_handler) {\n      if (comm_id in window.PyViz.comms) {\n        return window.PyViz.comms[comm_id];\n      } else if (window.comm_manager || ((window.Jupyter !== undefined) && (Jupyter.notebook.kernel != null))) {\n        var comm_manager = window.comm_manager || Jupyter.notebook.kernel.comm_manager;\n        var comm = comm_manager.new_comm(comm_id, {}, {}, {}, comm_id);\n        if (msg_handler) {\n          comm.on_msg(msg_handler);\n        }\n      } else if ((plot_id in window.PyViz.kernels) && (window.PyViz.kernels[plot_id])) {\n        var comm = window.PyViz.kernels[plot_id].connectToComm(comm_id);\n        comm.open();\n        if (msg_handler) {\n          comm.onMsg = msg_handler;\n        }\n      } else if (typeof google != 'undefined' && google.colab.kernel != null) {\n        var comm_promise = google.colab.kernel.comms.open(comm_id)\n        comm_promise.then((comm) => {\n          window.PyViz.comms[comm_id] = comm;\n          if (msg_handler) {\n            var messages = comm.messages[Symbol.asyncIterator]();\n            function processIteratorResult(result) {\n              var message = result.value;\n              var content = {data: message.data};\n              var metadata = message.metadata || {comm_id};\n              var msg = {content, metadata}\n              msg_handler(msg);\n              return messages.next().then(processIteratorResult);\n            }\n            return messages.next().then(processIteratorResult);\n          }\n        }) \n        var sendClosure = (data, metadata, buffers, disposeOnDone) => {\n          return comm_promise.then((comm) => {\n            comm.send(data, metadata, buffers, disposeOnDone);\n          });\n        };\n        var comm = {\n          send: sendClosure\n        };\n      }\n      window.PyViz.comms[comm_id] = comm;\n      return comm;\n    }\n    window.PyViz.comm_manager = new JupyterCommManager();\n    \n\n\nvar JS_MIME_TYPE = 'application/javascript';\nvar HTML_MIME_TYPE = 'text/html';\nvar EXEC_MIME_TYPE = 'application/vnd.holoviews_exec.v0+json';\nvar CLASS_NAME = 'output';\n\n/**\n * Render data to the DOM node\n */\nfunction render(props, node) {\n  var div = document.createElement(\"div\");\n  var script = document.createElement(\"script\");\n  node.appendChild(div);\n  node.appendChild(script);\n}\n\n/**\n * Handle when a new output is added\n */\nfunction handle_add_output(event, handle) {\n  var output_area = handle.output_area;\n  var output = handle.output;\n  if ((output.data == undefined) || (!output.data.hasOwnProperty(EXEC_MIME_TYPE))) {\n    return\n  }\n  var id = output.metadata[EXEC_MIME_TYPE][\"id\"];\n  var toinsert = output_area.element.find(\".\" + CLASS_NAME.split(' ')[0]);\n  if (id !== undefined) {\n    var nchildren = toinsert.length;\n    var html_node = toinsert[nchildren-1].children[0];\n    html_node.innerHTML = output.data[HTML_MIME_TYPE];\n    var scripts = [];\n    var nodelist = html_node.querySelectorAll(\"script\");\n    for (var i in nodelist) {\n      if (nodelist.hasOwnProperty(i)) {\n        scripts.push(nodelist[i])\n      }\n    }\n\n    scripts.forEach( function (oldScript) {\n      var newScript = document.createElement(\"script\");\n      var attrs = [];\n      var nodemap = oldScript.attributes;\n      for (var j in nodemap) {\n        if (nodemap.hasOwnProperty(j)) {\n          attrs.push(nodemap[j])\n        }\n      }\n      attrs.forEach(function(attr) { newScript.setAttribute(attr.name, attr.value) });\n      newScript.appendChild(document.createTextNode(oldScript.innerHTML));\n      oldScript.parentNode.replaceChild(newScript, oldScript);\n    });\n    if (JS_MIME_TYPE in output.data) {\n      toinsert[nchildren-1].children[1].textContent = output.data[JS_MIME_TYPE];\n    }\n    output_area._hv_plot_id = id;\n    if ((window.Bokeh !== undefined) && (id in Bokeh.index)) {\n      window.PyViz.plot_index[id] = Bokeh.index[id];\n    } else {\n      window.PyViz.plot_index[id] = null;\n    }\n  } else if (output.metadata[EXEC_MIME_TYPE][\"server_id\"] !== undefined) {\n    var bk_div = document.createElement(\"div\");\n    bk_div.innerHTML = output.data[HTML_MIME_TYPE];\n    var script_attrs = bk_div.children[0].attributes;\n    for (var i = 0; i < script_attrs.length; i++) {\n      toinsert[toinsert.length - 1].childNodes[1].setAttribute(script_attrs[i].name, script_attrs[i].value);\n    }\n    // store reference to server id on output_area\n    output_area._bokeh_server_id = output.metadata[EXEC_MIME_TYPE][\"server_id\"];\n  }\n}\n\n/**\n * Handle when an output is cleared or removed\n */\nfunction handle_clear_output(event, handle) {\n  var id = handle.cell.output_area._hv_plot_id;\n  var server_id = handle.cell.output_area._bokeh_server_id;\n  if (((id === undefined) || !(id in PyViz.plot_index)) && (server_id !== undefined)) { return; }\n  var comm = window.PyViz.comm_manager.get_client_comm(\"hv-extension-comm\", \"hv-extension-comm\", function () {});\n  if (server_id !== null) {\n    comm.send({event_type: 'server_delete', 'id': server_id});\n    return;\n  } else if (comm !== null) {\n    comm.send({event_type: 'delete', 'id': id});\n  }\n  delete PyViz.plot_index[id];\n  if ((window.Bokeh !== undefined) & (id in window.Bokeh.index)) {\n    var doc = window.Bokeh.index[id].model.document\n    doc.clear();\n    const i = window.Bokeh.documents.indexOf(doc);\n    if (i > -1) {\n      window.Bokeh.documents.splice(i, 1);\n    }\n  }\n}\n\n/**\n * Handle kernel restart event\n */\nfunction handle_kernel_cleanup(event, handle) {\n  delete PyViz.comms[\"hv-extension-comm\"];\n  window.PyViz.plot_index = {}\n}\n\n/**\n * Handle update_display_data messages\n */\nfunction handle_update_output(event, handle) {\n  handle_clear_output(event, {cell: {output_area: handle.output_area}})\n  handle_add_output(event, handle)\n}\n\nfunction register_renderer(events, OutputArea) {\n  function append_mime(data, metadata, element) {\n    // create a DOM node to render to\n    var toinsert = this.create_output_subarea(\n    metadata,\n    CLASS_NAME,\n    EXEC_MIME_TYPE\n    );\n    this.keyboard_manager.register_events(toinsert);\n    // Render to node\n    var props = {data: data, metadata: metadata[EXEC_MIME_TYPE]};\n    render(props, toinsert[0]);\n    element.append(toinsert);\n    return toinsert\n  }\n\n  events.on('output_added.OutputArea', handle_add_output);\n  events.on('output_updated.OutputArea', handle_update_output);\n  events.on('clear_output.CodeCell', handle_clear_output);\n  events.on('delete.Cell', handle_clear_output);\n  events.on('kernel_ready.Kernel', handle_kernel_cleanup);\n\n  OutputArea.prototype.register_mime_type(EXEC_MIME_TYPE, append_mime, {\n    safe: true,\n    index: 0\n  });\n}\n\nif (window.Jupyter !== undefined) {\n  try {\n    var events = require('base/js/events');\n    var OutputArea = require('notebook/js/outputarea').OutputArea;\n    if (OutputArea.prototype.mime_types().indexOf(EXEC_MIME_TYPE) == -1) {\n      register_renderer(events, OutputArea);\n    }\n  } catch(err) {\n  }\n}\n",
      "application/vnd.holoviews_load.v0+json": ""
     },
     "metadata": {},
     "output_type": "display_data"
    },
    {
     "data": {
      "application/vnd.holoviews_exec.v0+json": "",
      "text/html": [
       "<div id='p1002'>\n",
       "  <div id=\"f2933001-744e-4c0d-a024-ee95da3e3209\" data-root-id=\"p1002\" style=\"display: contents;\"></div>\n",
       "</div>\n",
       "<script type=\"application/javascript\">(function(root) {\n",
       "  var docs_json = {\"1d19c79f-b249-4239-8dbe-f67eefa6bef7\":{\"version\":\"3.6.0\",\"title\":\"Bokeh Application\",\"roots\":[{\"type\":\"object\",\"name\":\"panel.models.browser.BrowserInfo\",\"id\":\"p1002\"},{\"type\":\"object\",\"name\":\"panel.models.comm_manager.CommManager\",\"id\":\"p1003\",\"attributes\":{\"plot_id\":\"p1002\",\"comm_id\":\"97133af19fea4cca828ae8bed905c5c4\",\"client_comm_id\":\"ad9d2beb6bb94358b064902e2379ad34\"}}],\"defs\":[{\"type\":\"model\",\"name\":\"ReactiveHTML1\"},{\"type\":\"model\",\"name\":\"FlexBox1\",\"properties\":[{\"name\":\"align_content\",\"kind\":\"Any\",\"default\":\"flex-start\"},{\"name\":\"align_items\",\"kind\":\"Any\",\"default\":\"flex-start\"},{\"name\":\"flex_direction\",\"kind\":\"Any\",\"default\":\"row\"},{\"name\":\"flex_wrap\",\"kind\":\"Any\",\"default\":\"wrap\"},{\"name\":\"gap\",\"kind\":\"Any\",\"default\":\"\"},{\"name\":\"justify_content\",\"kind\":\"Any\",\"default\":\"flex-start\"}]},{\"type\":\"model\",\"name\":\"FloatPanel1\",\"properties\":[{\"name\":\"config\",\"kind\":\"Any\",\"default\":{\"type\":\"map\"}},{\"name\":\"contained\",\"kind\":\"Any\",\"default\":true},{\"name\":\"position\",\"kind\":\"Any\",\"default\":\"right-top\"},{\"name\":\"offsetx\",\"kind\":\"Any\",\"default\":null},{\"name\":\"offsety\",\"kind\":\"Any\",\"default\":null},{\"name\":\"theme\",\"kind\":\"Any\",\"default\":\"primary\"},{\"name\":\"status\",\"kind\":\"Any\",\"default\":\"normalized\"}]},{\"type\":\"model\",\"name\":\"GridStack1\",\"properties\":[{\"name\":\"mode\",\"kind\":\"Any\",\"default\":\"warn\"},{\"name\":\"ncols\",\"kind\":\"Any\",\"default\":null},{\"name\":\"nrows\",\"kind\":\"Any\",\"default\":null},{\"name\":\"allow_resize\",\"kind\":\"Any\",\"default\":true},{\"name\":\"allow_drag\",\"kind\":\"Any\",\"default\":true},{\"name\":\"state\",\"kind\":\"Any\",\"default\":[]}]},{\"type\":\"model\",\"name\":\"drag1\",\"properties\":[{\"name\":\"slider_width\",\"kind\":\"Any\",\"default\":5},{\"name\":\"slider_color\",\"kind\":\"Any\",\"default\":\"black\"},{\"name\":\"value\",\"kind\":\"Any\",\"default\":50}]},{\"type\":\"model\",\"name\":\"click1\",\"properties\":[{\"name\":\"terminal_output\",\"kind\":\"Any\",\"default\":\"\"},{\"name\":\"debug_name\",\"kind\":\"Any\",\"default\":\"\"},{\"name\":\"clears\",\"kind\":\"Any\",\"default\":0}]},{\"type\":\"model\",\"name\":\"FastWrapper1\",\"properties\":[{\"name\":\"object\",\"kind\":\"Any\",\"default\":null},{\"name\":\"style\",\"kind\":\"Any\",\"default\":null}]},{\"type\":\"model\",\"name\":\"NotificationAreaBase1\",\"properties\":[{\"name\":\"js_events\",\"kind\":\"Any\",\"default\":{\"type\":\"map\"}},{\"name\":\"position\",\"kind\":\"Any\",\"default\":\"bottom-right\"},{\"name\":\"_clear\",\"kind\":\"Any\",\"default\":0}]},{\"type\":\"model\",\"name\":\"NotificationArea1\",\"properties\":[{\"name\":\"js_events\",\"kind\":\"Any\",\"default\":{\"type\":\"map\"}},{\"name\":\"notifications\",\"kind\":\"Any\",\"default\":[]},{\"name\":\"position\",\"kind\":\"Any\",\"default\":\"bottom-right\"},{\"name\":\"_clear\",\"kind\":\"Any\",\"default\":0},{\"name\":\"types\",\"kind\":\"Any\",\"default\":[{\"type\":\"map\",\"entries\":[[\"type\",\"warning\"],[\"background\",\"#ffc107\"],[\"icon\",{\"type\":\"map\",\"entries\":[[\"className\",\"fas fa-exclamation-triangle\"],[\"tagName\",\"i\"],[\"color\",\"white\"]]}]]},{\"type\":\"map\",\"entries\":[[\"type\",\"info\"],[\"background\",\"#007bff\"],[\"icon\",{\"type\":\"map\",\"entries\":[[\"className\",\"fas fa-info-circle\"],[\"tagName\",\"i\"],[\"color\",\"white\"]]}]]}]}]},{\"type\":\"model\",\"name\":\"Notification\",\"properties\":[{\"name\":\"background\",\"kind\":\"Any\",\"default\":null},{\"name\":\"duration\",\"kind\":\"Any\",\"default\":3000},{\"name\":\"icon\",\"kind\":\"Any\",\"default\":null},{\"name\":\"message\",\"kind\":\"Any\",\"default\":\"\"},{\"name\":\"notification_type\",\"kind\":\"Any\",\"default\":null},{\"name\":\"_destroyed\",\"kind\":\"Any\",\"default\":false}]},{\"type\":\"model\",\"name\":\"TemplateActions1\",\"properties\":[{\"name\":\"open_modal\",\"kind\":\"Any\",\"default\":0},{\"name\":\"close_modal\",\"kind\":\"Any\",\"default\":0}]},{\"type\":\"model\",\"name\":\"BootstrapTemplateActions1\",\"properties\":[{\"name\":\"open_modal\",\"kind\":\"Any\",\"default\":0},{\"name\":\"close_modal\",\"kind\":\"Any\",\"default\":0}]},{\"type\":\"model\",\"name\":\"TemplateEditor1\",\"properties\":[{\"name\":\"layout\",\"kind\":\"Any\",\"default\":[]}]},{\"type\":\"model\",\"name\":\"MaterialTemplateActions1\",\"properties\":[{\"name\":\"open_modal\",\"kind\":\"Any\",\"default\":0},{\"name\":\"close_modal\",\"kind\":\"Any\",\"default\":0}]},{\"type\":\"model\",\"name\":\"ReactiveESM1\"},{\"type\":\"model\",\"name\":\"JSComponent1\"},{\"type\":\"model\",\"name\":\"ReactComponent1\"},{\"type\":\"model\",\"name\":\"AnyWidgetComponent1\"},{\"type\":\"model\",\"name\":\"request_value1\",\"properties\":[{\"name\":\"fill\",\"kind\":\"Any\",\"default\":\"none\"},{\"name\":\"_synced\",\"kind\":\"Any\",\"default\":null},{\"name\":\"_request_sync\",\"kind\":\"Any\",\"default\":0}]}]}};\n",
       "  var render_items = [{\"docid\":\"1d19c79f-b249-4239-8dbe-f67eefa6bef7\",\"roots\":{\"p1002\":\"f2933001-744e-4c0d-a024-ee95da3e3209\"},\"root_ids\":[\"p1002\"]}];\n",
       "  var docs = Object.values(docs_json)\n",
       "  if (!docs) {\n",
       "    return\n",
       "  }\n",
       "  const py_version = docs[0].version.replace('rc', '-rc.').replace('.dev', '-dev.')\n",
       "  async function embed_document(root) {\n",
       "    var Bokeh = get_bokeh(root)\n",
       "    await Bokeh.embed.embed_items_notebook(docs_json, render_items);\n",
       "    for (const render_item of render_items) {\n",
       "      for (const root_id of render_item.root_ids) {\n",
       "\tconst id_el = document.getElementById(root_id)\n",
       "\tif (id_el.children.length && id_el.children[0].hasAttribute('data-root-id')) {\n",
       "\t  const root_el = id_el.children[0]\n",
       "\t  root_el.id = root_el.id + '-rendered'\n",
       "\t  for (const child of root_el.children) {\n",
       "            // Ensure JupyterLab does not capture keyboard shortcuts\n",
       "            // see: https://jupyterlab.readthedocs.io/en/4.1.x/extension/notebook.html#keyboard-interaction-model\n",
       "\t    child.setAttribute('data-lm-suppress-shortcuts', 'true')\n",
       "\t  }\n",
       "\t}\n",
       "      }\n",
       "    }\n",
       "  }\n",
       "  function get_bokeh(root) {\n",
       "    if (root.Bokeh === undefined) {\n",
       "      return null\n",
       "    } else if (root.Bokeh.version !== py_version) {\n",
       "      if (root.Bokeh.versions === undefined || !root.Bokeh.versions.has(py_version)) {\n",
       "\treturn null\n",
       "      }\n",
       "      return root.Bokeh.versions.get(py_version);\n",
       "    } else if (root.Bokeh.version === py_version) {\n",
       "      return root.Bokeh\n",
       "    }\n",
       "    return null\n",
       "  }\n",
       "  function is_loaded(root) {\n",
       "    var Bokeh = get_bokeh(root)\n",
       "    return (Bokeh != null && Bokeh.Panel !== undefined)\n",
       "  }\n",
       "  if (is_loaded(root)) {\n",
       "    embed_document(root);\n",
       "  } else {\n",
       "    var attempts = 0;\n",
       "    var timer = setInterval(function(root) {\n",
       "      if (is_loaded(root)) {\n",
       "        clearInterval(timer);\n",
       "        embed_document(root);\n",
       "      } else if (document.readyState == \"complete\") {\n",
       "        attempts++;\n",
       "        if (attempts > 200) {\n",
       "          clearInterval(timer);\n",
       "\t  var Bokeh = get_bokeh(root)\n",
       "\t  if (Bokeh == null || Bokeh.Panel == null) {\n",
       "            console.warn(\"Panel: ERROR: Unable to run Panel code because Bokeh or Panel library is missing\");\n",
       "\t  } else {\n",
       "\t    console.warn(\"Panel: WARNING: Attempting to render but not all required libraries could be resolved.\")\n",
       "\t    embed_document(root)\n",
       "\t  }\n",
       "        }\n",
       "      }\n",
       "    }, 25, root)\n",
       "  }\n",
       "})(window);</script>"
      ]
     },
     "metadata": {
      "application/vnd.holoviews_exec.v0+json": {
       "id": "p1002"
      }
     },
     "output_type": "display_data"
    },
    {
     "data": {
      "text/html": [
       "<script type=\"esms-options\">{\"shimMode\": true}</script><style>*[data-root-id],\n",
       "*[data-root-id] > * {\n",
       "  box-sizing: border-box;\n",
       "  font-family: var(--jp-ui-font-family);\n",
       "  font-size: var(--jp-ui-font-size1);\n",
       "  color: var(--vscode-editor-foreground, var(--jp-ui-font-color1));\n",
       "}\n",
       "\n",
       "/* Override VSCode background color */\n",
       ".cell-output-ipywidget-background:has(\n",
       "    > .cell-output-ipywidget-background > .lm-Widget > *[data-root-id]\n",
       "  ),\n",
       ".cell-output-ipywidget-background:has(> .lm-Widget > *[data-root-id]) {\n",
       "  background-color: transparent !important;\n",
       "}\n",
       "</style>"
      ]
     },
     "metadata": {},
     "output_type": "display_data"
    },
    {
     "data": {
      "application/javascript": "(function(root) {\n  function now() {\n    return new Date();\n  }\n\n  const force = false;\n  const py_version = '3.6.0'.replace('rc', '-rc.').replace('.dev', '-dev.');\n  const reloading = true;\n  const Bokeh = root.Bokeh;\n\n  // Set a timeout for this load but only if we are not already initializing\n  if (typeof (root._bokeh_timeout) === \"undefined\" || (force || !root._bokeh_is_initializing)) {\n    root._bokeh_timeout = Date.now() + 5000;\n    root._bokeh_failed_load = false;\n  }\n\n  function run_callbacks() {\n    try {\n      root._bokeh_onload_callbacks.forEach(function(callback) {\n        if (callback != null)\n          callback();\n      });\n    } finally {\n      delete root._bokeh_onload_callbacks;\n    }\n    console.debug(\"Bokeh: all callbacks have finished\");\n  }\n\n  function load_libs(css_urls, js_urls, js_modules, js_exports, callback) {\n    if (css_urls == null) css_urls = [];\n    if (js_urls == null) js_urls = [];\n    if (js_modules == null) js_modules = [];\n    if (js_exports == null) js_exports = {};\n\n    root._bokeh_onload_callbacks.push(callback);\n\n    if (root._bokeh_is_loading > 0) {\n      // Don't load bokeh if it is still initializing\n      console.debug(\"Bokeh: BokehJS is being loaded, scheduling callback at\", now());\n      return null;\n    } else if (js_urls.length === 0 && js_modules.length === 0 && Object.keys(js_exports).length === 0) {\n      // There is nothing to load\n      run_callbacks();\n      return null;\n    }\n\n    function on_load() {\n      root._bokeh_is_loading--;\n      if (root._bokeh_is_loading === 0) {\n        console.debug(\"Bokeh: all BokehJS libraries/stylesheets loaded\");\n        run_callbacks()\n      }\n    }\n    window._bokeh_on_load = on_load\n\n    function on_error(e) {\n      const src_el = e.srcElement\n      console.error(\"failed to load \" + (src_el.href || src_el.src));\n    }\n\n    const skip = [];\n    if (window.requirejs) {\n      window.requirejs.config({'packages': {}, 'paths': {}, 'shim': {}});\n      root._bokeh_is_loading = css_urls.length + 0;\n    } else {\n      root._bokeh_is_loading = css_urls.length + js_urls.length + js_modules.length + Object.keys(js_exports).length;\n    }\n\n    const existing_stylesheets = []\n    const links = document.getElementsByTagName('link')\n    for (let i = 0; i < links.length; i++) {\n      const link = links[i]\n      if (link.href != null) {\n        existing_stylesheets.push(link.href)\n      }\n    }\n    for (let i = 0; i < css_urls.length; i++) {\n      const url = css_urls[i];\n      const escaped = encodeURI(url)\n      if (existing_stylesheets.indexOf(escaped) !== -1) {\n        on_load()\n        continue;\n      }\n      const element = document.createElement(\"link\");\n      element.onload = on_load;\n      element.onerror = on_error;\n      element.rel = \"stylesheet\";\n      element.type = \"text/css\";\n      element.href = url;\n      console.debug(\"Bokeh: injecting link tag for BokehJS stylesheet: \", url);\n      document.body.appendChild(element);\n    }    var existing_scripts = []\n    const scripts = document.getElementsByTagName('script')\n    for (let i = 0; i < scripts.length; i++) {\n      var script = scripts[i]\n      if (script.src != null) {\n        existing_scripts.push(script.src)\n      }\n    }\n    for (let i = 0; i < js_urls.length; i++) {\n      const url = js_urls[i];\n      const escaped = encodeURI(url)\n      if (skip.indexOf(escaped) !== -1 || existing_scripts.indexOf(escaped) !== -1) {\n        if (!window.requirejs) {\n          on_load();\n        }\n        continue;\n      }\n      const element = document.createElement('script');\n      element.onload = on_load;\n      element.onerror = on_error;\n      element.async = false;\n      element.src = url;\n      console.debug(\"Bokeh: injecting script tag for BokehJS library: \", url);\n      document.head.appendChild(element);\n    }\n    for (let i = 0; i < js_modules.length; i++) {\n      const url = js_modules[i];\n      const escaped = encodeURI(url)\n      if (skip.indexOf(escaped) !== -1 || existing_scripts.indexOf(escaped) !== -1) {\n        if (!window.requirejs) {\n          on_load();\n        }\n        continue;\n      }\n      var element = document.createElement('script');\n      element.onload = on_load;\n      element.onerror = on_error;\n      element.async = false;\n      element.src = url;\n      element.type = \"module\";\n      console.debug(\"Bokeh: injecting script tag for BokehJS library: \", url);\n      document.head.appendChild(element);\n    }\n    for (const name in js_exports) {\n      const url = js_exports[name];\n      const escaped = encodeURI(url)\n      if (skip.indexOf(escaped) >= 0 || root[name] != null) {\n        if (!window.requirejs) {\n          on_load();\n        }\n        continue;\n      }\n      var element = document.createElement('script');\n      element.onerror = on_error;\n      element.async = false;\n      element.type = \"module\";\n      console.debug(\"Bokeh: injecting script tag for BokehJS library: \", url);\n      element.textContent = `\n      import ${name} from \"${url}\"\n      window.${name} = ${name}\n      window._bokeh_on_load()\n      `\n      document.head.appendChild(element);\n    }\n    if (!js_urls.length && !js_modules.length) {\n      on_load()\n    }\n  };\n\n  function inject_raw_css(css) {\n    const element = document.createElement(\"style\");\n    element.appendChild(document.createTextNode(css));\n    document.body.appendChild(element);\n  }\n\n  const js_urls = [\"https://cdn.holoviz.org/panel/1.5.2/dist/bundled/reactiveesm/es-module-shims@^1.10.0/dist/es-module-shims.min.js\"];\n  const js_modules = [];\n  const js_exports = {};\n  const css_urls = [];\n  const inline_js = [    function(Bokeh) {\n      Bokeh.set_log_level(\"info\");\n    },\nfunction(Bokeh) {} // ensure no trailing comma for IE\n  ];\n\n  function run_inline_js() {\n    if ((root.Bokeh !== undefined) || (force === true)) {\n      for (let i = 0; i < inline_js.length; i++) {\n        try {\n          inline_js[i].call(root, root.Bokeh);\n        } catch(e) {\n          if (!reloading) {\n            throw e;\n          }\n        }\n      }\n      // Cache old bokeh versions\n      if (Bokeh != undefined && !reloading) {\n        var NewBokeh = root.Bokeh;\n        if (Bokeh.versions === undefined) {\n          Bokeh.versions = new Map();\n        }\n        if (NewBokeh.version !== Bokeh.version) {\n          Bokeh.versions.set(NewBokeh.version, NewBokeh)\n        }\n        root.Bokeh = Bokeh;\n      }\n    } else if (Date.now() < root._bokeh_timeout) {\n      setTimeout(run_inline_js, 100);\n    } else if (!root._bokeh_failed_load) {\n      console.log(\"Bokeh: BokehJS failed to load within specified timeout.\");\n      root._bokeh_failed_load = true;\n    }\n    root._bokeh_is_initializing = false\n  }\n\n  function load_or_wait() {\n    // Implement a backoff loop that tries to ensure we do not load multiple\n    // versions of Bokeh and its dependencies at the same time.\n    // In recent versions we use the root._bokeh_is_initializing flag\n    // to determine whether there is an ongoing attempt to initialize\n    // bokeh, however for backward compatibility we also try to ensure\n    // that we do not start loading a newer (Panel>=1.0 and Bokeh>3) version\n    // before older versions are fully initialized.\n    if (root._bokeh_is_initializing && Date.now() > root._bokeh_timeout) {\n      // If the timeout and bokeh was not successfully loaded we reset\n      // everything and try loading again\n      root._bokeh_timeout = Date.now() + 5000;\n      root._bokeh_is_initializing = false;\n      root._bokeh_onload_callbacks = undefined;\n      root._bokeh_is_loading = 0\n      console.log(\"Bokeh: BokehJS was loaded multiple times but one version failed to initialize.\");\n      load_or_wait();\n    } else if (root._bokeh_is_initializing || (typeof root._bokeh_is_initializing === \"undefined\" && root._bokeh_onload_callbacks !== undefined)) {\n      setTimeout(load_or_wait, 100);\n    } else {\n      root._bokeh_is_initializing = true\n      root._bokeh_onload_callbacks = []\n      const bokeh_loaded = root.Bokeh != null && (root.Bokeh.version === py_version || (root.Bokeh.versions !== undefined && root.Bokeh.versions.has(py_version)));\n      if (!reloading && !bokeh_loaded) {\n        if (root.Bokeh) {\n          root.Bokeh = undefined;\n        }\n        console.debug(\"Bokeh: BokehJS not loaded, scheduling load and callback at\", now());\n      }\n      load_libs(css_urls, js_urls, js_modules, js_exports, function() {\n        console.debug(\"Bokeh: BokehJS plotting callback run at\", now());\n        run_inline_js();\n      });\n    }\n  }\n  // Give older versions of the autoload script a head-start to ensure\n  // they initialize before we start loading newer version.\n  setTimeout(load_or_wait, 100)\n}(window));",
      "application/vnd.holoviews_load.v0+json": ""
     },
     "metadata": {},
     "output_type": "display_data"
    },
    {
     "data": {
      "application/javascript": "\nif ((window.PyViz === undefined) || (window.PyViz instanceof HTMLElement)) {\n  window.PyViz = {comms: {}, comm_status:{}, kernels:{}, receivers: {}, plot_index: []}\n}\n\n\n    function JupyterCommManager() {\n    }\n\n    JupyterCommManager.prototype.register_target = function(plot_id, comm_id, msg_handler) {\n      if (window.comm_manager || ((window.Jupyter !== undefined) && (Jupyter.notebook.kernel != null))) {\n        var comm_manager = window.comm_manager || Jupyter.notebook.kernel.comm_manager;\n        comm_manager.register_target(comm_id, function(comm) {\n          comm.on_msg(msg_handler);\n        });\n      } else if ((plot_id in window.PyViz.kernels) && (window.PyViz.kernels[plot_id])) {\n        window.PyViz.kernels[plot_id].registerCommTarget(comm_id, function(comm) {\n          comm.onMsg = msg_handler;\n        });\n      } else if (typeof google != 'undefined' && google.colab.kernel != null) {\n        google.colab.kernel.comms.registerTarget(comm_id, (comm) => {\n          var messages = comm.messages[Symbol.asyncIterator]();\n          function processIteratorResult(result) {\n            var message = result.value;\n            console.log(message)\n            var content = {data: message.data, comm_id};\n            var buffers = []\n            for (var buffer of message.buffers || []) {\n              buffers.push(new DataView(buffer))\n            }\n            var metadata = message.metadata || {};\n            var msg = {content, buffers, metadata}\n            msg_handler(msg);\n            return messages.next().then(processIteratorResult);\n          }\n          return messages.next().then(processIteratorResult);\n        })\n      }\n    }\n\n    JupyterCommManager.prototype.get_client_comm = function(plot_id, comm_id, msg_handler) {\n      if (comm_id in window.PyViz.comms) {\n        return window.PyViz.comms[comm_id];\n      } else if (window.comm_manager || ((window.Jupyter !== undefined) && (Jupyter.notebook.kernel != null))) {\n        var comm_manager = window.comm_manager || Jupyter.notebook.kernel.comm_manager;\n        var comm = comm_manager.new_comm(comm_id, {}, {}, {}, comm_id);\n        if (msg_handler) {\n          comm.on_msg(msg_handler);\n        }\n      } else if ((plot_id in window.PyViz.kernels) && (window.PyViz.kernels[plot_id])) {\n        var comm = window.PyViz.kernels[plot_id].connectToComm(comm_id);\n        comm.open();\n        if (msg_handler) {\n          comm.onMsg = msg_handler;\n        }\n      } else if (typeof google != 'undefined' && google.colab.kernel != null) {\n        var comm_promise = google.colab.kernel.comms.open(comm_id)\n        comm_promise.then((comm) => {\n          window.PyViz.comms[comm_id] = comm;\n          if (msg_handler) {\n            var messages = comm.messages[Symbol.asyncIterator]();\n            function processIteratorResult(result) {\n              var message = result.value;\n              var content = {data: message.data};\n              var metadata = message.metadata || {comm_id};\n              var msg = {content, metadata}\n              msg_handler(msg);\n              return messages.next().then(processIteratorResult);\n            }\n            return messages.next().then(processIteratorResult);\n          }\n        }) \n        var sendClosure = (data, metadata, buffers, disposeOnDone) => {\n          return comm_promise.then((comm) => {\n            comm.send(data, metadata, buffers, disposeOnDone);\n          });\n        };\n        var comm = {\n          send: sendClosure\n        };\n      }\n      window.PyViz.comms[comm_id] = comm;\n      return comm;\n    }\n    window.PyViz.comm_manager = new JupyterCommManager();\n    \n\n\nvar JS_MIME_TYPE = 'application/javascript';\nvar HTML_MIME_TYPE = 'text/html';\nvar EXEC_MIME_TYPE = 'application/vnd.holoviews_exec.v0+json';\nvar CLASS_NAME = 'output';\n\n/**\n * Render data to the DOM node\n */\nfunction render(props, node) {\n  var div = document.createElement(\"div\");\n  var script = document.createElement(\"script\");\n  node.appendChild(div);\n  node.appendChild(script);\n}\n\n/**\n * Handle when a new output is added\n */\nfunction handle_add_output(event, handle) {\n  var output_area = handle.output_area;\n  var output = handle.output;\n  if ((output.data == undefined) || (!output.data.hasOwnProperty(EXEC_MIME_TYPE))) {\n    return\n  }\n  var id = output.metadata[EXEC_MIME_TYPE][\"id\"];\n  var toinsert = output_area.element.find(\".\" + CLASS_NAME.split(' ')[0]);\n  if (id !== undefined) {\n    var nchildren = toinsert.length;\n    var html_node = toinsert[nchildren-1].children[0];\n    html_node.innerHTML = output.data[HTML_MIME_TYPE];\n    var scripts = [];\n    var nodelist = html_node.querySelectorAll(\"script\");\n    for (var i in nodelist) {\n      if (nodelist.hasOwnProperty(i)) {\n        scripts.push(nodelist[i])\n      }\n    }\n\n    scripts.forEach( function (oldScript) {\n      var newScript = document.createElement(\"script\");\n      var attrs = [];\n      var nodemap = oldScript.attributes;\n      for (var j in nodemap) {\n        if (nodemap.hasOwnProperty(j)) {\n          attrs.push(nodemap[j])\n        }\n      }\n      attrs.forEach(function(attr) { newScript.setAttribute(attr.name, attr.value) });\n      newScript.appendChild(document.createTextNode(oldScript.innerHTML));\n      oldScript.parentNode.replaceChild(newScript, oldScript);\n    });\n    if (JS_MIME_TYPE in output.data) {\n      toinsert[nchildren-1].children[1].textContent = output.data[JS_MIME_TYPE];\n    }\n    output_area._hv_plot_id = id;\n    if ((window.Bokeh !== undefined) && (id in Bokeh.index)) {\n      window.PyViz.plot_index[id] = Bokeh.index[id];\n    } else {\n      window.PyViz.plot_index[id] = null;\n    }\n  } else if (output.metadata[EXEC_MIME_TYPE][\"server_id\"] !== undefined) {\n    var bk_div = document.createElement(\"div\");\n    bk_div.innerHTML = output.data[HTML_MIME_TYPE];\n    var script_attrs = bk_div.children[0].attributes;\n    for (var i = 0; i < script_attrs.length; i++) {\n      toinsert[toinsert.length - 1].childNodes[1].setAttribute(script_attrs[i].name, script_attrs[i].value);\n    }\n    // store reference to server id on output_area\n    output_area._bokeh_server_id = output.metadata[EXEC_MIME_TYPE][\"server_id\"];\n  }\n}\n\n/**\n * Handle when an output is cleared or removed\n */\nfunction handle_clear_output(event, handle) {\n  var id = handle.cell.output_area._hv_plot_id;\n  var server_id = handle.cell.output_area._bokeh_server_id;\n  if (((id === undefined) || !(id in PyViz.plot_index)) && (server_id !== undefined)) { return; }\n  var comm = window.PyViz.comm_manager.get_client_comm(\"hv-extension-comm\", \"hv-extension-comm\", function () {});\n  if (server_id !== null) {\n    comm.send({event_type: 'server_delete', 'id': server_id});\n    return;\n  } else if (comm !== null) {\n    comm.send({event_type: 'delete', 'id': id});\n  }\n  delete PyViz.plot_index[id];\n  if ((window.Bokeh !== undefined) & (id in window.Bokeh.index)) {\n    var doc = window.Bokeh.index[id].model.document\n    doc.clear();\n    const i = window.Bokeh.documents.indexOf(doc);\n    if (i > -1) {\n      window.Bokeh.documents.splice(i, 1);\n    }\n  }\n}\n\n/**\n * Handle kernel restart event\n */\nfunction handle_kernel_cleanup(event, handle) {\n  delete PyViz.comms[\"hv-extension-comm\"];\n  window.PyViz.plot_index = {}\n}\n\n/**\n * Handle update_display_data messages\n */\nfunction handle_update_output(event, handle) {\n  handle_clear_output(event, {cell: {output_area: handle.output_area}})\n  handle_add_output(event, handle)\n}\n\nfunction register_renderer(events, OutputArea) {\n  function append_mime(data, metadata, element) {\n    // create a DOM node to render to\n    var toinsert = this.create_output_subarea(\n    metadata,\n    CLASS_NAME,\n    EXEC_MIME_TYPE\n    );\n    this.keyboard_manager.register_events(toinsert);\n    // Render to node\n    var props = {data: data, metadata: metadata[EXEC_MIME_TYPE]};\n    render(props, toinsert[0]);\n    element.append(toinsert);\n    return toinsert\n  }\n\n  events.on('output_added.OutputArea', handle_add_output);\n  events.on('output_updated.OutputArea', handle_update_output);\n  events.on('clear_output.CodeCell', handle_clear_output);\n  events.on('delete.Cell', handle_clear_output);\n  events.on('kernel_ready.Kernel', handle_kernel_cleanup);\n\n  OutputArea.prototype.register_mime_type(EXEC_MIME_TYPE, append_mime, {\n    safe: true,\n    index: 0\n  });\n}\n\nif (window.Jupyter !== undefined) {\n  try {\n    var events = require('base/js/events');\n    var OutputArea = require('notebook/js/outputarea').OutputArea;\n    if (OutputArea.prototype.mime_types().indexOf(EXEC_MIME_TYPE) == -1) {\n      register_renderer(events, OutputArea);\n    }\n  } catch(err) {\n  }\n}\n",
      "application/vnd.holoviews_load.v0+json": ""
     },
     "metadata": {},
     "output_type": "display_data"
    },
    {
     "data": {
      "text/html": [
       "<img src='data:image/png;base64,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' style='max-width:100%; margin: auto; display: block; '/>"
      ],
      "text/plain": [
       ":NdOverlay   [Variable]\n",
       "   :Curve   [index]   (value)"
      ]
     },
     "execution_count": 5,
     "metadata": {
      "application/vnd.holoviews_exec.v0+json": {}
     },
     "output_type": "execute_result"
    }
   ],
   "source": [
    "import polars as pl\n",
    "import hvplot.polars\n",
    "hvplot.extension('matplotlib')\n",
    "\n",
    "pl.DataFrame(fcst.simulations.values.squeeze().T).hvplot() # 3 forecasted paths with horizon 50"
   ]
  },
  {
   "cell_type": "markdown",
   "metadata": {},
   "source": [
    "<!-- ## Zooming in: the result summary\n",
    "\n",
    "There are plenty of information in the summary. Most of them should be self-explanatory if one is familiar with basic terminology of statistical inference. Notice that the model we defind is `GARCH`, where \"G\" stands for \"Generalised\". A typical GARCH process is GARCH(1,1) defined through the specification: \n",
    "$$\\mathrm{Var}[Y_t| \\mathcal F_{t-1}] = \\omega + \\alpha Y_{t-1}^2 + \\beta \\mathrm{Var}[Y_{t-1}| \\mathcal F_{t-2}].$$ -->\n"
   ]
  },
  {
   "cell_type": "markdown",
   "metadata": {},
   "source": [
    "## Mean model and noise distribution"
   ]
  },
  {
   "cell_type": "markdown",
   "metadata": {},
   "source": [
    "By default the noise distribution is standard normal. \n",
    "Another popular choice is t distribution where the degree of freedom $\\nu$ is a model parameter.    \n",
    "One can also change the mean to be non-zero. The model spec is as follows \n",
    "$$\n",
    "\\begin{align*}\n",
    "Y_t &= \\mu + \\sigma_t W_t \\\\  \n",
    "\\sigma_t^2 &= \\omega+ \\alpha (Y_{t-1}-\\mu)^2\n",
    "\\end{align*}\n",
    "$$\n",
    "where $W_t$ is iid with t distribution, say. \n",
    "\n",
    "In `arch`, it suffices to set `mean=\"constant\"` and `dist=\"t\"` in the constructor.  "
   ]
  },
  {
   "cell_type": "code",
   "execution_count": 6,
   "metadata": {},
   "outputs": [
    {
     "data": {
      "text/plain": [
       "                         Constant Mean - ARCH Model Results                         \n",
       "====================================================================================\n",
       "Dep. Variable:                            y   R-squared:                       0.000\n",
       "Mean Model:                   Constant Mean   Adj. R-squared:                  0.000\n",
       "Vol Model:                             ARCH   Log-Likelihood:               -2679.58\n",
       "Distribution:      Standardized Student's t   AIC:                           5367.17\n",
       "Method:                  Maximum Likelihood   BIC:                           5384.03\n",
       "                                              No. Observations:                  500\n",
       "Date:                      Sat, Oct 19 2024   Df Residuals:                      499\n",
       "Time:                              18:28:43   Df Model:                            1\n",
       "                               Mean Model                               \n",
       "========================================================================\n",
       "                 coef    std err          t      P>|t|  95.0% Conf. Int.\n",
       "------------------------------------------------------------------------\n",
       "mu            27.9482      1.487     18.797  7.917e-79 [ 25.034, 30.862]\n",
       "                              Volatility Model                              \n",
       "============================================================================\n",
       "                 coef    std err          t      P>|t|      95.0% Conf. Int.\n",
       "----------------------------------------------------------------------------\n",
       "omega       1557.7431    401.680      3.878  1.053e-04 [7.705e+02,2.345e+03]\n",
       "alpha[1]       1.0000      0.263      3.798  1.460e-04     [  0.484,  1.516]\n",
       "                              Distribution                              \n",
       "========================================================================\n",
       "                 coef    std err          t      P>|t|  95.0% Conf. Int.\n",
       "------------------------------------------------------------------------\n",
       "nu             3.3891      0.357      9.480  2.536e-21 [  2.688,  4.090]\n",
       "========================================================================\n",
       "\n",
       "Covariance estimator: robust\n",
       "ARCHModelResult, id: 0x7978505fd3a0"
      ]
     },
     "execution_count": 6,
     "metadata": {},
     "output_type": "execute_result"
    }
   ],
   "source": [
    "arch_model(y=y+30, mean=\"constant\", q=0, dist='t').fit(disp=\"off\")"
   ]
  },
  {
   "cell_type": "markdown",
   "metadata": {},
   "source": [
    "Why stop here? We can also allow the conditonal mean of $Y_t$ given history to vary with time as well, one simplest choice would be to \n",
    "assume AR dynamic for the conditional mean\n",
    "$$\n",
    "\\begin{align*}\n",
    "Y_t &= \\mu + \\phi (Y_{t-1} - \\mu) + \\sigma_t W_t \\\\  \n",
    "\\sigma_t^2 &= \\omega+ \\alpha (Y_{t-1}-\\mu)^2\n",
    "\\end{align*}\n",
    "$$\n",
    "where as before $W_t$ is iid normal by default. \n",
    "\n",
    "In `arch`, just set `mean=\"AR\"` and `lags=[1]` where 1 is as in AR(1) for the conditional mean.  "
   ]
  },
  {
   "cell_type": "code",
   "execution_count": 7,
   "metadata": {},
   "outputs": [
    {
     "data": {
      "text/plain": [
       "                           AR - ARCH Model Results                            \n",
       "==============================================================================\n",
       "Dep. Variable:                      y   R-squared:                      -0.009\n",
       "Mean Model:                        AR   Adj. R-squared:                 -0.011\n",
       "Vol Model:                       ARCH   Log-Likelihood:               -2713.60\n",
       "Distribution:                  Normal   AIC:                           5435.21\n",
       "Method:            Maximum Likelihood   BIC:                           5452.06\n",
       "                                        No. Observations:                  499\n",
       "Date:                Sat, Oct 19 2024   Df Residuals:                      497\n",
       "Time:                        18:28:43   Df Model:                            2\n",
       "                               Mean Model                               \n",
       "========================================================================\n",
       "                 coef    std err          t      P>|t|  95.0% Conf. Int.\n",
       "------------------------------------------------------------------------\n",
       "Const         27.0714      2.670     10.138  3.746e-24 [ 21.838, 32.305]\n",
       "y[1]          -0.0280  8.163e-02     -0.343      0.731 [ -0.188,  0.132]\n",
       "                              Volatility Model                              \n",
       "============================================================================\n",
       "                 coef    std err          t      P>|t|      95.0% Conf. Int.\n",
       "----------------------------------------------------------------------------\n",
       "omega       1947.6921    445.220      4.375  1.216e-05 [1.075e+03,2.820e+03]\n",
       "alpha[1]       0.5807      0.247      2.351  1.873e-02   [9.656e-02,  1.065]\n",
       "============================================================================\n",
       "\n",
       "Covariance estimator: robust\n",
       "ARCHModelResult, id: 0x79785063a780"
      ]
     },
     "execution_count": 7,
     "metadata": {},
     "output_type": "execute_result"
    }
   ],
   "source": [
    "arch_model(y=y+30, mean=\"AR\", q=0, lags=[1]).fit(disp=\"off\")"
   ]
  },
  {
   "cell_type": "markdown",
   "metadata": {},
   "source": [
    "as before, we can obtain the result container and forecast container as follows"
   ]
  },
  {
   "cell_type": "code",
   "execution_count": 8,
   "metadata": {},
   "outputs": [],
   "source": [
    "res = arch_model(y+30, mean=\"AR\", q=0, lags=[1]).fit(disp=\"off\")\n",
    "fcst = res.forecast(horizon=5)"
   ]
  },
  {
   "cell_type": "markdown",
   "metadata": {},
   "source": [
    "notice the difference of `resid` and `std_resid`, as well as the diff between `variance` and `residual_variance`"
   ]
  },
  {
   "cell_type": "code",
   "execution_count": 9,
   "metadata": {},
   "outputs": [
    {
     "data": {
      "text/plain": [
       "(np.float64(58.66084093396231), np.float64(0.9985090629605182))"
      ]
     },
     "execution_count": 9,
     "metadata": {},
     "output_type": "execute_result"
    }
   ],
   "source": [
    "res.resid[1:].std(), res.std_resid[1:].std()"
   ]
  },
  {
   "cell_type": "code",
   "execution_count": 10,
   "metadata": {},
   "outputs": [
    {
     "data": {
      "text/html": [
       "<div>\n",
       "<style scoped>\n",
       "    .dataframe tbody tr th:only-of-type {\n",
       "        vertical-align: middle;\n",
       "    }\n",
       "\n",
       "    .dataframe tbody tr th {\n",
       "        vertical-align: top;\n",
       "    }\n",
       "\n",
       "    .dataframe thead th {\n",
       "        text-align: right;\n",
       "    }\n",
       "</style>\n",
       "<table border=\"1\" class=\"dataframe\">\n",
       "  <thead>\n",
       "    <tr style=\"text-align: right;\">\n",
       "      <th></th>\n",
       "      <th>h.1</th>\n",
       "      <th>h.2</th>\n",
       "      <th>h.3</th>\n",
       "      <th>h.4</th>\n",
       "      <th>h.5</th>\n",
       "    </tr>\n",
       "  </thead>\n",
       "  <tbody>\n",
       "    <tr>\n",
       "      <th>499</th>\n",
       "      <td>23353.942452</td>\n",
       "      <td>15527.507157</td>\n",
       "      <td>10965.954024</td>\n",
       "      <td>8317.077882</td>\n",
       "      <td>6778.893468</td>\n",
       "    </tr>\n",
       "  </tbody>\n",
       "</table>\n",
       "</div>"
      ],
      "text/plain": [
       "              h.1           h.2           h.3          h.4          h.5\n",
       "499  23353.942452  15527.507157  10965.954024  8317.077882  6778.893468"
      ]
     },
     "execution_count": 10,
     "metadata": {},
     "output_type": "execute_result"
    }
   ],
   "source": [
    "fcst.variance"
   ]
  },
  {
   "cell_type": "code",
   "execution_count": 11,
   "metadata": {},
   "outputs": [
    {
     "data": {
      "text/html": [
       "<div>\n",
       "<style scoped>\n",
       "    .dataframe tbody tr th:only-of-type {\n",
       "        vertical-align: middle;\n",
       "    }\n",
       "\n",
       "    .dataframe tbody tr th {\n",
       "        vertical-align: top;\n",
       "    }\n",
       "\n",
       "    .dataframe thead th {\n",
       "        text-align: right;\n",
       "    }\n",
       "</style>\n",
       "<table border=\"1\" class=\"dataframe\">\n",
       "  <thead>\n",
       "    <tr style=\"text-align: right;\">\n",
       "      <th></th>\n",
       "      <th>h.1</th>\n",
       "      <th>h.2</th>\n",
       "      <th>h.3</th>\n",
       "      <th>h.4</th>\n",
       "      <th>h.5</th>\n",
       "    </tr>\n",
       "  </thead>\n",
       "  <tbody>\n",
       "    <tr>\n",
       "      <th>499</th>\n",
       "      <td>23353.942452</td>\n",
       "      <td>15509.168033</td>\n",
       "      <td>10953.760756</td>\n",
       "      <td>8308.466659</td>\n",
       "      <td>6772.362326</td>\n",
       "    </tr>\n",
       "  </tbody>\n",
       "</table>\n",
       "</div>"
      ],
      "text/plain": [
       "              h.1           h.2           h.3          h.4          h.5\n",
       "499  23353.942452  15509.168033  10953.760756  8308.466659  6772.362326"
      ]
     },
     "execution_count": 11,
     "metadata": {},
     "output_type": "execute_result"
    }
   ],
   "source": [
    "fcst.residual_variance"
   ]
  },
  {
   "cell_type": "markdown",
   "metadata": {},
   "source": [
    "## Generalized ARCH (GARCH)\n",
    "\n",
    "Another generalization of the ARCH model focuses on the conditonal variance specification itself, rather than the conditional mean and the noise distribution. \n",
    "The most prominent example along this line of thinking is the GARCH family, which in its simplest form (zero mean model and lag 1) is specified as follows \n",
    "$$\n",
    "\\begin{align*}\n",
    "Y_t &=  \\sigma_t W_t \\\\\n",
    "\\sigma_{t}^2 &= \\omega + \\alpha Y_{t-1}^2 + \\beta \\sigma_{t-1}^2 \n",
    "\\end{align*}\n",
    "$$\n",
    "The difference lies in the additional beta parameter which specifies a dependence of the conditional variance on the conditional variance of previous timestamp.\n",
    "\n",
    "GARCH generalizing ARCH is similar to the way ARMA generalizes AR. \n"
   ]
  },
  {
   "cell_type": "markdown",
   "metadata": {},
   "source": [
    "## Introducing `archette`\n",
    "\n",
    "`archette` is a simplified implementation of the zero mean GARCH model with iid Gaussian noise. \n",
    "\n",
    "The existing `arch` library is amazing and covers many popular GARCH-type models. \n",
    "`archette` is not meant to replace `arch` in any way, after all, it supports only a very particular model (undoubtedly a very important one).\n",
    "\n",
    "The goal of `archette` is to reduce the complexity of `arch` (e.g. all the class hierarchy) to highlight only the essence of GARCH model.\n",
    "It is meant to be super hackable so that one can build variants of GARCH models by modifying parts of the source code of `archette`.\n",
    "\n",
    "There is only one class `GARCHETTE` in `archette` for which implements the methods:\n",
    "\n",
    "- fit\n",
    "- nll\n",
    "- forecast_vs\n",
    "- simulate\n",
    "\n",
    "and the properties\n",
    "\n",
    "- vs\n",
    "- std_resids\n",
    "- params\n",
    "\n",
    "The API is simple: states are maintained in the instances of the main class rahter than delegated to separate container classes, hopefully reducing some mental overhead for users.  \n",
    "\n",
    "Here is how one can fit a model and inspect the fitted parameters and the corresponding negative log likelihood. "
   ]
  },
  {
   "cell_type": "code",
   "execution_count": 12,
   "metadata": {},
   "outputs": [],
   "source": [
    "from archette import GARCHETTE"
   ]
  },
  {
   "cell_type": "code",
   "execution_count": 13,
   "metadata": {},
   "outputs": [
    {
     "data": {
      "text/plain": [
       "<archette.core.GARCHETTE at 0x79785c680590>"
      ]
     },
     "execution_count": 13,
     "metadata": {},
     "output_type": "execute_result"
    }
   ],
   "source": [
    "rng = np.random.default_rng()\n",
    "y = rng.standard_normal(500) * np.arange(500)\n",
    "mod = GARCHETTE()\n",
    "mod.fit(y)"
   ]
  },
  {
   "cell_type": "code",
   "execution_count": 14,
   "metadata": {},
   "outputs": [
    {
     "data": {
      "text/plain": [
       "array([124.94299377,   0.16898145,   0.83101855])"
      ]
     },
     "execution_count": 14,
     "metadata": {},
     "output_type": "execute_result"
    }
   ],
   "source": [
    "mod.params"
   ]
  },
  {
   "cell_type": "code",
   "execution_count": 15,
   "metadata": {},
   "outputs": [
    {
     "data": {
      "text/plain": [
       "np.float64(5832.3224873676845)"
      ]
     },
     "execution_count": 15,
     "metadata": {},
     "output_type": "execute_result"
    }
   ],
   "source": [
    "mod.nll(mod.params)"
   ]
  },
  {
   "cell_type": "markdown",
   "metadata": {},
   "source": [
    "#### Model fitting\n",
    "\n",
    "Under the hood, `fit` calls `minimize` function in `scipy.optimize` module to minimize the negative log likelihood (`nll`). \n",
    "\n",
    "Let $f$ denote the joint distribution of time series $y$. \n",
    "By successive conditioning, one can write the nll as\n",
    "$$\n",
    "-\\log f(y) = - \\log f_\\theta(y_0) - \\sum_{t=1}^{T} \\log f_{\\theta}(y_t | y_{[0,t-1]})\n",
    "$$\n",
    "where $y_{[0,t-1]}:= (y_0, ..., y_{t-1})$ and $\\theta$ is the parameter of the model.\n",
    "\n",
    "Since the marginal distribution at time 0 is unknown, one typically remove the first term and minimize $-\\log f(y|y_0)$ instead, where\n",
    "$$\n",
    "-\\log f(y|y_0) = - \\sum_{t=1}^{T} \\log f_{\\theta}(y_t | y_{[0,t-1]})\n",
    "$$\n",
    "By Gaussian noise assumption and lag 1, we have, up to some unimportant additive constant, \n",
    "$$\n",
    "- \\log f_{\\theta}(y_t | y_{[0,t-1]}) = - \\log f_{\\theta}(y_t | y_{t-1}) = \\frac{1}{2}\\Big(\\log v_t +  \\frac{y_t^2}{v_t}\\Big) \n",
    "$$\n",
    "where $v_t$ is the conditional variance of $y_t$ given $y_{t-1}$ (which is denoted by $\\sigma_t^2$ before). \n",
    "\n",
    "Notice that $v_0$ is not observable, hence one needs to set a sensible initial value, e.g. sample variance of $y$. \n",
    "\n",
    "We define two helper functions, one computes the sequence $v$, the other the nll. "
   ]
  },
  {
   "cell_type": "code",
   "execution_count": 16,
   "metadata": {},
   "outputs": [],
   "source": [
    "def _get_vs(y, params, sig2_init):\n",
    "    \"\"\"\n",
    "    compute conditional variance by recursion of the GARCH specification\n",
    "    \"\"\"\n",
    "    om,al,be = params\n",
    "    vs = np.zeros(y.size)\n",
    "    vs[0] = sig2_init\n",
    "    for i in range(1,y.size):\n",
    "        vs[i] = om + al * y[i-1]**2 + be * vs[i-1]\n",
    "    return vs"
   ]
  },
  {
   "cell_type": "code",
   "execution_count": 17,
   "metadata": {},
   "outputs": [],
   "source": [
    "def _nllgauss(y,params,sig2_init):\n",
    "    \"\"\"\n",
    "    compute nll of GARCH(1,1) with zero conditional mean and gaussian noise\n",
    "    \"\"\"\n",
    "    vs = _get_vs(y,params, sig2_init)\n",
    "    nll =  np.log(vs) + y**2 / vs\n",
    "    return nll.sum()"
   ]
  },
  {
   "cell_type": "markdown",
   "metadata": {},
   "source": [
    "Now we are in a good place to start writing the main class. "
   ]
  },
  {
   "cell_type": "code",
   "execution_count": 18,
   "metadata": {},
   "outputs": [],
   "source": [
    "from scipy.optimize import minimize"
   ]
  },
  {
   "cell_type": "code",
   "execution_count": 19,
   "metadata": {},
   "outputs": [],
   "source": [
    "class GARCHETTE:\n",
    "    \"\"\"simple garch model\"\"\"\n",
    "    def __init__(self):\n",
    "        self._y = None\n",
    "        self.params = None\n",
    "        self._is_fit = False\n",
    "        self._v_init = None\n",
    "\n",
    "    def fit(self,y:np.ndarray):\n",
    "        \"\"\"fit y to garch\"\"\"\n",
    "        self._y = y\n",
    "        self._v_init = y.var()  \n",
    "        self._is_fit = True\n",
    "        func = self.nll\n",
    "        self.params = minimize(\n",
    "            func, \n",
    "            x0=(self._v_init * 0.4,0.3,0.3), \n",
    "            bounds=[(0,None), (0,None), (0,None)],\n",
    "            constraints= {\n",
    "                \"type\": \"ineq\",\n",
    "                \"fun\": lambda x: 1-x[1]-x[2]\n",
    "            }\n",
    "         ).x\n",
    "        return self\n",
    "    \n",
    "    def nll(self, params)-> float:\n",
    "        \"\"\"negative log likelihood of the series at the given params\"\"\"\n",
    "        assert self._is_fit\n",
    "        return _nllgauss(self._y, params, self._v_init)\n",
    "    \n",
    "    @property\n",
    "    def vs(self):\n",
    "        return _get_vs(self._y, self.params, self._v_init)"
   ]
  },
  {
   "cell_type": "markdown",
   "metadata": {},
   "source": [
    "We see that the method `nll` and property `vs` are just wrappers around the helper functions that we just defined. \n",
    "The `fit` method, though, needs some attention. \n",
    "For the minimization of nll, apart from the objective function `nll` and initial value `x0`,\n",
    " it is also necessary to set bounds and constraints for the variables of `nll`. \n",
    " We impose the parameters to be non-negative because the sequence `v` must be non-negative (as squares). \n",
    " Also we need  \n",
    " $$\n",
    "\\alpha + \\beta <1 \n",
    " $$ \n",
    " because it is the necessary and sufficnet condition for the stationarity of GARCH(1,1) model. \n",
    " Having these constraints are essential for the optimization to work. \n",
    " Finally, we made an educated guess for the initial value: we set the initial values $\\alpha=\\beta=0.3$ to be away from the boundary of \n",
    " the constrained parameter space. \n",
    " The initial value for $\\omega$ is set based on an important fact about the long term conditional variance: for any $t$, as $T\\to\\infty$:\n",
    " $$\n",
    " \\mathbb E[Y_{t+T}^2| \\mathcal F_t] \\to \\frac{\\omega}{1-\\alpha-\\beta} \n",
    " $$\n",
    " If we believe that the sample variance of `y` approaches the long term conditonal variance, then initialize `om=(1-0.3-0.3)* y.var()` is indeed sensible. "
   ]
  },
  {
   "cell_type": "markdown",
   "metadata": {},
   "source": [
    "Now it remains to forecast conditional variances (or equivalently conditional volatilities) and simulate paths. \n",
    "For variance forecast, the recursion for $h\\ge 2$ is simpler than that of the GARCH specification:\n",
    "$$\n",
    "\\mathbb E[Y^2_{t+h}| \\mathcal F_t] = \\omega  + \\alpha \\mathbb E[Y^2_{t+h-1}|\\mathcal F_{t}] + \\beta \\mathbb E[\\sigma^2_{t+h-1}|\\mathcal F_{t}]\n",
    "= \\omega  + (\\alpha +\\beta) \\mathbb E[Y^2_{t+h-1}|\\mathcal F_{t}] \n",
    "$$\n",
    "This leads to "
   ]
  },
  {
   "cell_type": "code",
   "execution_count": 20,
   "metadata": {},
   "outputs": [],
   "source": [
    "def _make_fcst_vs(params,last_v, last_y, horizon):\n",
    "    om,al,be = params\n",
    "    fcst_vs = np.empty(horizon)\n",
    "    fcst_vs[0] = om + al* last_y**2 + be* last_v\n",
    "    for i in range(1,horizon):\n",
    "        fcst_vs[i] = om + (al+be) * fcst_vs[i-1]\n",
    "    return fcst_vs"
   ]
  },
  {
   "cell_type": "markdown",
   "metadata": {},
   "source": [
    "The simulation helper function is rather straightforward. We leave the possibility of specifying noises `ws` to the user. "
   ]
  },
  {
   "cell_type": "code",
   "execution_count": 21,
   "metadata": {},
   "outputs": [],
   "source": [
    "def _simulate(params, last_y, last_v, horizon, n_rep, seed, ws=None):\n",
    "    om,al,be = params\n",
    "    if ws is None:\n",
    "        np.random.seed(seed)\n",
    "        ws = np.random.randn(n_rep,horizon)\n",
    "    y = np.empty((n_rep, horizon+1))\n",
    "    v = np.empty((n_rep, horizon+1))\n",
    "    y[:,0] = last_y\n",
    "    v[:,0] = last_v\n",
    "    for i in range(1,horizon+1):\n",
    "        v[:,i] = om + al* y[:,i-1]**2 + be * v[:,i-1]\n",
    "        y[:,i] = np.sqrt(v[:,i]) * ws[:,i-1]\n",
    "    return y[:,1:]"
   ]
  },
  {
   "cell_type": "markdown",
   "metadata": {},
   "source": [
    "Combining everything, here is all there is in the `archette` library. "
   ]
  },
  {
   "cell_type": "code",
   "execution_count": 22,
   "metadata": {},
   "outputs": [],
   "source": [
    "from typing import Literal\n",
    "\n",
    "class GARCHETTE:\n",
    "    \"\"\"simple garch model\"\"\"\n",
    "    def __init__(self):\n",
    "        self._y = None\n",
    "        self.params = None\n",
    "        self._is_fit = False\n",
    "        self._v_init = None\n",
    "\n",
    "    def fit(self,y:np.ndarray):\n",
    "        \"\"\"fit y to garch\"\"\"\n",
    "        self._y = y\n",
    "        self._v_init = y.var()  \n",
    "        self._is_fit = True\n",
    "        func = self.nll\n",
    "        self.params = minimize(\n",
    "            func, \n",
    "            x0=(self._v_init * 0.4,0.3,0.3), \n",
    "            bounds=[(0,None), (0,None), (0,None)],\n",
    "            constraints= {\n",
    "                \"type\": \"ineq\",\n",
    "                \"fun\": lambda x: 1-x[1]-x[2]\n",
    "            }\n",
    "         ).x\n",
    "        return self\n",
    "    \n",
    "    def nll(self, params)-> float:\n",
    "        \"\"\"negative log likelihood of the series at the given params\"\"\"\n",
    "        assert self._is_fit\n",
    "        return _nllgauss(self._y, params, self._v_init)\n",
    "    \n",
    "    @property\n",
    "    def vs(self):\n",
    "        assert self._is_fit\n",
    "        return _get_vs(self._y, self.params, self._v_init)\n",
    "    \n",
    "    @property\n",
    "    def std_resids(self):\n",
    "        assert self._is_fit\n",
    "        return y/ np.sqrt(self.vs)\n",
    "\n",
    "    def forecast_vs(self, \n",
    "                    horizon:int\n",
    "                    ) -> np.ndarray:\n",
    "        \"\"\"forecast conditional variance in the horizon\"\"\"\n",
    "        assert self._is_fit\n",
    "        return _make_fcst_vs(self.params, self.vs[-1], self._y[-1], horizon)\n",
    "\n",
    "    def simulate(self, \n",
    "                    horizon:int, # path length\n",
    "                    method:Literal[\"bootstrap\",\"simulate\"]=\"simulate\",# \"bootstrap\" resamples from past std_resids; \"simulate\" simulates gaussian nosie\n",
    "                    n_rep=1_000, # number of repetitions\n",
    "                    seed=42) -> np.ndarray: \n",
    "        assert self._is_fit\n",
    "        if method == \"bootstrap\":\n",
    "            np.random.seed(seed)\n",
    "            ws = np.random.choice(self.std_resids, size=(n_rep, horizon),replace=True)\n",
    "        else: ws=None\n",
    "        return _simulate(self.params,self._y[-1], self.vs[-1], horizon, n_rep, seed, ws)"
   ]
  },
  {
   "cell_type": "markdown",
   "metadata": {},
   "source": [
    "## Sanity check"
   ]
  },
  {
   "cell_type": "markdown",
   "metadata": {},
   "source": [
    "We define GARCH model with both `arch` and `archette`, we see that when the model is mis-specified, the MLE found different  parameters. "
   ]
  },
  {
   "cell_type": "code",
   "execution_count": 23,
   "metadata": {},
   "outputs": [],
   "source": [
    "mod_arch = arch_model(y, mean='zero', dist='normal', rescale=False).fit(disp='off')\n",
    "mod_archette = GARCHETTE().fit(y)"
   ]
  },
  {
   "cell_type": "code",
   "execution_count": 24,
   "metadata": {},
   "outputs": [
    {
     "data": {
      "text/plain": [
       "omega       30.588087\n",
       "alpha[1]     0.073224\n",
       "beta[1]      0.926776\n",
       "Name: params, dtype: float64"
      ]
     },
     "execution_count": 24,
     "metadata": {},
     "output_type": "execute_result"
    }
   ],
   "source": [
    "mod_arch.params"
   ]
  },
  {
   "cell_type": "code",
   "execution_count": 25,
   "metadata": {},
   "outputs": [
    {
     "data": {
      "text/plain": [
       "array([124.94299377,   0.16898145,   0.83101855])"
      ]
     },
     "execution_count": 25,
     "metadata": {},
     "output_type": "execute_result"
    }
   ],
   "source": [
    "mod_archette.params"
   ]
  },
  {
   "cell_type": "markdown",
   "metadata": {},
   "source": [
    "What if model is well specified ?"
   ]
  },
  {
   "cell_type": "code",
   "execution_count": 26,
   "metadata": {},
   "outputs": [],
   "source": [
    "y_sim = mod_archette.simulate(horizon=500, n_rep =1, seed=89).squeeze()"
   ]
  },
  {
   "cell_type": "code",
   "execution_count": 27,
   "metadata": {},
   "outputs": [
    {
     "data": {
      "text/plain": [
       "omega       622.399179\n",
       "alpha[1]      0.172894\n",
       "beta[1]       0.795693\n",
       "Name: params, dtype: float64"
      ]
     },
     "execution_count": 27,
     "metadata": {},
     "output_type": "execute_result"
    }
   ],
   "source": [
    "arch_model(y_sim, mean='zero', dist='normal', rescale=False).fit(disp='off').params"
   ]
  },
  {
   "cell_type": "code",
   "execution_count": 28,
   "metadata": {},
   "outputs": [
    {
     "data": {
      "text/plain": [
       "array([5.98300620e+02, 1.66863034e-01, 8.02092039e-01])"
      ]
     },
     "execution_count": 28,
     "metadata": {},
     "output_type": "execute_result"
    }
   ],
   "source": [
    "GARCHETTE().fit(y_sim).params"
   ]
  },
  {
   "cell_type": "markdown",
   "metadata": {},
   "source": [
    "The estimated parameters using `arch` and `archette` are quite close. Hoorey!"
   ]
  },
  {
   "cell_type": "markdown",
   "metadata": {},
   "source": []
  }
 ],
 "metadata": {
  "kernelspec": {
   "display_name": "Python 3",
   "language": "python",
   "name": "python3"
  },
  "language_info": {
   "codemirror_mode": {
    "name": "ipython",
    "version": 3
   },
   "file_extension": ".py",
   "mimetype": "text/x-python",
   "name": "python",
   "nbconvert_exporter": "python",
   "pygments_lexer": "ipython3",
   "version": "3.12.1"
  }
 },
 "nbformat": 4,
 "nbformat_minor": 2
}
