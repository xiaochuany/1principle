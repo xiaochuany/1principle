{
 "cells": [
  {
   "cell_type": "raw",
   "metadata": {
    "vscode": {
     "languageId": "raw"
    }
   },
   "source": [
    "---\n",
    "title: \"Financial time series: a journey from code to maths, and back\"\n",
    "author: Xiaochuan Yang\n",
    "date: '2024-10-15'\n",
    "draft: false\n",
    "categories: [time series, python]\n",
    "format:\n",
    "  html:\n",
    "    code-line-numbers: false\n",
    "---"
   ]
  },
  {
   "cell_type": "markdown",
   "metadata": {},
   "source": [
    "In this post we discuss a fundamental model in financial time series modelling - the ARCH model. \n",
    "\n",
    "The model was introduced by Engle in the 80's and brought him a Nobel prize in Economy. \n",
    "Nowadays ARCH is still the go-to model, or at least a starting point for time series with varying volatility, a characteristic \n",
    "shared by many financial return series.  \n",
    "\n",
    "## ARCH model\n",
    "\n",
    "The ARCH model is widely used to model financial return time series.\n",
    "In this post, we always denote a time series by $(Y_t)$.\n",
    "ARCH model is a specification of the conditional variance of $Y_t$ given its history $\\mathcal F_{t-1}$\n",
    "by the following equation: \n",
    "$$\\mathrm{Var}[Y_t| \\mathcal F_{t-1}] = \\omega + \\alpha Y_{t-1}^2.$$\n",
    "\n",
    "In code, it is straightforward to define the ARCH model with the `arch` library. "
   ]
  },
  {
   "cell_type": "markdown",
   "metadata": {},
   "source": [
    "## `arch` library"
   ]
  },
  {
   "cell_type": "code",
   "execution_count": 1,
   "metadata": {},
   "outputs": [],
   "source": [
    "import numpy as np\n",
    "from arch import arch_model"
   ]
  },
  {
   "cell_type": "code",
   "execution_count": 2,
   "metadata": {},
   "outputs": [],
   "source": [
    "rng = np.random.default_rng(41)\n",
    "y = rng.standard_normal(size=(500,)) * np.arange(500) * 0.2\n",
    "mod = arch_model(y, mean='zero', q=0)\n",
    "res = mod.fit(disp=\"off\")\n",
    "fcst = res.forecast(horizon=50, method=\"bootstrap\", simulations=3)"
   ]
  },
  {
   "cell_type": "markdown",
   "metadata": {},
   "source": [
    "Above  we exposed the main classes of the library.      \n",
    "- `arch_model` is a convenience model constructor function with which one can specify the the mean process, the volatility (aka conditional standard deviation), the noise distribution (adhere to `scipy.stats`).  \n",
    "- `mod.fit()` returns a result container: one that contains residuals, standardised residuals, conditional volatility of the fit model.    \n",
    "- `res.forecast()` returns a forecast container: one that contains conditonal variance given the present value, simulations given the current value  etc.   "
   ]
  },
  {
   "cell_type": "code",
   "execution_count": 3,
   "metadata": {},
   "outputs": [
    {
     "data": {
      "text/plain": [
       "(arch.univariate.mean.ZeroMean,\n",
       " arch.univariate.base.ARCHModelResult,\n",
       " arch.univariate.base.ARCHModelForecast)"
      ]
     },
     "execution_count": 3,
     "metadata": {},
     "output_type": "execute_result"
    }
   ],
   "source": [
    "type(mod), type(res), type(fcst)"
   ]
  },
  {
   "cell_type": "code",
   "execution_count": 4,
   "metadata": {},
   "outputs": [
    {
     "data": {
      "text/html": [
       "<table class=\"simpletable\">\n",
       "<caption>Zero Mean - ARCH Model Results</caption>\n",
       "<tr>\n",
       "  <th>Dep. Variable:</th>          <td>y</td>         <th>  R-squared:         </th>  <td>   0.000</td> \n",
       "</tr>\n",
       "<tr>\n",
       "  <th>Mean Model:</th>         <td>Zero Mean</td>     <th>  Adj. R-squared:    </th>  <td>   0.002</td> \n",
       "</tr>\n",
       "<tr>\n",
       "  <th>Vol Model:</th>            <td>ARCH</td>        <th>  Log-Likelihood:    </th> <td>  -2719.79</td>\n",
       "</tr>\n",
       "<tr>\n",
       "  <th>Distribution:</th>        <td>Normal</td>       <th>  AIC:               </th> <td>   5443.58</td>\n",
       "</tr>\n",
       "<tr>\n",
       "  <th>Method:</th>        <td>Maximum Likelihood</td> <th>  BIC:               </th> <td>   5452.01</td>\n",
       "</tr>\n",
       "<tr>\n",
       "  <th></th>                        <td></td>          <th>  No. Observations:  </th>     <td>500</td>   \n",
       "</tr>\n",
       "<tr>\n",
       "  <th>Date:</th>           <td>Tue, Oct 15 2024</td>  <th>  Df Residuals:      </th>     <td>500</td>   \n",
       "</tr>\n",
       "<tr>\n",
       "  <th>Time:</th>               <td>20:37:19</td>      <th>  Df Model:          </th>      <td>0</td>    \n",
       "</tr>\n",
       "</table>\n",
       "<table class=\"simpletable\">\n",
       "<caption>Volatility Model</caption>\n",
       "<tr>\n",
       "      <td></td>        <th>coef</th>     <th>std err</th>      <th>t</th>       <th>P>|t|</th>     <th>95.0% Conf. Int.</th>   \n",
       "</tr>\n",
       "<tr>\n",
       "  <th>omega</th>    <td> 2082.8286</td> <td>  396.923</td> <td>    5.247</td> <td>1.542e-07</td> <td>[1.305e+03,2.861e+03]</td>\n",
       "</tr>\n",
       "<tr>\n",
       "  <th>alpha[1]</th> <td>    0.4962</td> <td>    0.174</td> <td>    2.850</td> <td>4.377e-03</td>   <td>[  0.155,  0.838]</td>  \n",
       "</tr>\n",
       "</table><br/><br/>Covariance estimator: robust"
      ],
      "text/latex": [
       "\\begin{center}\n",
       "\\begin{tabular}{lclc}\n",
       "\\toprule\n",
       "\\textbf{Dep. Variable:} &         y          & \\textbf{  R-squared:         } &     0.000   \\\\\n",
       "\\textbf{Mean Model:}    &     Zero Mean      & \\textbf{  Adj. R-squared:    } &     0.002   \\\\\n",
       "\\textbf{Vol Model:}     &        ARCH        & \\textbf{  Log-Likelihood:    } &   -2719.79  \\\\\n",
       "\\textbf{Distribution:}  &       Normal       & \\textbf{  AIC:               } &    5443.58  \\\\\n",
       "\\textbf{Method:}        & Maximum Likelihood & \\textbf{  BIC:               } &    5452.01  \\\\\n",
       "\\textbf{}               &                    & \\textbf{  No. Observations:  } &    500      \\\\\n",
       "\\textbf{Date:}          &  Tue, Oct 15 2024  & \\textbf{  Df Residuals:      } &    500      \\\\\n",
       "\\textbf{Time:}          &      20:37:19      & \\textbf{  Df Model:          } &     0       \\\\\n",
       "\\bottomrule\n",
       "\\end{tabular}\n",
       "\\begin{tabular}{lccccc}\n",
       "                  & \\textbf{coef} & \\textbf{std err} & \\textbf{t} & \\textbf{P$> |$t$|$} & \\textbf{95.0\\% Conf. Int.}  \\\\\n",
       "\\midrule\n",
       "\\textbf{omega}    &    2082.8286  &      396.923     &     5.247  &      1.542e-07       &   [1.305e+03,2.861e+03]     \\\\\n",
       "\\textbf{alpha[1]} &       0.4962  &        0.174     &     2.850  &      4.377e-03       &     [  0.155,  0.838]       \\\\\n",
       "\\bottomrule\n",
       "\\end{tabular}\n",
       "%\\caption{Zero Mean - ARCH Model Results}\n",
       "\\end{center}\n",
       "\n",
       "Covariance estimator: robust"
      ],
      "text/plain": [
       "<class 'statsmodels.iolib.summary.Summary'>\n",
       "\"\"\"\n",
       "                        Zero Mean - ARCH Model Results                        \n",
       "==============================================================================\n",
       "Dep. Variable:                      y   R-squared:                       0.000\n",
       "Mean Model:                 Zero Mean   Adj. R-squared:                  0.002\n",
       "Vol Model:                       ARCH   Log-Likelihood:               -2719.79\n",
       "Distribution:                  Normal   AIC:                           5443.58\n",
       "Method:            Maximum Likelihood   BIC:                           5452.01\n",
       "                                        No. Observations:                  500\n",
       "Date:                Tue, Oct 15 2024   Df Residuals:                      500\n",
       "Time:                        20:37:19   Df Model:                            0\n",
       "                              Volatility Model                              \n",
       "============================================================================\n",
       "                 coef    std err          t      P>|t|      95.0% Conf. Int.\n",
       "----------------------------------------------------------------------------\n",
       "omega       2082.8286    396.923      5.247  1.542e-07 [1.305e+03,2.861e+03]\n",
       "alpha[1]       0.4962      0.174      2.850  4.377e-03     [  0.155,  0.838]\n",
       "============================================================================\n",
       "\n",
       "Covariance estimator: robust\n",
       "\"\"\""
      ]
     },
     "execution_count": 4,
     "metadata": {},
     "output_type": "execute_result"
    }
   ],
   "source": [
    "res.summary()"
   ]
  },
  {
   "cell_type": "code",
   "execution_count": 5,
   "metadata": {},
   "outputs": [
    {
     "data": {
      "text/html": [
       "<script type=\"esms-options\">{\"shimMode\": true}</script><style>*[data-root-id],\n",
       "*[data-root-id] > * {\n",
       "  box-sizing: border-box;\n",
       "  font-family: var(--jp-ui-font-family);\n",
       "  font-size: var(--jp-ui-font-size1);\n",
       "  color: var(--vscode-editor-foreground, var(--jp-ui-font-color1));\n",
       "}\n",
       "\n",
       "/* Override VSCode background color */\n",
       ".cell-output-ipywidget-background:has(\n",
       "    > .cell-output-ipywidget-background > .lm-Widget > *[data-root-id]\n",
       "  ),\n",
       ".cell-output-ipywidget-background:has(> .lm-Widget > *[data-root-id]) {\n",
       "  background-color: transparent !important;\n",
       "}\n",
       "</style>"
      ]
     },
     "metadata": {},
     "output_type": "display_data"
    },
    {
     "data": {
      "application/javascript": "(function(root) {\n  function now() {\n    return new Date();\n  }\n\n  const force = true;\n  const py_version = '3.6.0'.replace('rc', '-rc.').replace('.dev', '-dev.');\n  const reloading = false;\n  const Bokeh = root.Bokeh;\n\n  // Set a timeout for this load but only if we are not already initializing\n  if (typeof (root._bokeh_timeout) === \"undefined\" || (force || !root._bokeh_is_initializing)) {\n    root._bokeh_timeout = Date.now() + 5000;\n    root._bokeh_failed_load = false;\n  }\n\n  function run_callbacks() {\n    try {\n      root._bokeh_onload_callbacks.forEach(function(callback) {\n        if (callback != null)\n          callback();\n      });\n    } finally {\n      delete root._bokeh_onload_callbacks;\n    }\n    console.debug(\"Bokeh: all callbacks have finished\");\n  }\n\n  function load_libs(css_urls, js_urls, js_modules, js_exports, callback) {\n    if (css_urls == null) css_urls = [];\n    if (js_urls == null) js_urls = [];\n    if (js_modules == null) js_modules = [];\n    if (js_exports == null) js_exports = {};\n\n    root._bokeh_onload_callbacks.push(callback);\n\n    if (root._bokeh_is_loading > 0) {\n      // Don't load bokeh if it is still initializing\n      console.debug(\"Bokeh: BokehJS is being loaded, scheduling callback at\", now());\n      return null;\n    } else if (js_urls.length === 0 && js_modules.length === 0 && Object.keys(js_exports).length === 0) {\n      // There is nothing to load\n      run_callbacks();\n      return null;\n    }\n\n    function on_load() {\n      root._bokeh_is_loading--;\n      if (root._bokeh_is_loading === 0) {\n        console.debug(\"Bokeh: all BokehJS libraries/stylesheets loaded\");\n        run_callbacks()\n      }\n    }\n    window._bokeh_on_load = on_load\n\n    function on_error(e) {\n      const src_el = e.srcElement\n      console.error(\"failed to load \" + (src_el.href || src_el.src));\n    }\n\n    const skip = [];\n    if (window.requirejs) {\n      window.requirejs.config({'packages': {}, 'paths': {}, 'shim': {}});\n      root._bokeh_is_loading = css_urls.length + 0;\n    } else {\n      root._bokeh_is_loading = css_urls.length + js_urls.length + js_modules.length + Object.keys(js_exports).length;\n    }\n\n    const existing_stylesheets = []\n    const links = document.getElementsByTagName('link')\n    for (let i = 0; i < links.length; i++) {\n      const link = links[i]\n      if (link.href != null) {\n        existing_stylesheets.push(link.href)\n      }\n    }\n    for (let i = 0; i < css_urls.length; i++) {\n      const url = css_urls[i];\n      const escaped = encodeURI(url)\n      if (existing_stylesheets.indexOf(escaped) !== -1) {\n        on_load()\n        continue;\n      }\n      const element = document.createElement(\"link\");\n      element.onload = on_load;\n      element.onerror = on_error;\n      element.rel = \"stylesheet\";\n      element.type = \"text/css\";\n      element.href = url;\n      console.debug(\"Bokeh: injecting link tag for BokehJS stylesheet: \", url);\n      document.body.appendChild(element);\n    }    var existing_scripts = []\n    const scripts = document.getElementsByTagName('script')\n    for (let i = 0; i < scripts.length; i++) {\n      var script = scripts[i]\n      if (script.src != null) {\n        existing_scripts.push(script.src)\n      }\n    }\n    for (let i = 0; i < js_urls.length; i++) {\n      const url = js_urls[i];\n      const escaped = encodeURI(url)\n      if (skip.indexOf(escaped) !== -1 || existing_scripts.indexOf(escaped) !== -1) {\n        if (!window.requirejs) {\n          on_load();\n        }\n        continue;\n      }\n      const element = document.createElement('script');\n      element.onload = on_load;\n      element.onerror = on_error;\n      element.async = false;\n      element.src = url;\n      console.debug(\"Bokeh: injecting script tag for BokehJS library: \", url);\n      document.head.appendChild(element);\n    }\n    for (let i = 0; i < js_modules.length; i++) {\n      const url = js_modules[i];\n      const escaped = encodeURI(url)\n      if (skip.indexOf(escaped) !== -1 || existing_scripts.indexOf(escaped) !== -1) {\n        if (!window.requirejs) {\n          on_load();\n        }\n        continue;\n      }\n      var element = document.createElement('script');\n      element.onload = on_load;\n      element.onerror = on_error;\n      element.async = false;\n      element.src = url;\n      element.type = \"module\";\n      console.debug(\"Bokeh: injecting script tag for BokehJS library: \", url);\n      document.head.appendChild(element);\n    }\n    for (const name in js_exports) {\n      const url = js_exports[name];\n      const escaped = encodeURI(url)\n      if (skip.indexOf(escaped) >= 0 || root[name] != null) {\n        if (!window.requirejs) {\n          on_load();\n        }\n        continue;\n      }\n      var element = document.createElement('script');\n      element.onerror = on_error;\n      element.async = false;\n      element.type = \"module\";\n      console.debug(\"Bokeh: injecting script tag for BokehJS library: \", url);\n      element.textContent = `\n      import ${name} from \"${url}\"\n      window.${name} = ${name}\n      window._bokeh_on_load()\n      `\n      document.head.appendChild(element);\n    }\n    if (!js_urls.length && !js_modules.length) {\n      on_load()\n    }\n  };\n\n  function inject_raw_css(css) {\n    const element = document.createElement(\"style\");\n    element.appendChild(document.createTextNode(css));\n    document.body.appendChild(element);\n  }\n\n  const js_urls = [\"https://cdn.holoviz.org/panel/1.5.2/dist/bundled/reactiveesm/es-module-shims@^1.10.0/dist/es-module-shims.min.js\", \"https://cdn.bokeh.org/bokeh/release/bokeh-3.6.0.min.js\", \"https://cdn.bokeh.org/bokeh/release/bokeh-gl-3.6.0.min.js\", \"https://cdn.bokeh.org/bokeh/release/bokeh-widgets-3.6.0.min.js\", \"https://cdn.bokeh.org/bokeh/release/bokeh-tables-3.6.0.min.js\", \"https://cdn.holoviz.org/panel/1.5.2/dist/panel.min.js\"];\n  const js_modules = [];\n  const js_exports = {};\n  const css_urls = [];\n  const inline_js = [    function(Bokeh) {\n      Bokeh.set_log_level(\"info\");\n    },\nfunction(Bokeh) {} // ensure no trailing comma for IE\n  ];\n\n  function run_inline_js() {\n    if ((root.Bokeh !== undefined) || (force === true)) {\n      for (let i = 0; i < inline_js.length; i++) {\n        try {\n          inline_js[i].call(root, root.Bokeh);\n        } catch(e) {\n          if (!reloading) {\n            throw e;\n          }\n        }\n      }\n      // Cache old bokeh versions\n      if (Bokeh != undefined && !reloading) {\n        var NewBokeh = root.Bokeh;\n        if (Bokeh.versions === undefined) {\n          Bokeh.versions = new Map();\n        }\n        if (NewBokeh.version !== Bokeh.version) {\n          Bokeh.versions.set(NewBokeh.version, NewBokeh)\n        }\n        root.Bokeh = Bokeh;\n      }\n    } else if (Date.now() < root._bokeh_timeout) {\n      setTimeout(run_inline_js, 100);\n    } else if (!root._bokeh_failed_load) {\n      console.log(\"Bokeh: BokehJS failed to load within specified timeout.\");\n      root._bokeh_failed_load = true;\n    }\n    root._bokeh_is_initializing = false\n  }\n\n  function load_or_wait() {\n    // Implement a backoff loop that tries to ensure we do not load multiple\n    // versions of Bokeh and its dependencies at the same time.\n    // In recent versions we use the root._bokeh_is_initializing flag\n    // to determine whether there is an ongoing attempt to initialize\n    // bokeh, however for backward compatibility we also try to ensure\n    // that we do not start loading a newer (Panel>=1.0 and Bokeh>3) version\n    // before older versions are fully initialized.\n    if (root._bokeh_is_initializing && Date.now() > root._bokeh_timeout) {\n      // If the timeout and bokeh was not successfully loaded we reset\n      // everything and try loading again\n      root._bokeh_timeout = Date.now() + 5000;\n      root._bokeh_is_initializing = false;\n      root._bokeh_onload_callbacks = undefined;\n      root._bokeh_is_loading = 0\n      console.log(\"Bokeh: BokehJS was loaded multiple times but one version failed to initialize.\");\n      load_or_wait();\n    } else if (root._bokeh_is_initializing || (typeof root._bokeh_is_initializing === \"undefined\" && root._bokeh_onload_callbacks !== undefined)) {\n      setTimeout(load_or_wait, 100);\n    } else {\n      root._bokeh_is_initializing = true\n      root._bokeh_onload_callbacks = []\n      const bokeh_loaded = root.Bokeh != null && (root.Bokeh.version === py_version || (root.Bokeh.versions !== undefined && root.Bokeh.versions.has(py_version)));\n      if (!reloading && !bokeh_loaded) {\n        if (root.Bokeh) {\n          root.Bokeh = undefined;\n        }\n        console.debug(\"Bokeh: BokehJS not loaded, scheduling load and callback at\", now());\n      }\n      load_libs(css_urls, js_urls, js_modules, js_exports, function() {\n        console.debug(\"Bokeh: BokehJS plotting callback run at\", now());\n        run_inline_js();\n      });\n    }\n  }\n  // Give older versions of the autoload script a head-start to ensure\n  // they initialize before we start loading newer version.\n  setTimeout(load_or_wait, 100)\n}(window));",
      "application/vnd.holoviews_load.v0+json": ""
     },
     "metadata": {},
     "output_type": "display_data"
    },
    {
     "data": {
      "application/javascript": "\nif ((window.PyViz === undefined) || (window.PyViz instanceof HTMLElement)) {\n  window.PyViz = {comms: {}, comm_status:{}, kernels:{}, receivers: {}, plot_index: []}\n}\n\n\n    function JupyterCommManager() {\n    }\n\n    JupyterCommManager.prototype.register_target = function(plot_id, comm_id, msg_handler) {\n      if (window.comm_manager || ((window.Jupyter !== undefined) && (Jupyter.notebook.kernel != null))) {\n        var comm_manager = window.comm_manager || Jupyter.notebook.kernel.comm_manager;\n        comm_manager.register_target(comm_id, function(comm) {\n          comm.on_msg(msg_handler);\n        });\n      } else if ((plot_id in window.PyViz.kernels) && (window.PyViz.kernels[plot_id])) {\n        window.PyViz.kernels[plot_id].registerCommTarget(comm_id, function(comm) {\n          comm.onMsg = msg_handler;\n        });\n      } else if (typeof google != 'undefined' && google.colab.kernel != null) {\n        google.colab.kernel.comms.registerTarget(comm_id, (comm) => {\n          var messages = comm.messages[Symbol.asyncIterator]();\n          function processIteratorResult(result) {\n            var message = result.value;\n            console.log(message)\n            var content = {data: message.data, comm_id};\n            var buffers = []\n            for (var buffer of message.buffers || []) {\n              buffers.push(new DataView(buffer))\n            }\n            var metadata = message.metadata || {};\n            var msg = {content, buffers, metadata}\n            msg_handler(msg);\n            return messages.next().then(processIteratorResult);\n          }\n          return messages.next().then(processIteratorResult);\n        })\n      }\n    }\n\n    JupyterCommManager.prototype.get_client_comm = function(plot_id, comm_id, msg_handler) {\n      if (comm_id in window.PyViz.comms) {\n        return window.PyViz.comms[comm_id];\n      } else if (window.comm_manager || ((window.Jupyter !== undefined) && (Jupyter.notebook.kernel != null))) {\n        var comm_manager = window.comm_manager || Jupyter.notebook.kernel.comm_manager;\n        var comm = comm_manager.new_comm(comm_id, {}, {}, {}, comm_id);\n        if (msg_handler) {\n          comm.on_msg(msg_handler);\n        }\n      } else if ((plot_id in window.PyViz.kernels) && (window.PyViz.kernels[plot_id])) {\n        var comm = window.PyViz.kernels[plot_id].connectToComm(comm_id);\n        comm.open();\n        if (msg_handler) {\n          comm.onMsg = msg_handler;\n        }\n      } else if (typeof google != 'undefined' && google.colab.kernel != null) {\n        var comm_promise = google.colab.kernel.comms.open(comm_id)\n        comm_promise.then((comm) => {\n          window.PyViz.comms[comm_id] = comm;\n          if (msg_handler) {\n            var messages = comm.messages[Symbol.asyncIterator]();\n            function processIteratorResult(result) {\n              var message = result.value;\n              var content = {data: message.data};\n              var metadata = message.metadata || {comm_id};\n              var msg = {content, metadata}\n              msg_handler(msg);\n              return messages.next().then(processIteratorResult);\n            }\n            return messages.next().then(processIteratorResult);\n          }\n        }) \n        var sendClosure = (data, metadata, buffers, disposeOnDone) => {\n          return comm_promise.then((comm) => {\n            comm.send(data, metadata, buffers, disposeOnDone);\n          });\n        };\n        var comm = {\n          send: sendClosure\n        };\n      }\n      window.PyViz.comms[comm_id] = comm;\n      return comm;\n    }\n    window.PyViz.comm_manager = new JupyterCommManager();\n    \n\n\nvar JS_MIME_TYPE = 'application/javascript';\nvar HTML_MIME_TYPE = 'text/html';\nvar EXEC_MIME_TYPE = 'application/vnd.holoviews_exec.v0+json';\nvar CLASS_NAME = 'output';\n\n/**\n * Render data to the DOM node\n */\nfunction render(props, node) {\n  var div = document.createElement(\"div\");\n  var script = document.createElement(\"script\");\n  node.appendChild(div);\n  node.appendChild(script);\n}\n\n/**\n * Handle when a new output is added\n */\nfunction handle_add_output(event, handle) {\n  var output_area = handle.output_area;\n  var output = handle.output;\n  if ((output.data == undefined) || (!output.data.hasOwnProperty(EXEC_MIME_TYPE))) {\n    return\n  }\n  var id = output.metadata[EXEC_MIME_TYPE][\"id\"];\n  var toinsert = output_area.element.find(\".\" + CLASS_NAME.split(' ')[0]);\n  if (id !== undefined) {\n    var nchildren = toinsert.length;\n    var html_node = toinsert[nchildren-1].children[0];\n    html_node.innerHTML = output.data[HTML_MIME_TYPE];\n    var scripts = [];\n    var nodelist = html_node.querySelectorAll(\"script\");\n    for (var i in nodelist) {\n      if (nodelist.hasOwnProperty(i)) {\n        scripts.push(nodelist[i])\n      }\n    }\n\n    scripts.forEach( function (oldScript) {\n      var newScript = document.createElement(\"script\");\n      var attrs = [];\n      var nodemap = oldScript.attributes;\n      for (var j in nodemap) {\n        if (nodemap.hasOwnProperty(j)) {\n          attrs.push(nodemap[j])\n        }\n      }\n      attrs.forEach(function(attr) { newScript.setAttribute(attr.name, attr.value) });\n      newScript.appendChild(document.createTextNode(oldScript.innerHTML));\n      oldScript.parentNode.replaceChild(newScript, oldScript);\n    });\n    if (JS_MIME_TYPE in output.data) {\n      toinsert[nchildren-1].children[1].textContent = output.data[JS_MIME_TYPE];\n    }\n    output_area._hv_plot_id = id;\n    if ((window.Bokeh !== undefined) && (id in Bokeh.index)) {\n      window.PyViz.plot_index[id] = Bokeh.index[id];\n    } else {\n      window.PyViz.plot_index[id] = null;\n    }\n  } else if (output.metadata[EXEC_MIME_TYPE][\"server_id\"] !== undefined) {\n    var bk_div = document.createElement(\"div\");\n    bk_div.innerHTML = output.data[HTML_MIME_TYPE];\n    var script_attrs = bk_div.children[0].attributes;\n    for (var i = 0; i < script_attrs.length; i++) {\n      toinsert[toinsert.length - 1].childNodes[1].setAttribute(script_attrs[i].name, script_attrs[i].value);\n    }\n    // store reference to server id on output_area\n    output_area._bokeh_server_id = output.metadata[EXEC_MIME_TYPE][\"server_id\"];\n  }\n}\n\n/**\n * Handle when an output is cleared or removed\n */\nfunction handle_clear_output(event, handle) {\n  var id = handle.cell.output_area._hv_plot_id;\n  var server_id = handle.cell.output_area._bokeh_server_id;\n  if (((id === undefined) || !(id in PyViz.plot_index)) && (server_id !== undefined)) { return; }\n  var comm = window.PyViz.comm_manager.get_client_comm(\"hv-extension-comm\", \"hv-extension-comm\", function () {});\n  if (server_id !== null) {\n    comm.send({event_type: 'server_delete', 'id': server_id});\n    return;\n  } else if (comm !== null) {\n    comm.send({event_type: 'delete', 'id': id});\n  }\n  delete PyViz.plot_index[id];\n  if ((window.Bokeh !== undefined) & (id in window.Bokeh.index)) {\n    var doc = window.Bokeh.index[id].model.document\n    doc.clear();\n    const i = window.Bokeh.documents.indexOf(doc);\n    if (i > -1) {\n      window.Bokeh.documents.splice(i, 1);\n    }\n  }\n}\n\n/**\n * Handle kernel restart event\n */\nfunction handle_kernel_cleanup(event, handle) {\n  delete PyViz.comms[\"hv-extension-comm\"];\n  window.PyViz.plot_index = {}\n}\n\n/**\n * Handle update_display_data messages\n */\nfunction handle_update_output(event, handle) {\n  handle_clear_output(event, {cell: {output_area: handle.output_area}})\n  handle_add_output(event, handle)\n}\n\nfunction register_renderer(events, OutputArea) {\n  function append_mime(data, metadata, element) {\n    // create a DOM node to render to\n    var toinsert = this.create_output_subarea(\n    metadata,\n    CLASS_NAME,\n    EXEC_MIME_TYPE\n    );\n    this.keyboard_manager.register_events(toinsert);\n    // Render to node\n    var props = {data: data, metadata: metadata[EXEC_MIME_TYPE]};\n    render(props, toinsert[0]);\n    element.append(toinsert);\n    return toinsert\n  }\n\n  events.on('output_added.OutputArea', handle_add_output);\n  events.on('output_updated.OutputArea', handle_update_output);\n  events.on('clear_output.CodeCell', handle_clear_output);\n  events.on('delete.Cell', handle_clear_output);\n  events.on('kernel_ready.Kernel', handle_kernel_cleanup);\n\n  OutputArea.prototype.register_mime_type(EXEC_MIME_TYPE, append_mime, {\n    safe: true,\n    index: 0\n  });\n}\n\nif (window.Jupyter !== undefined) {\n  try {\n    var events = require('base/js/events');\n    var OutputArea = require('notebook/js/outputarea').OutputArea;\n    if (OutputArea.prototype.mime_types().indexOf(EXEC_MIME_TYPE) == -1) {\n      register_renderer(events, OutputArea);\n    }\n  } catch(err) {\n  }\n}\n",
      "application/vnd.holoviews_load.v0+json": ""
     },
     "metadata": {},
     "output_type": "display_data"
    },
    {
     "data": {
      "application/vnd.holoviews_exec.v0+json": "",
      "text/html": [
       "<div id='p1002'>\n",
       "  <div id=\"c07ed066-83a5-4505-b20e-2c1e57455ef9\" data-root-id=\"p1002\" style=\"display: contents;\"></div>\n",
       "</div>\n",
       "<script type=\"application/javascript\">(function(root) {\n",
       "  var docs_json = {\"e3d25da1-8608-4162-bd6b-e76a900c5514\":{\"version\":\"3.6.0\",\"title\":\"Bokeh Application\",\"roots\":[{\"type\":\"object\",\"name\":\"panel.models.browser.BrowserInfo\",\"id\":\"p1002\"},{\"type\":\"object\",\"name\":\"panel.models.comm_manager.CommManager\",\"id\":\"p1003\",\"attributes\":{\"plot_id\":\"p1002\",\"comm_id\":\"35d5a75034e344b6bab3bd90610ffe1d\",\"client_comm_id\":\"eed6f8d1d9c749ccbc91057de10d60ba\"}}],\"defs\":[{\"type\":\"model\",\"name\":\"ReactiveHTML1\"},{\"type\":\"model\",\"name\":\"FlexBox1\",\"properties\":[{\"name\":\"align_content\",\"kind\":\"Any\",\"default\":\"flex-start\"},{\"name\":\"align_items\",\"kind\":\"Any\",\"default\":\"flex-start\"},{\"name\":\"flex_direction\",\"kind\":\"Any\",\"default\":\"row\"},{\"name\":\"flex_wrap\",\"kind\":\"Any\",\"default\":\"wrap\"},{\"name\":\"gap\",\"kind\":\"Any\",\"default\":\"\"},{\"name\":\"justify_content\",\"kind\":\"Any\",\"default\":\"flex-start\"}]},{\"type\":\"model\",\"name\":\"FloatPanel1\",\"properties\":[{\"name\":\"config\",\"kind\":\"Any\",\"default\":{\"type\":\"map\"}},{\"name\":\"contained\",\"kind\":\"Any\",\"default\":true},{\"name\":\"position\",\"kind\":\"Any\",\"default\":\"right-top\"},{\"name\":\"offsetx\",\"kind\":\"Any\",\"default\":null},{\"name\":\"offsety\",\"kind\":\"Any\",\"default\":null},{\"name\":\"theme\",\"kind\":\"Any\",\"default\":\"primary\"},{\"name\":\"status\",\"kind\":\"Any\",\"default\":\"normalized\"}]},{\"type\":\"model\",\"name\":\"GridStack1\",\"properties\":[{\"name\":\"mode\",\"kind\":\"Any\",\"default\":\"warn\"},{\"name\":\"ncols\",\"kind\":\"Any\",\"default\":null},{\"name\":\"nrows\",\"kind\":\"Any\",\"default\":null},{\"name\":\"allow_resize\",\"kind\":\"Any\",\"default\":true},{\"name\":\"allow_drag\",\"kind\":\"Any\",\"default\":true},{\"name\":\"state\",\"kind\":\"Any\",\"default\":[]}]},{\"type\":\"model\",\"name\":\"drag1\",\"properties\":[{\"name\":\"slider_width\",\"kind\":\"Any\",\"default\":5},{\"name\":\"slider_color\",\"kind\":\"Any\",\"default\":\"black\"},{\"name\":\"value\",\"kind\":\"Any\",\"default\":50}]},{\"type\":\"model\",\"name\":\"click1\",\"properties\":[{\"name\":\"terminal_output\",\"kind\":\"Any\",\"default\":\"\"},{\"name\":\"debug_name\",\"kind\":\"Any\",\"default\":\"\"},{\"name\":\"clears\",\"kind\":\"Any\",\"default\":0}]},{\"type\":\"model\",\"name\":\"FastWrapper1\",\"properties\":[{\"name\":\"object\",\"kind\":\"Any\",\"default\":null},{\"name\":\"style\",\"kind\":\"Any\",\"default\":null}]},{\"type\":\"model\",\"name\":\"NotificationAreaBase1\",\"properties\":[{\"name\":\"js_events\",\"kind\":\"Any\",\"default\":{\"type\":\"map\"}},{\"name\":\"position\",\"kind\":\"Any\",\"default\":\"bottom-right\"},{\"name\":\"_clear\",\"kind\":\"Any\",\"default\":0}]},{\"type\":\"model\",\"name\":\"NotificationArea1\",\"properties\":[{\"name\":\"js_events\",\"kind\":\"Any\",\"default\":{\"type\":\"map\"}},{\"name\":\"notifications\",\"kind\":\"Any\",\"default\":[]},{\"name\":\"position\",\"kind\":\"Any\",\"default\":\"bottom-right\"},{\"name\":\"_clear\",\"kind\":\"Any\",\"default\":0},{\"name\":\"types\",\"kind\":\"Any\",\"default\":[{\"type\":\"map\",\"entries\":[[\"type\",\"warning\"],[\"background\",\"#ffc107\"],[\"icon\",{\"type\":\"map\",\"entries\":[[\"className\",\"fas fa-exclamation-triangle\"],[\"tagName\",\"i\"],[\"color\",\"white\"]]}]]},{\"type\":\"map\",\"entries\":[[\"type\",\"info\"],[\"background\",\"#007bff\"],[\"icon\",{\"type\":\"map\",\"entries\":[[\"className\",\"fas fa-info-circle\"],[\"tagName\",\"i\"],[\"color\",\"white\"]]}]]}]}]},{\"type\":\"model\",\"name\":\"Notification\",\"properties\":[{\"name\":\"background\",\"kind\":\"Any\",\"default\":null},{\"name\":\"duration\",\"kind\":\"Any\",\"default\":3000},{\"name\":\"icon\",\"kind\":\"Any\",\"default\":null},{\"name\":\"message\",\"kind\":\"Any\",\"default\":\"\"},{\"name\":\"notification_type\",\"kind\":\"Any\",\"default\":null},{\"name\":\"_destroyed\",\"kind\":\"Any\",\"default\":false}]},{\"type\":\"model\",\"name\":\"TemplateActions1\",\"properties\":[{\"name\":\"open_modal\",\"kind\":\"Any\",\"default\":0},{\"name\":\"close_modal\",\"kind\":\"Any\",\"default\":0}]},{\"type\":\"model\",\"name\":\"BootstrapTemplateActions1\",\"properties\":[{\"name\":\"open_modal\",\"kind\":\"Any\",\"default\":0},{\"name\":\"close_modal\",\"kind\":\"Any\",\"default\":0}]},{\"type\":\"model\",\"name\":\"TemplateEditor1\",\"properties\":[{\"name\":\"layout\",\"kind\":\"Any\",\"default\":[]}]},{\"type\":\"model\",\"name\":\"MaterialTemplateActions1\",\"properties\":[{\"name\":\"open_modal\",\"kind\":\"Any\",\"default\":0},{\"name\":\"close_modal\",\"kind\":\"Any\",\"default\":0}]},{\"type\":\"model\",\"name\":\"ReactiveESM1\"},{\"type\":\"model\",\"name\":\"JSComponent1\"},{\"type\":\"model\",\"name\":\"ReactComponent1\"},{\"type\":\"model\",\"name\":\"AnyWidgetComponent1\"},{\"type\":\"model\",\"name\":\"request_value1\",\"properties\":[{\"name\":\"fill\",\"kind\":\"Any\",\"default\":\"none\"},{\"name\":\"_synced\",\"kind\":\"Any\",\"default\":null},{\"name\":\"_request_sync\",\"kind\":\"Any\",\"default\":0}]}]}};\n",
       "  var render_items = [{\"docid\":\"e3d25da1-8608-4162-bd6b-e76a900c5514\",\"roots\":{\"p1002\":\"c07ed066-83a5-4505-b20e-2c1e57455ef9\"},\"root_ids\":[\"p1002\"]}];\n",
       "  var docs = Object.values(docs_json)\n",
       "  if (!docs) {\n",
       "    return\n",
       "  }\n",
       "  const py_version = docs[0].version.replace('rc', '-rc.').replace('.dev', '-dev.')\n",
       "  async function embed_document(root) {\n",
       "    var Bokeh = get_bokeh(root)\n",
       "    await Bokeh.embed.embed_items_notebook(docs_json, render_items);\n",
       "    for (const render_item of render_items) {\n",
       "      for (const root_id of render_item.root_ids) {\n",
       "\tconst id_el = document.getElementById(root_id)\n",
       "\tif (id_el.children.length && id_el.children[0].hasAttribute('data-root-id')) {\n",
       "\t  const root_el = id_el.children[0]\n",
       "\t  root_el.id = root_el.id + '-rendered'\n",
       "\t  for (const child of root_el.children) {\n",
       "            // Ensure JupyterLab does not capture keyboard shortcuts\n",
       "            // see: https://jupyterlab.readthedocs.io/en/4.1.x/extension/notebook.html#keyboard-interaction-model\n",
       "\t    child.setAttribute('data-lm-suppress-shortcuts', 'true')\n",
       "\t  }\n",
       "\t}\n",
       "      }\n",
       "    }\n",
       "  }\n",
       "  function get_bokeh(root) {\n",
       "    if (root.Bokeh === undefined) {\n",
       "      return null\n",
       "    } else if (root.Bokeh.version !== py_version) {\n",
       "      if (root.Bokeh.versions === undefined || !root.Bokeh.versions.has(py_version)) {\n",
       "\treturn null\n",
       "      }\n",
       "      return root.Bokeh.versions.get(py_version);\n",
       "    } else if (root.Bokeh.version === py_version) {\n",
       "      return root.Bokeh\n",
       "    }\n",
       "    return null\n",
       "  }\n",
       "  function is_loaded(root) {\n",
       "    var Bokeh = get_bokeh(root)\n",
       "    return (Bokeh != null && Bokeh.Panel !== undefined)\n",
       "  }\n",
       "  if (is_loaded(root)) {\n",
       "    embed_document(root);\n",
       "  } else {\n",
       "    var attempts = 0;\n",
       "    var timer = setInterval(function(root) {\n",
       "      if (is_loaded(root)) {\n",
       "        clearInterval(timer);\n",
       "        embed_document(root);\n",
       "      } else if (document.readyState == \"complete\") {\n",
       "        attempts++;\n",
       "        if (attempts > 200) {\n",
       "          clearInterval(timer);\n",
       "\t  var Bokeh = get_bokeh(root)\n",
       "\t  if (Bokeh == null || Bokeh.Panel == null) {\n",
       "            console.warn(\"Panel: ERROR: Unable to run Panel code because Bokeh or Panel library is missing\");\n",
       "\t  } else {\n",
       "\t    console.warn(\"Panel: WARNING: Attempting to render but not all required libraries could be resolved.\")\n",
       "\t    embed_document(root)\n",
       "\t  }\n",
       "        }\n",
       "      }\n",
       "    }, 25, root)\n",
       "  }\n",
       "})(window);</script>"
      ]
     },
     "metadata": {
      "application/vnd.holoviews_exec.v0+json": {
       "id": "p1002"
      }
     },
     "output_type": "display_data"
    },
    {
     "data": {
      "text/html": [
       "<script type=\"esms-options\">{\"shimMode\": true}</script><style>*[data-root-id],\n",
       "*[data-root-id] > * {\n",
       "  box-sizing: border-box;\n",
       "  font-family: var(--jp-ui-font-family);\n",
       "  font-size: var(--jp-ui-font-size1);\n",
       "  color: var(--vscode-editor-foreground, var(--jp-ui-font-color1));\n",
       "}\n",
       "\n",
       "/* Override VSCode background color */\n",
       ".cell-output-ipywidget-background:has(\n",
       "    > .cell-output-ipywidget-background > .lm-Widget > *[data-root-id]\n",
       "  ),\n",
       ".cell-output-ipywidget-background:has(> .lm-Widget > *[data-root-id]) {\n",
       "  background-color: transparent !important;\n",
       "}\n",
       "</style>"
      ]
     },
     "metadata": {},
     "output_type": "display_data"
    },
    {
     "data": {
      "application/javascript": "(function(root) {\n  function now() {\n    return new Date();\n  }\n\n  const force = false;\n  const py_version = '3.6.0'.replace('rc', '-rc.').replace('.dev', '-dev.');\n  const reloading = true;\n  const Bokeh = root.Bokeh;\n\n  // Set a timeout for this load but only if we are not already initializing\n  if (typeof (root._bokeh_timeout) === \"undefined\" || (force || !root._bokeh_is_initializing)) {\n    root._bokeh_timeout = Date.now() + 5000;\n    root._bokeh_failed_load = false;\n  }\n\n  function run_callbacks() {\n    try {\n      root._bokeh_onload_callbacks.forEach(function(callback) {\n        if (callback != null)\n          callback();\n      });\n    } finally {\n      delete root._bokeh_onload_callbacks;\n    }\n    console.debug(\"Bokeh: all callbacks have finished\");\n  }\n\n  function load_libs(css_urls, js_urls, js_modules, js_exports, callback) {\n    if (css_urls == null) css_urls = [];\n    if (js_urls == null) js_urls = [];\n    if (js_modules == null) js_modules = [];\n    if (js_exports == null) js_exports = {};\n\n    root._bokeh_onload_callbacks.push(callback);\n\n    if (root._bokeh_is_loading > 0) {\n      // Don't load bokeh if it is still initializing\n      console.debug(\"Bokeh: BokehJS is being loaded, scheduling callback at\", now());\n      return null;\n    } else if (js_urls.length === 0 && js_modules.length === 0 && Object.keys(js_exports).length === 0) {\n      // There is nothing to load\n      run_callbacks();\n      return null;\n    }\n\n    function on_load() {\n      root._bokeh_is_loading--;\n      if (root._bokeh_is_loading === 0) {\n        console.debug(\"Bokeh: all BokehJS libraries/stylesheets loaded\");\n        run_callbacks()\n      }\n    }\n    window._bokeh_on_load = on_load\n\n    function on_error(e) {\n      const src_el = e.srcElement\n      console.error(\"failed to load \" + (src_el.href || src_el.src));\n    }\n\n    const skip = [];\n    if (window.requirejs) {\n      window.requirejs.config({'packages': {}, 'paths': {}, 'shim': {}});\n      root._bokeh_is_loading = css_urls.length + 0;\n    } else {\n      root._bokeh_is_loading = css_urls.length + js_urls.length + js_modules.length + Object.keys(js_exports).length;\n    }\n\n    const existing_stylesheets = []\n    const links = document.getElementsByTagName('link')\n    for (let i = 0; i < links.length; i++) {\n      const link = links[i]\n      if (link.href != null) {\n        existing_stylesheets.push(link.href)\n      }\n    }\n    for (let i = 0; i < css_urls.length; i++) {\n      const url = css_urls[i];\n      const escaped = encodeURI(url)\n      if (existing_stylesheets.indexOf(escaped) !== -1) {\n        on_load()\n        continue;\n      }\n      const element = document.createElement(\"link\");\n      element.onload = on_load;\n      element.onerror = on_error;\n      element.rel = \"stylesheet\";\n      element.type = \"text/css\";\n      element.href = url;\n      console.debug(\"Bokeh: injecting link tag for BokehJS stylesheet: \", url);\n      document.body.appendChild(element);\n    }    var existing_scripts = []\n    const scripts = document.getElementsByTagName('script')\n    for (let i = 0; i < scripts.length; i++) {\n      var script = scripts[i]\n      if (script.src != null) {\n        existing_scripts.push(script.src)\n      }\n    }\n    for (let i = 0; i < js_urls.length; i++) {\n      const url = js_urls[i];\n      const escaped = encodeURI(url)\n      if (skip.indexOf(escaped) !== -1 || existing_scripts.indexOf(escaped) !== -1) {\n        if (!window.requirejs) {\n          on_load();\n        }\n        continue;\n      }\n      const element = document.createElement('script');\n      element.onload = on_load;\n      element.onerror = on_error;\n      element.async = false;\n      element.src = url;\n      console.debug(\"Bokeh: injecting script tag for BokehJS library: \", url);\n      document.head.appendChild(element);\n    }\n    for (let i = 0; i < js_modules.length; i++) {\n      const url = js_modules[i];\n      const escaped = encodeURI(url)\n      if (skip.indexOf(escaped) !== -1 || existing_scripts.indexOf(escaped) !== -1) {\n        if (!window.requirejs) {\n          on_load();\n        }\n        continue;\n      }\n      var element = document.createElement('script');\n      element.onload = on_load;\n      element.onerror = on_error;\n      element.async = false;\n      element.src = url;\n      element.type = \"module\";\n      console.debug(\"Bokeh: injecting script tag for BokehJS library: \", url);\n      document.head.appendChild(element);\n    }\n    for (const name in js_exports) {\n      const url = js_exports[name];\n      const escaped = encodeURI(url)\n      if (skip.indexOf(escaped) >= 0 || root[name] != null) {\n        if (!window.requirejs) {\n          on_load();\n        }\n        continue;\n      }\n      var element = document.createElement('script');\n      element.onerror = on_error;\n      element.async = false;\n      element.type = \"module\";\n      console.debug(\"Bokeh: injecting script tag for BokehJS library: \", url);\n      element.textContent = `\n      import ${name} from \"${url}\"\n      window.${name} = ${name}\n      window._bokeh_on_load()\n      `\n      document.head.appendChild(element);\n    }\n    if (!js_urls.length && !js_modules.length) {\n      on_load()\n    }\n  };\n\n  function inject_raw_css(css) {\n    const element = document.createElement(\"style\");\n    element.appendChild(document.createTextNode(css));\n    document.body.appendChild(element);\n  }\n\n  const js_urls = [\"https://cdn.holoviz.org/panel/1.5.2/dist/bundled/reactiveesm/es-module-shims@^1.10.0/dist/es-module-shims.min.js\"];\n  const js_modules = [];\n  const js_exports = {};\n  const css_urls = [];\n  const inline_js = [    function(Bokeh) {\n      Bokeh.set_log_level(\"info\");\n    },\nfunction(Bokeh) {} // ensure no trailing comma for IE\n  ];\n\n  function run_inline_js() {\n    if ((root.Bokeh !== undefined) || (force === true)) {\n      for (let i = 0; i < inline_js.length; i++) {\n        try {\n          inline_js[i].call(root, root.Bokeh);\n        } catch(e) {\n          if (!reloading) {\n            throw e;\n          }\n        }\n      }\n      // Cache old bokeh versions\n      if (Bokeh != undefined && !reloading) {\n        var NewBokeh = root.Bokeh;\n        if (Bokeh.versions === undefined) {\n          Bokeh.versions = new Map();\n        }\n        if (NewBokeh.version !== Bokeh.version) {\n          Bokeh.versions.set(NewBokeh.version, NewBokeh)\n        }\n        root.Bokeh = Bokeh;\n      }\n    } else if (Date.now() < root._bokeh_timeout) {\n      setTimeout(run_inline_js, 100);\n    } else if (!root._bokeh_failed_load) {\n      console.log(\"Bokeh: BokehJS failed to load within specified timeout.\");\n      root._bokeh_failed_load = true;\n    }\n    root._bokeh_is_initializing = false\n  }\n\n  function load_or_wait() {\n    // Implement a backoff loop that tries to ensure we do not load multiple\n    // versions of Bokeh and its dependencies at the same time.\n    // In recent versions we use the root._bokeh_is_initializing flag\n    // to determine whether there is an ongoing attempt to initialize\n    // bokeh, however for backward compatibility we also try to ensure\n    // that we do not start loading a newer (Panel>=1.0 and Bokeh>3) version\n    // before older versions are fully initialized.\n    if (root._bokeh_is_initializing && Date.now() > root._bokeh_timeout) {\n      // If the timeout and bokeh was not successfully loaded we reset\n      // everything and try loading again\n      root._bokeh_timeout = Date.now() + 5000;\n      root._bokeh_is_initializing = false;\n      root._bokeh_onload_callbacks = undefined;\n      root._bokeh_is_loading = 0\n      console.log(\"Bokeh: BokehJS was loaded multiple times but one version failed to initialize.\");\n      load_or_wait();\n    } else if (root._bokeh_is_initializing || (typeof root._bokeh_is_initializing === \"undefined\" && root._bokeh_onload_callbacks !== undefined)) {\n      setTimeout(load_or_wait, 100);\n    } else {\n      root._bokeh_is_initializing = true\n      root._bokeh_onload_callbacks = []\n      const bokeh_loaded = root.Bokeh != null && (root.Bokeh.version === py_version || (root.Bokeh.versions !== undefined && root.Bokeh.versions.has(py_version)));\n      if (!reloading && !bokeh_loaded) {\n        if (root.Bokeh) {\n          root.Bokeh = undefined;\n        }\n        console.debug(\"Bokeh: BokehJS not loaded, scheduling load and callback at\", now());\n      }\n      load_libs(css_urls, js_urls, js_modules, js_exports, function() {\n        console.debug(\"Bokeh: BokehJS plotting callback run at\", now());\n        run_inline_js();\n      });\n    }\n  }\n  // Give older versions of the autoload script a head-start to ensure\n  // they initialize before we start loading newer version.\n  setTimeout(load_or_wait, 100)\n}(window));",
      "application/vnd.holoviews_load.v0+json": ""
     },
     "metadata": {},
     "output_type": "display_data"
    },
    {
     "data": {
      "application/javascript": "\nif ((window.PyViz === undefined) || (window.PyViz instanceof HTMLElement)) {\n  window.PyViz = {comms: {}, comm_status:{}, kernels:{}, receivers: {}, plot_index: []}\n}\n\n\n    function JupyterCommManager() {\n    }\n\n    JupyterCommManager.prototype.register_target = function(plot_id, comm_id, msg_handler) {\n      if (window.comm_manager || ((window.Jupyter !== undefined) && (Jupyter.notebook.kernel != null))) {\n        var comm_manager = window.comm_manager || Jupyter.notebook.kernel.comm_manager;\n        comm_manager.register_target(comm_id, function(comm) {\n          comm.on_msg(msg_handler);\n        });\n      } else if ((plot_id in window.PyViz.kernels) && (window.PyViz.kernels[plot_id])) {\n        window.PyViz.kernels[plot_id].registerCommTarget(comm_id, function(comm) {\n          comm.onMsg = msg_handler;\n        });\n      } else if (typeof google != 'undefined' && google.colab.kernel != null) {\n        google.colab.kernel.comms.registerTarget(comm_id, (comm) => {\n          var messages = comm.messages[Symbol.asyncIterator]();\n          function processIteratorResult(result) {\n            var message = result.value;\n            console.log(message)\n            var content = {data: message.data, comm_id};\n            var buffers = []\n            for (var buffer of message.buffers || []) {\n              buffers.push(new DataView(buffer))\n            }\n            var metadata = message.metadata || {};\n            var msg = {content, buffers, metadata}\n            msg_handler(msg);\n            return messages.next().then(processIteratorResult);\n          }\n          return messages.next().then(processIteratorResult);\n        })\n      }\n    }\n\n    JupyterCommManager.prototype.get_client_comm = function(plot_id, comm_id, msg_handler) {\n      if (comm_id in window.PyViz.comms) {\n        return window.PyViz.comms[comm_id];\n      } else if (window.comm_manager || ((window.Jupyter !== undefined) && (Jupyter.notebook.kernel != null))) {\n        var comm_manager = window.comm_manager || Jupyter.notebook.kernel.comm_manager;\n        var comm = comm_manager.new_comm(comm_id, {}, {}, {}, comm_id);\n        if (msg_handler) {\n          comm.on_msg(msg_handler);\n        }\n      } else if ((plot_id in window.PyViz.kernels) && (window.PyViz.kernels[plot_id])) {\n        var comm = window.PyViz.kernels[plot_id].connectToComm(comm_id);\n        comm.open();\n        if (msg_handler) {\n          comm.onMsg = msg_handler;\n        }\n      } else if (typeof google != 'undefined' && google.colab.kernel != null) {\n        var comm_promise = google.colab.kernel.comms.open(comm_id)\n        comm_promise.then((comm) => {\n          window.PyViz.comms[comm_id] = comm;\n          if (msg_handler) {\n            var messages = comm.messages[Symbol.asyncIterator]();\n            function processIteratorResult(result) {\n              var message = result.value;\n              var content = {data: message.data};\n              var metadata = message.metadata || {comm_id};\n              var msg = {content, metadata}\n              msg_handler(msg);\n              return messages.next().then(processIteratorResult);\n            }\n            return messages.next().then(processIteratorResult);\n          }\n        }) \n        var sendClosure = (data, metadata, buffers, disposeOnDone) => {\n          return comm_promise.then((comm) => {\n            comm.send(data, metadata, buffers, disposeOnDone);\n          });\n        };\n        var comm = {\n          send: sendClosure\n        };\n      }\n      window.PyViz.comms[comm_id] = comm;\n      return comm;\n    }\n    window.PyViz.comm_manager = new JupyterCommManager();\n    \n\n\nvar JS_MIME_TYPE = 'application/javascript';\nvar HTML_MIME_TYPE = 'text/html';\nvar EXEC_MIME_TYPE = 'application/vnd.holoviews_exec.v0+json';\nvar CLASS_NAME = 'output';\n\n/**\n * Render data to the DOM node\n */\nfunction render(props, node) {\n  var div = document.createElement(\"div\");\n  var script = document.createElement(\"script\");\n  node.appendChild(div);\n  node.appendChild(script);\n}\n\n/**\n * Handle when a new output is added\n */\nfunction handle_add_output(event, handle) {\n  var output_area = handle.output_area;\n  var output = handle.output;\n  if ((output.data == undefined) || (!output.data.hasOwnProperty(EXEC_MIME_TYPE))) {\n    return\n  }\n  var id = output.metadata[EXEC_MIME_TYPE][\"id\"];\n  var toinsert = output_area.element.find(\".\" + CLASS_NAME.split(' ')[0]);\n  if (id !== undefined) {\n    var nchildren = toinsert.length;\n    var html_node = toinsert[nchildren-1].children[0];\n    html_node.innerHTML = output.data[HTML_MIME_TYPE];\n    var scripts = [];\n    var nodelist = html_node.querySelectorAll(\"script\");\n    for (var i in nodelist) {\n      if (nodelist.hasOwnProperty(i)) {\n        scripts.push(nodelist[i])\n      }\n    }\n\n    scripts.forEach( function (oldScript) {\n      var newScript = document.createElement(\"script\");\n      var attrs = [];\n      var nodemap = oldScript.attributes;\n      for (var j in nodemap) {\n        if (nodemap.hasOwnProperty(j)) {\n          attrs.push(nodemap[j])\n        }\n      }\n      attrs.forEach(function(attr) { newScript.setAttribute(attr.name, attr.value) });\n      newScript.appendChild(document.createTextNode(oldScript.innerHTML));\n      oldScript.parentNode.replaceChild(newScript, oldScript);\n    });\n    if (JS_MIME_TYPE in output.data) {\n      toinsert[nchildren-1].children[1].textContent = output.data[JS_MIME_TYPE];\n    }\n    output_area._hv_plot_id = id;\n    if ((window.Bokeh !== undefined) && (id in Bokeh.index)) {\n      window.PyViz.plot_index[id] = Bokeh.index[id];\n    } else {\n      window.PyViz.plot_index[id] = null;\n    }\n  } else if (output.metadata[EXEC_MIME_TYPE][\"server_id\"] !== undefined) {\n    var bk_div = document.createElement(\"div\");\n    bk_div.innerHTML = output.data[HTML_MIME_TYPE];\n    var script_attrs = bk_div.children[0].attributes;\n    for (var i = 0; i < script_attrs.length; i++) {\n      toinsert[toinsert.length - 1].childNodes[1].setAttribute(script_attrs[i].name, script_attrs[i].value);\n    }\n    // store reference to server id on output_area\n    output_area._bokeh_server_id = output.metadata[EXEC_MIME_TYPE][\"server_id\"];\n  }\n}\n\n/**\n * Handle when an output is cleared or removed\n */\nfunction handle_clear_output(event, handle) {\n  var id = handle.cell.output_area._hv_plot_id;\n  var server_id = handle.cell.output_area._bokeh_server_id;\n  if (((id === undefined) || !(id in PyViz.plot_index)) && (server_id !== undefined)) { return; }\n  var comm = window.PyViz.comm_manager.get_client_comm(\"hv-extension-comm\", \"hv-extension-comm\", function () {});\n  if (server_id !== null) {\n    comm.send({event_type: 'server_delete', 'id': server_id});\n    return;\n  } else if (comm !== null) {\n    comm.send({event_type: 'delete', 'id': id});\n  }\n  delete PyViz.plot_index[id];\n  if ((window.Bokeh !== undefined) & (id in window.Bokeh.index)) {\n    var doc = window.Bokeh.index[id].model.document\n    doc.clear();\n    const i = window.Bokeh.documents.indexOf(doc);\n    if (i > -1) {\n      window.Bokeh.documents.splice(i, 1);\n    }\n  }\n}\n\n/**\n * Handle kernel restart event\n */\nfunction handle_kernel_cleanup(event, handle) {\n  delete PyViz.comms[\"hv-extension-comm\"];\n  window.PyViz.plot_index = {}\n}\n\n/**\n * Handle update_display_data messages\n */\nfunction handle_update_output(event, handle) {\n  handle_clear_output(event, {cell: {output_area: handle.output_area}})\n  handle_add_output(event, handle)\n}\n\nfunction register_renderer(events, OutputArea) {\n  function append_mime(data, metadata, element) {\n    // create a DOM node to render to\n    var toinsert = this.create_output_subarea(\n    metadata,\n    CLASS_NAME,\n    EXEC_MIME_TYPE\n    );\n    this.keyboard_manager.register_events(toinsert);\n    // Render to node\n    var props = {data: data, metadata: metadata[EXEC_MIME_TYPE]};\n    render(props, toinsert[0]);\n    element.append(toinsert);\n    return toinsert\n  }\n\n  events.on('output_added.OutputArea', handle_add_output);\n  events.on('output_updated.OutputArea', handle_update_output);\n  events.on('clear_output.CodeCell', handle_clear_output);\n  events.on('delete.Cell', handle_clear_output);\n  events.on('kernel_ready.Kernel', handle_kernel_cleanup);\n\n  OutputArea.prototype.register_mime_type(EXEC_MIME_TYPE, append_mime, {\n    safe: true,\n    index: 0\n  });\n}\n\nif (window.Jupyter !== undefined) {\n  try {\n    var events = require('base/js/events');\n    var OutputArea = require('notebook/js/outputarea').OutputArea;\n    if (OutputArea.prototype.mime_types().indexOf(EXEC_MIME_TYPE) == -1) {\n      register_renderer(events, OutputArea);\n    }\n  } catch(err) {\n  }\n}\n",
      "application/vnd.holoviews_load.v0+json": ""
     },
     "metadata": {},
     "output_type": "display_data"
    },
    {
     "data": {
      "text/html": [
       "<img src='data:image/png;base64,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' style='max-width:100%; margin: auto; display: block; '/>"
      ],
      "text/plain": [
       ":NdOverlay   [Variable]\n",
       "   :Curve   [index]   (value)"
      ]
     },
     "execution_count": 5,
     "metadata": {
      "application/vnd.holoviews_exec.v0+json": {}
     },
     "output_type": "execute_result"
    }
   ],
   "source": [
    "import polars as pl\n",
    "import hvplot.polars\n",
    "hvplot.extension('matplotlib')\n",
    "\n",
    "pl.DataFrame(fcst.simulations.values.squeeze().T).hvplot() # 3 forecasted paths with horizon 50"
   ]
  },
  {
   "cell_type": "markdown",
   "metadata": {},
   "source": [
    "<!-- ## Zooming in: the result summary\n",
    "\n",
    "There are plenty of information in the summary. Most of them should be self-explanatory if one is familiar with basic terminology of statistical inference. Notice that the model we defind is `GARCH`, where \"G\" stands for \"Generalised\". A typical GARCH process is GARCH(1,1) defined through the specification: \n",
    "$$\\mathrm{Var}[Y_t| \\mathcal F_{t-1}] = \\omega + \\alpha Y_{t-1}^2 + \\beta \\mathrm{Var}[Y_{t-1}| \\mathcal F_{t-2}].$$ -->\n"
   ]
  },
  {
   "cell_type": "markdown",
   "metadata": {},
   "source": [
    "## Mean model and noise distribution"
   ]
  },
  {
   "cell_type": "markdown",
   "metadata": {},
   "source": [
    "By default the noise distribution is standard normal. \n",
    "Another popular choice is t distribution where the degree of freedom $\\nu$ is a model parameter.    \n",
    "One can also change the mean to be non-zero. The model spec is as follows \n",
    "$$\n",
    "\\begin{align*}\n",
    "Y_t &= \\mu + \\sigma_t W_t \\\\  \n",
    "\\sigma_t^2 &= \\omega+ \\alpha (Y_{t-1}-\\mu)^2\n",
    "\\end{align*}\n",
    "$$\n",
    "where $W_t$ is iid with t distribution. \n",
    "\n",
    "In `arch`, it suffices to set `mean=\"constant\"` and `dist=\"t\"` in the constructor.  "
   ]
  },
  {
   "cell_type": "code",
   "execution_count": 6,
   "metadata": {},
   "outputs": [
    {
     "data": {
      "text/plain": [
       "                         Constant Mean - ARCH Model Results                         \n",
       "====================================================================================\n",
       "Dep. Variable:                            y   R-squared:                       0.000\n",
       "Mean Model:                   Constant Mean   Adj. R-squared:                  0.000\n",
       "Vol Model:                             ARCH   Log-Likelihood:               -2679.58\n",
       "Distribution:      Standardized Student's t   AIC:                           5367.17\n",
       "Method:                  Maximum Likelihood   BIC:                           5384.03\n",
       "                                              No. Observations:                  500\n",
       "Date:                      Tue, Oct 15 2024   Df Residuals:                      499\n",
       "Time:                              20:37:22   Df Model:                            1\n",
       "                               Mean Model                               \n",
       "========================================================================\n",
       "                 coef    std err          t      P>|t|  95.0% Conf. Int.\n",
       "------------------------------------------------------------------------\n",
       "mu            27.9482      1.487     18.797  7.917e-79 [ 25.034, 30.862]\n",
       "                              Volatility Model                              \n",
       "============================================================================\n",
       "                 coef    std err          t      P>|t|      95.0% Conf. Int.\n",
       "----------------------------------------------------------------------------\n",
       "omega       1557.7431    401.680      3.878  1.053e-04 [7.705e+02,2.345e+03]\n",
       "alpha[1]       1.0000      0.263      3.798  1.460e-04     [  0.484,  1.516]\n",
       "                              Distribution                              \n",
       "========================================================================\n",
       "                 coef    std err          t      P>|t|  95.0% Conf. Int.\n",
       "------------------------------------------------------------------------\n",
       "nu             3.3891      0.357      9.480  2.536e-21 [  2.688,  4.090]\n",
       "========================================================================\n",
       "\n",
       "Covariance estimator: robust\n",
       "ARCHModelResult, id: 0x758470203050"
      ]
     },
     "execution_count": 6,
     "metadata": {},
     "output_type": "execute_result"
    }
   ],
   "source": [
    "arch_model(y=y+30, mean=\"constant\", q=0, dist='t').fit(disp=\"off\")"
   ]
  },
  {
   "cell_type": "markdown",
   "metadata": {},
   "source": [
    "Why stop here? We can also allow the conditonal mean of $Y_t$ given history to vary with time as well, one simplest choice would be to \n",
    "assume AR dynamic for the conditional mean\n",
    "$$\n",
    "\\begin{align*}\n",
    "Y_t &= \\mu + \\phi (Y_{t-1} - \\mu) + \\sigma_t W_t \\\\  \n",
    "\\sigma_t^2 &= \\omega+ \\alpha (Y_{t-1}-\\mu)^2\n",
    "\\end{align*}\n",
    "$$\n",
    "where as before $W_t$ is iid normal by default. \n",
    "\n",
    "In code, just set `mean=\"AR\"` and `lags=[1]` where 1 is as in AR(1) for the conditional mean.  "
   ]
  },
  {
   "cell_type": "code",
   "execution_count": 7,
   "metadata": {},
   "outputs": [
    {
     "data": {
      "text/plain": [
       "                           AR - ARCH Model Results                            \n",
       "==============================================================================\n",
       "Dep. Variable:                      y   R-squared:                      -0.009\n",
       "Mean Model:                        AR   Adj. R-squared:                 -0.011\n",
       "Vol Model:                       ARCH   Log-Likelihood:               -2713.60\n",
       "Distribution:                  Normal   AIC:                           5435.21\n",
       "Method:            Maximum Likelihood   BIC:                           5452.06\n",
       "                                        No. Observations:                  499\n",
       "Date:                Tue, Oct 15 2024   Df Residuals:                      497\n",
       "Time:                        20:37:22   Df Model:                            2\n",
       "                               Mean Model                               \n",
       "========================================================================\n",
       "                 coef    std err          t      P>|t|  95.0% Conf. Int.\n",
       "------------------------------------------------------------------------\n",
       "Const         27.0714      2.670     10.138  3.746e-24 [ 21.838, 32.305]\n",
       "y[1]          -0.0280  8.163e-02     -0.343      0.731 [ -0.188,  0.132]\n",
       "                              Volatility Model                              \n",
       "============================================================================\n",
       "                 coef    std err          t      P>|t|      95.0% Conf. Int.\n",
       "----------------------------------------------------------------------------\n",
       "omega       1947.6921    445.220      4.375  1.216e-05 [1.075e+03,2.820e+03]\n",
       "alpha[1]       0.5807      0.247      2.351  1.873e-02   [9.656e-02,  1.065]\n",
       "============================================================================\n",
       "\n",
       "Covariance estimator: robust\n",
       "ARCHModelResult, id: 0x758470216a20"
      ]
     },
     "execution_count": 7,
     "metadata": {},
     "output_type": "execute_result"
    }
   ],
   "source": [
    "arch_model(y=y+30, mean=\"AR\", q=0, lags=[1]).fit(disp=\"off\")"
   ]
  },
  {
   "cell_type": "markdown",
   "metadata": {},
   "source": [
    "as before, we can inspect the result container and forecast container as follows"
   ]
  },
  {
   "cell_type": "code",
   "execution_count": 8,
   "metadata": {},
   "outputs": [],
   "source": [
    "res = arch_model(y+30, mean=\"AR\", q=0, lags=[1]).fit(disp=\"off\")\n",
    "fcst = res.forecast(horizon=5)"
   ]
  },
  {
   "cell_type": "markdown",
   "metadata": {},
   "source": [
    "notice the difference of `resid` and `std_resid`, as well as the diff between `variance` and `residual_variance`"
   ]
  },
  {
   "cell_type": "code",
   "execution_count": 9,
   "metadata": {},
   "outputs": [
    {
     "data": {
      "text/plain": [
       "(np.float64(58.66084093396231), np.float64(0.9985090629605182))"
      ]
     },
     "execution_count": 9,
     "metadata": {},
     "output_type": "execute_result"
    }
   ],
   "source": [
    "res.resid[1:].std(), res.std_resid[1:].std()"
   ]
  },
  {
   "cell_type": "code",
   "execution_count": 10,
   "metadata": {},
   "outputs": [
    {
     "data": {
      "text/html": [
       "<div>\n",
       "<style scoped>\n",
       "    .dataframe tbody tr th:only-of-type {\n",
       "        vertical-align: middle;\n",
       "    }\n",
       "\n",
       "    .dataframe tbody tr th {\n",
       "        vertical-align: top;\n",
       "    }\n",
       "\n",
       "    .dataframe thead th {\n",
       "        text-align: right;\n",
       "    }\n",
       "</style>\n",
       "<table border=\"1\" class=\"dataframe\">\n",
       "  <thead>\n",
       "    <tr style=\"text-align: right;\">\n",
       "      <th></th>\n",
       "      <th>h.1</th>\n",
       "      <th>h.2</th>\n",
       "      <th>h.3</th>\n",
       "      <th>h.4</th>\n",
       "      <th>h.5</th>\n",
       "    </tr>\n",
       "  </thead>\n",
       "  <tbody>\n",
       "    <tr>\n",
       "      <th>499</th>\n",
       "      <td>23353.942452</td>\n",
       "      <td>15527.507157</td>\n",
       "      <td>10965.954024</td>\n",
       "      <td>8317.077882</td>\n",
       "      <td>6778.893468</td>\n",
       "    </tr>\n",
       "  </tbody>\n",
       "</table>\n",
       "</div>"
      ],
      "text/plain": [
       "              h.1           h.2           h.3          h.4          h.5\n",
       "499  23353.942452  15527.507157  10965.954024  8317.077882  6778.893468"
      ]
     },
     "execution_count": 10,
     "metadata": {},
     "output_type": "execute_result"
    }
   ],
   "source": [
    "fcst.variance"
   ]
  },
  {
   "cell_type": "code",
   "execution_count": 11,
   "metadata": {},
   "outputs": [
    {
     "data": {
      "text/html": [
       "<div>\n",
       "<style scoped>\n",
       "    .dataframe tbody tr th:only-of-type {\n",
       "        vertical-align: middle;\n",
       "    }\n",
       "\n",
       "    .dataframe tbody tr th {\n",
       "        vertical-align: top;\n",
       "    }\n",
       "\n",
       "    .dataframe thead th {\n",
       "        text-align: right;\n",
       "    }\n",
       "</style>\n",
       "<table border=\"1\" class=\"dataframe\">\n",
       "  <thead>\n",
       "    <tr style=\"text-align: right;\">\n",
       "      <th></th>\n",
       "      <th>h.1</th>\n",
       "      <th>h.2</th>\n",
       "      <th>h.3</th>\n",
       "      <th>h.4</th>\n",
       "      <th>h.5</th>\n",
       "    </tr>\n",
       "  </thead>\n",
       "  <tbody>\n",
       "    <tr>\n",
       "      <th>499</th>\n",
       "      <td>23353.942452</td>\n",
       "      <td>15509.168033</td>\n",
       "      <td>10953.760756</td>\n",
       "      <td>8308.466659</td>\n",
       "      <td>6772.362326</td>\n",
       "    </tr>\n",
       "  </tbody>\n",
       "</table>\n",
       "</div>"
      ],
      "text/plain": [
       "              h.1           h.2           h.3          h.4          h.5\n",
       "499  23353.942452  15509.168033  10953.760756  8308.466659  6772.362326"
      ]
     },
     "execution_count": 11,
     "metadata": {},
     "output_type": "execute_result"
    }
   ],
   "source": [
    "fcst.residual_variance"
   ]
  },
  {
   "cell_type": "markdown",
   "metadata": {},
   "source": [
    "## Generalized ARCH (GARCH)\n",
    "\n",
    "Another generalization of the ARCH model focuses on the conditonal variance specification itself, rather than the conditional mean and the noise distribution. \n",
    "The most prominent example along this line of thinking is the GARCH family, which in its simplest form (zero mean model and lag 1) is specified as follows \n",
    "$$\n",
    "\\begin{align*}\n",
    "Y_t &=  \\sigma_t W_t \\\\\n",
    "\\sigma_{t}^2 &= \\omega + \\alpha Y_{t-1}^2 + \\beta \\sigma_{t-1}^2 \n",
    "\\end{align*}\n",
    "$$\n",
    "The difference lies in the additional beta parameter which specifies a dependence of the conditional variance on the conditional variance of previous timestamp.\n",
    "\n",
    "GARCH generalizing ARCH is similar to the way ARMA generalizes AR. \n"
   ]
  },
  {
   "cell_type": "markdown",
   "metadata": {},
   "source": [
    "## Introducing `archette`\n",
    "\n",
    "`archette` is a simplified implementation of the zero mean GARCH model with iid Gaussian noise. \n",
    "\n",
    "The existing `arch` library is amazing and covers many popular GARCH-type models. \n",
    "`archette` is not meant to replace `arch` in any way, after all, it supports only a very particular model (undoubtedly a very important one).\n",
    "\n",
    "The goal of `archette` is to reduce the complexity of `arch` (e.g. all the class hierarchy) to highlight only the essence of GARCH model.\n",
    "It is meant to be super hackable so that one can build variants of GARCH models by modifying parts of the source code of `archette`.\n",
    "\n",
    "There is only one class `GARCHETTE` in `archette` which implements the methods:\n",
    "\n",
    "- fit\n",
    "- nll\n",
    "- forecast_vs\n",
    "- simulate\n",
    "\n",
    "and the properties\n",
    "\n",
    "- vs\n",
    "- std_resids\n",
    "- params\n",
    "\n",
    "The API is simple. States are maintained in the instances of the main class rahter than delegated to separate container classes. \n",
    "\n",
    "Here is how one can fit a model and inspect the fitted parameters and the corresponding negative log likelihood. "
   ]
  },
  {
   "cell_type": "code",
   "execution_count": 12,
   "metadata": {},
   "outputs": [],
   "source": [
    "from archette import GARCHETTE"
   ]
  },
  {
   "cell_type": "code",
   "execution_count": 13,
   "metadata": {},
   "outputs": [
    {
     "data": {
      "text/plain": [
       "<archette.core.GARCHETTE at 0x75846af288f0>"
      ]
     },
     "execution_count": 13,
     "metadata": {},
     "output_type": "execute_result"
    }
   ],
   "source": [
    "rng = np.random.default_rng()\n",
    "y = rng.standard_normal(500) * np.arange(500)\n",
    "mod = GARCHETTE()\n",
    "mod.fit(y)"
   ]
  },
  {
   "cell_type": "code",
   "execution_count": 14,
   "metadata": {},
   "outputs": [
    {
     "data": {
      "text/plain": [
       "array([1.81808314e+02, 1.78658879e-01, 8.21341121e-01])"
      ]
     },
     "execution_count": 14,
     "metadata": {},
     "output_type": "execute_result"
    }
   ],
   "source": [
    "mod.params"
   ]
  },
  {
   "cell_type": "code",
   "execution_count": 15,
   "metadata": {},
   "outputs": [
    {
     "data": {
      "text/plain": [
       "np.float64(5844.282166604636)"
      ]
     },
     "execution_count": 15,
     "metadata": {},
     "output_type": "execute_result"
    }
   ],
   "source": [
    "mod.nll(mod.params)"
   ]
  },
  {
   "cell_type": "markdown",
   "metadata": {},
   "source": [
    "#### Model fitting\n",
    "\n",
    "The `fit` method calls under the hood the `minimize` function in `scipy.optimize` module to minimize the negative log likelihood (`nll`). \n",
    "\n",
    "Let $f$ denote the joint distribution of time series $y$. \n",
    "By successive conditioning, one can write the nll as\n",
    "$$\n",
    "-\\log f(y) = - \\log f_\\theta(y_0) - \\sum_{t=1}^{T} \\log f_{\\theta}(y_t | y_{[0,t-1]})\n",
    "$$\n",
    "where $y_{[0,t-1]}:= (y_0, ..., y_{t-1})$ and $\\theta$ is the parameter.\n",
    "\n",
    "Since the marginal distribution at time 0 is unknown, one typically remove the first term and minimize $-\\log f(y|y_0)$ instead\n",
    "$$\n",
    "-\\log f(y|y_0) = - \\sum_{t=1}^{T} \\log f_{\\theta}(y_t | y_{[0,t-1]})\n",
    "$$\n",
    "By Gaussian noise assumption and lag 1, we have, up to some unimportant additive constant, \n",
    "$$\n",
    "- \\log f_{\\theta}(y_t | y_{[0,t-1]}) = - \\log f_{\\theta}(y_t | y_{t-1}) = \\frac{1}{2}\\Big(\\log v_t +  \\frac{y_t^2}{v_t}\\Big) \n",
    "$$\n",
    "where $v_t$ is the conditional variance of $y_t$ given $y_{t-1}$ (which is denoted by $\\sigma_t^2$ before). \n",
    "\n",
    "Notice that $v_0$ is not observable, hence one needs to set a sensible initial value, e.g. sample variance of $y$. \n",
    "\n",
    "We define two helper functions, one computes the sequence $v$, the other the nll. "
   ]
  },
  {
   "cell_type": "code",
   "execution_count": 16,
   "metadata": {},
   "outputs": [],
   "source": [
    "def _get_vs(y, params, sig2_init):\n",
    "    \"\"\"\n",
    "    compute conditional variance by recursion of the GARCH specification\n",
    "    \"\"\"\n",
    "    om,al,be = params\n",
    "    vs = np.zeros(y.size)\n",
    "    vs[0] = sig2_init\n",
    "    for i in range(1,y.size):\n",
    "        vs[i] = om + al * y[i-1]**2 + be * vs[i-1]\n",
    "    return vs"
   ]
  },
  {
   "cell_type": "code",
   "execution_count": 17,
   "metadata": {},
   "outputs": [],
   "source": [
    "def _nllgauss(y,params,sig2_init):\n",
    "    \"\"\"\n",
    "    compute nll of GARCH(1,1) with zero conditional mean and gaussian noise\n",
    "    \"\"\"\n",
    "    vs = _get_vs(y,params, sig2_init)\n",
    "    nll =  np.log(vs) + y**2 / vs\n",
    "    return nll.sum()"
   ]
  },
  {
   "cell_type": "markdown",
   "metadata": {},
   "source": [
    "Now we are in a place to start writing the main class. "
   ]
  },
  {
   "cell_type": "code",
   "execution_count": 18,
   "metadata": {},
   "outputs": [],
   "source": [
    "from scipy.optimize import minimize"
   ]
  },
  {
   "cell_type": "code",
   "execution_count": 19,
   "metadata": {},
   "outputs": [],
   "source": [
    "class GARCHETTE:\n",
    "    \"\"\"simple garch model\"\"\"\n",
    "    def __init__(self):\n",
    "        self._y = None\n",
    "        self.params = None\n",
    "        self._is_fit = False\n",
    "        self._v_init = None\n",
    "\n",
    "    def fit(self,y:np.ndarray):\n",
    "        \"\"\"fit y to garch\"\"\"\n",
    "        self._y = y\n",
    "        self._v_init = y.var()  \n",
    "        self._is_fit = True\n",
    "        func = self.nll\n",
    "        self.params = minimize(\n",
    "            func, \n",
    "            x0=(self._v_init * 0.4,0.3,0.3), \n",
    "            bounds=[(0,None), (0,None), (0,None)],\n",
    "            constraints= {\n",
    "                \"type\": \"ineq\",\n",
    "                \"fun\": lambda x: 1-x[1]-x[2]\n",
    "            }\n",
    "         ).x\n",
    "        return self\n",
    "    \n",
    "    def nll(self, params)-> float:\n",
    "        \"\"\"negative log likelihood of the series at the given params\"\"\"\n",
    "        assert self._is_fit\n",
    "        return _nllgauss(self._y, params, self._v_init)\n",
    "    \n",
    "    @property\n",
    "    def vs(self):\n",
    "        return _get_vs(self._y, self.params, self._v_init)"
   ]
  },
  {
   "cell_type": "markdown",
   "metadata": {},
   "source": [
    "We see that the method `nll` and property `vs` are just wrappers around the helper functions that we just defined. \n",
    "The `fit` method, though, needs some attention. \n",
    "For the minimization of nll, apart from the objective function `nll` and initial value `x0`,\n",
    " it is also necessary to set bounds and constraints for the variables of `nll`. \n",
    " We impose the parameters to be non-negative because the sequence `v` must be non-negative (as squares). \n",
    " Also we need  \n",
    " $$\n",
    "\\alpha + \\beta <1 \n",
    " $$ \n",
    " because it is the necessary and sufficnet condition for the stationary of GARCH(1,1) model. \n",
    " Having these constraints are essential for the optimization to work. \n",
    " Finally, we made an educated guess for the initial value: we set the initial values $\\alpha=\\beta=0.3$ to leave some space to the boundary of \n",
    " the constrained parameter space. \n",
    " The initial value for $\\omega$ is set based on an important fact about the long term conditional variance: for any $t$, as $T\\to\\infty$:\n",
    " $$\n",
    " \\mathbb E[Y_{t+T}^2| \\mathcal F_t] \\to \\frac{\\omega}{1-\\alpha-\\beta} \n",
    " $$\n",
    " If we believe that the sample variance of `y` approaches the long term conditonal variance, then initialize `om=(1-0.3-0.3)* y.var()` is indeed sensible. "
   ]
  },
  {
   "cell_type": "markdown",
   "metadata": {},
   "source": [
    "Now it remains to forecast variances (or equivalently the conditional volatility) and simualte paths. \n",
    "For variance forecast, the recursion for $h\\ge 2$ is simpler than that of the GARCH specification:\n",
    "$$\n",
    "\\mathbb E[Y^2_{t+h}| \\mathcal F_t] = \\omega  + \\alpha \\mathbb E[Y^2_{t+h-1}|\\mathcal F_{t}] + \\beta \\mathbb E[\\sigma^2_{t+h-1}|\\mathcal F_{t}]\n",
    "= \\omega  + (\\alpha +\\beta) \\mathbb E[Y^2_{t+h-1}|\\mathcal F_{t}] \n",
    "$$\n",
    "This leads to "
   ]
  },
  {
   "cell_type": "code",
   "execution_count": 20,
   "metadata": {},
   "outputs": [],
   "source": [
    "def _make_fcst_vs(params,last_v, last_y, horizon):\n",
    "    om,al,be = params\n",
    "    fcst_vs = np.empty(horizon)\n",
    "    fcst_vs[0] = om + al* last_y**2 + be* last_v\n",
    "    for i in range(1,horizon):\n",
    "        fcst_vs[i] = om + (al+be) * fcst_vs[i-1]\n",
    "    return fcst_vs"
   ]
  },
  {
   "cell_type": "markdown",
   "metadata": {},
   "source": [
    "The simulation helper function is rather straightforward. We leave the possibility of specifying noises `ws` to the user. "
   ]
  },
  {
   "cell_type": "code",
   "execution_count": 21,
   "metadata": {},
   "outputs": [],
   "source": [
    "def _simulate(params, last_y, last_v, horizon, n_rep, seed, ws=None):\n",
    "    om,al,be = params\n",
    "    if ws is None:\n",
    "        np.random.seed(seed)\n",
    "        ws = np.random.randn(n_rep,horizon)\n",
    "    y = np.empty((n_rep, horizon+1))\n",
    "    v = np.empty((n_rep, horizon+1))\n",
    "    y[:,0] = last_y\n",
    "    v[:,0] = last_v\n",
    "    for i in range(1,horizon+1):\n",
    "        v[:,i] = om + al* y[:,i-1]**2 + be * v[:,i-1]\n",
    "        y[:,i] = np.sqrt(v[:,i]) * ws[:,i-1]\n",
    "    return y[:,1:]"
   ]
  },
  {
   "cell_type": "markdown",
   "metadata": {},
   "source": [
    "Combining everything, here is our main class"
   ]
  },
  {
   "cell_type": "code",
   "execution_count": 22,
   "metadata": {},
   "outputs": [],
   "source": [
    "from typing import Literal\n",
    "\n",
    "\n",
    "class GARCHETTE:\n",
    "    \"\"\"simple garch model\"\"\"\n",
    "    def __init__(self):\n",
    "        self._y = None\n",
    "        self.params = None\n",
    "        self._is_fit = False\n",
    "        self._v_init = None\n",
    "\n",
    "    def fit(self,y:np.ndarray):\n",
    "        \"\"\"fit y to garch\"\"\"\n",
    "        self._y = y\n",
    "        self._v_init = y.var()  \n",
    "        self._is_fit = True\n",
    "        func = self.nll\n",
    "        self.params = minimize(\n",
    "            func, \n",
    "            x0=(self._v_init * 0.4,0.3,0.3), \n",
    "            bounds=[(0,None), (0,None), (0,None)],\n",
    "            constraints= {\n",
    "                \"type\": \"ineq\",\n",
    "                \"fun\": lambda x: 1-x[1]-x[2]\n",
    "            }\n",
    "         ).x\n",
    "        return self\n",
    "    \n",
    "    def nll(self, params)-> float:\n",
    "        \"\"\"negative log likelihood of the series at the given params\"\"\"\n",
    "        assert self._is_fit\n",
    "        return _nllgauss(self._y, params, self._v_init)\n",
    "    \n",
    "    @property\n",
    "    def vs(self):\n",
    "        assert self._is_fit\n",
    "        return _get_vs(self._y, self.params, self._v_init)\n",
    "    \n",
    "    @property\n",
    "    def std_resids(self):\n",
    "        assert self._is_fit\n",
    "        return y/ np.sqrt(self.vs)\n",
    "\n",
    "    def forecast_vs(self, \n",
    "                    horizon:int\n",
    "                    ) -> np.ndarray:\n",
    "        \"\"\"forecast conditional variance in the horizon\"\"\"\n",
    "        assert self._is_fit\n",
    "        return _make_fcst_vs(self.params, self.vs[-1], self._y[-1], horizon)\n",
    "\n",
    "    def simulate(self, \n",
    "                    horizon:int, # path length\n",
    "                    method:Literal[\"bootstrap\",\"simulate\"]=\"simulate\",# \"bootstrap\" resamples from past std_resids; \"simulate\" simulates gaussian nosie\n",
    "                    n_rep=1_000, # number of repetitions\n",
    "                    seed=42) -> np.ndarray: \n",
    "        assert self._is_fit\n",
    "        if method == \"bootstrap\":\n",
    "            np.random.seed(seed)\n",
    "            ws = np.random.choice(self.std_resids, size=(n_rep, horizon),replace=True)\n",
    "        else: ws=None\n",
    "        return _simulate(self.params,self._y[-1], self.vs[-1], horizon, n_rep, seed, ws)"
   ]
  },
  {
   "cell_type": "markdown",
   "metadata": {},
   "source": [
    "## Testing "
   ]
  },
  {
   "cell_type": "markdown",
   "metadata": {},
   "source": [
    "We define GARCH model with both `arch` and `archette`, we see that when the model is mis-specified, the MLE found different  parameters. "
   ]
  },
  {
   "cell_type": "code",
   "execution_count": 23,
   "metadata": {},
   "outputs": [],
   "source": [
    "mod_arch = arch_model(y, mean='zero', dist='normal', rescale=False).fit(disp='off')\n",
    "mod_archette = GARCHETTE().fit(y)"
   ]
  },
  {
   "cell_type": "code",
   "execution_count": 24,
   "metadata": {},
   "outputs": [
    {
     "data": {
      "text/plain": [
       "omega       36.446855\n",
       "alpha[1]     0.053328\n",
       "beta[1]      0.946672\n",
       "Name: params, dtype: float64"
      ]
     },
     "execution_count": 24,
     "metadata": {},
     "output_type": "execute_result"
    }
   ],
   "source": [
    "mod_arch.params"
   ]
  },
  {
   "cell_type": "code",
   "execution_count": 25,
   "metadata": {},
   "outputs": [
    {
     "data": {
      "text/plain": [
       "array([1.81808314e+02, 1.78658879e-01, 8.21341121e-01])"
      ]
     },
     "execution_count": 25,
     "metadata": {},
     "output_type": "execute_result"
    }
   ],
   "source": [
    "mod_archette.params"
   ]
  },
  {
   "cell_type": "markdown",
   "metadata": {},
   "source": [
    "What if model is well specified ?"
   ]
  },
  {
   "cell_type": "code",
   "execution_count": 26,
   "metadata": {},
   "outputs": [],
   "source": [
    "y_sim = mod_archette.simulate(horizon=500, n_rep =1, seed=89).squeeze()"
   ]
  },
  {
   "cell_type": "code",
   "execution_count": 27,
   "metadata": {},
   "outputs": [
    {
     "data": {
      "text/plain": [
       "omega       864.198887\n",
       "alpha[1]      0.186017\n",
       "beta[1]       0.776968\n",
       "Name: params, dtype: float64"
      ]
     },
     "execution_count": 27,
     "metadata": {},
     "output_type": "execute_result"
    }
   ],
   "source": [
    "arch_model(y_sim, mean='zero', dist='normal', rescale=False).fit(disp='off').params"
   ]
  },
  {
   "cell_type": "code",
   "execution_count": 28,
   "metadata": {},
   "outputs": [
    {
     "data": {
      "text/plain": [
       "array([8.54615038e+02, 1.81551901e-01, 7.80574996e-01])"
      ]
     },
     "execution_count": 28,
     "metadata": {},
     "output_type": "execute_result"
    }
   ],
   "source": [
    "GARCHETTE().fit(y_sim).params"
   ]
  },
  {
   "cell_type": "markdown",
   "metadata": {},
   "source": [
    "The estimated parameters using `arch` and `archette` are quite close!"
   ]
  }
 ],
 "metadata": {
  "kernelspec": {
   "display_name": "Python 3",
   "language": "python",
   "name": "python3"
  },
  "language_info": {
   "codemirror_mode": {
    "name": "ipython",
    "version": 3
   },
   "file_extension": ".py",
   "mimetype": "text/x-python",
   "name": "python",
   "nbconvert_exporter": "python",
   "pygments_lexer": "ipython3",
   "version": "3.12.1"
  }
 },
 "nbformat": 4,
 "nbformat_minor": 2
}
